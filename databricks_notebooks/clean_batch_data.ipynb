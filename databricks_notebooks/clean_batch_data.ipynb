{
 "cells": [
  {
   "cell_type": "markdown",
   "metadata": {},
   "source": [
    "The following code in this notebook was added to the 'mount_s3_and_get_data' notebook on the Databricks platform and used to clean the dataframes created by running that notebook."
   ]
  },
  {
   "cell_type": "markdown",
   "metadata": {},
   "source": [
    "## Clean df_pin dataframe"
   ]
  },
  {
   "cell_type": "code",
   "execution_count": null,
   "metadata": {
    "application/vnd.databricks.v1+cell": {
     "cellMetadata": {
      "byteLimit": 2048000,
      "rowLimit": 10000
     },
     "inputWidgets": {},
     "nuid": "9cfb6d2b-50e9-46bd-b30e-070de5a04895",
     "showTitle": false,
     "title": ""
    }
   },
   "outputs": [
    {
     "data": {
      "text/html": [
       "<style scoped>\n",
       "  .ansiout {\n",
       "    display: block;\n",
       "    unicode-bidi: embed;\n",
       "    white-space: pre-wrap;\n",
       "    word-wrap: break-word;\n",
       "    word-break: break-all;\n",
       "    font-family: \"Source Code Pro\", \"Menlo\", monospace;;\n",
       "    font-size: 13px;\n",
       "    color: #555;\n",
       "    margin-left: 4px;\n",
       "    line-height: 19px;\n",
       "  }\n",
       "</style>\n",
       "<div class=\"ansiout\"></div>"
      ]
     },
     "metadata": {
      "application/vnd.databricks.v1+output": {
       "addedWidgets": {},
       "arguments": {},
       "data": "<div class=\"ansiout\"></div>",
       "datasetInfos": [],
       "metadata": {},
       "removedWidgets": [],
       "type": "html"
      }
     },
     "output_type": "display_data"
    }
   ],
   "source": [
    "def add_nulls_to_dataframe_column(dataframe, column, value_to_replace):\n",
    "    '''Converts matched values in column of dataframe to null based on expression'''\n",
    "    dataframe = dataframe.withColumn(column, when(col(column).like(value_to_replace), None).otherwise(col(column)))\n",
    "    return dataframe"
   ]
  },
  {
   "cell_type": "code",
   "execution_count": null,
   "metadata": {
    "application/vnd.databricks.v1+cell": {
     "cellMetadata": {
      "byteLimit": 2048000,
      "rowLimit": 10000
     },
     "inputWidgets": {},
     "nuid": "4aaef887-5508-4e9d-8c94-942cb9f86da8",
     "showTitle": false,
     "title": ""
    }
   },
   "outputs": [
    {
     "data": {
      "text/html": [
       "<style scoped>\n",
       "  .ansiout {\n",
       "    display: block;\n",
       "    unicode-bidi: embed;\n",
       "    white-space: pre-wrap;\n",
       "    word-wrap: break-word;\n",
       "    word-break: break-all;\n",
       "    font-family: \"Source Code Pro\", \"Menlo\", monospace;;\n",
       "    font-size: 13px;\n",
       "    color: #555;\n",
       "    margin-left: 4px;\n",
       "    line-height: 19px;\n",
       "  }\n",
       "</style>\n",
       "<div class=\"ansiout\"></div>"
      ]
     },
     "metadata": {
      "application/vnd.databricks.v1+output": {
       "addedWidgets": {},
       "arguments": {},
       "data": "<div class=\"ansiout\"></div>",
       "datasetInfos": [],
       "metadata": {},
       "removedWidgets": [],
       "type": "html"
      }
     },
     "output_type": "display_data"
    }
   ],
   "source": [
    "# replace empty entries and entries with no relevant data in each column with Nones\n",
    "# column names and values to change to null\n",
    "columns_and_values_for_null = {\n",
    "    \"description\": \"No description available%\",\n",
    "    \"follower_count\": \"User Info Error\",\n",
    "    \"image_src\": \"Image src error.\",\n",
    "    \"poster_name\": \"User Info Error\",\n",
    "    \"tag_list\": \"N,o, ,T,a,g,s, ,A,v,a,i,l,a,b,l,e\",\n",
    "    \"title\": \"No Title Data Available\"\n",
    "}\n",
    "# loop through dictionary, calling function with dictionary values as arguments\n",
    "for key, value in columns_and_values_for_null.items():\n",
    "    df_pin = add_nulls_to_dataframe_column(df_pin, key, value)\n",
    "# Perform the necessary transformations on the follower_count to ensure every entry is a number\n",
    "df_pin = df_pin.withColumn(\"follower_count\", regexp_replace(\"follower_count\", \"k\", \"000\"))\n",
    "df_pin = df_pin.withColumn(\"follower_count\", regexp_replace(\"follower_count\", \"M\", \"000000\"))\n",
    "# cast follower_count column to integer type\n",
    "df_pin = df_pin.withColumn(\"follower_count\", col(\"follower_count\").cast('int'))\n",
    "# convert save_location column to include only the save location path\n",
    "df_pin = df_pin.withColumn(\"save_location\", regexp_replace(\"save_location\", \"Local save in \", \"\"))\n",
    "# rename the index column to ind\n",
    "df_pin = df_pin.withColumnRenamed(\"index\", \"ind\")\n",
    "# reorder columns\n",
    "new_pin_column_order = [\n",
    "    \"ind\",\n",
    "    \"unique_id\",\n",
    "    \"title\",\n",
    "    \"description\",\n",
    "    \"follower_count\",\n",
    "    \"poster_name\",\n",
    "    \"tag_list\",\n",
    "    \"is_image_or_video\",\n",
    "    \"image_src\",\n",
    "    \"save_location\",\n",
    "    \"category\"\n",
    "]\n",
    "df_pin = df_pin.select(new_pin_column_order)"
   ]
  },
  {
   "cell_type": "code",
   "execution_count": null,
   "metadata": {},
   "outputs": [
    {
     "data": {
      "text/html": [
       "<style scoped>\n",
       "  .ansiout {\n",
       "    display: block;\n",
       "    unicode-bidi: embed;\n",
       "    white-space: pre-wrap;\n",
       "    word-wrap: break-word;\n",
       "    word-break: break-all;\n",
       "    font-family: \"Source Code Pro\", \"Menlo\", monospace;;\n",
       "    font-size: 13px;\n",
       "    color: #555;\n",
       "    margin-left: 4px;\n",
       "    line-height: 19px;\n",
       "  }\n",
       "</style>\n",
       "<div class=\"ansiout\">+-----+--------------------+---------------------+--------------------+--------------+--------------------+--------------------+-----------------+--------------------+--------------------+--------------+\n",
       "  ind|           unique_id|                title|         description|follower_count|         poster_name|            tag_list|is_image_or_video|           image_src|       save_location|      category|\n",
       "+-----+--------------------+---------------------+--------------------+--------------+--------------------+--------------------+-----------------+--------------------+--------------------+--------------+\n",
       " 6717|bc5ab9ee-505e-44f...|〚 Уютные шведские...|Традиционные швед...|        136000|PUFIK Interiors &amp;...|Scandinavian Cott...|            image|https://i.pinimg....|    /data/home-decor|    home-decor|\n",
       " 6633|d136f6bc-840d-44f...| The Cottage Journ...|6,636 Likes, 141 ...|           394|        Sarah Martin|Diy Kitchen Cabin...|            image|https://i.pinimg....|    /data/home-decor|    home-decor|\n",
       " 1706|b5c8a1b5-9e90-452...| Standing Figurine...|Features: Materia...|          5000|            Wear24-7|Merry Christmas T...|            image|https://i.pinimg....|     /data/christmas|     christmas|\n",
       " 1676|3ed92c2d-9cca-4cc...| PAUPOO™ Pre-lit A...|❤️ ❤️ MERRY CHRIS...|           784|              paupoo|Christmas Hanging...|            image|https://i.pinimg....|     /data/christmas|     christmas|\n",
       " 2482|08604f20-fa17-4b9...| FORNT PORCH CHRIS...|Christmas decorat...|         46000|Life on Summerhil...|Diy Christmas Dec...|            video|https://i.pinimg....|     /data/christmas|     christmas|\n",
       " 2430|7e16143b-d84a-40a...| 9ft Lighted Winte...|About This Item W...|          5000|            Wear24-7|Outside Christmas...|            image|https://i.pinimg....|     /data/christmas|     christmas|\n",
       " 4348|c25f8906-d9ab-414...| Surprise Birthday...|&#34;adult Surprise B...|       4000000|                Etsy|90th Birthday Car...|            image|https://i.pinimg....|/data/event-planning|event-planning|\n",
       " 6521|dd508c7e-4ff3-4a9...| Allan Copley Desi...|Description The C...|           137|Your Home, Reimag...|Glass Top End Tab...|            image|https://i.pinimg....|    /data/home-decor|    home-decor|\n",
       " 6521|dd508c7e-4ff3-4a9...| Allan Copley Desi...|Description The C...|           137|Your Home, Reimag...|Glass Top End Tab...|            image|https://i.pinimg....|    /data/home-decor|    home-decor|\n",
       "10538|5d9fa7e2-2118-444...| BC Customs (BCC) ...|By David Crane ; ...|           709|           Ricky Lee|Army Vehicles,Arm...|            image|https://i.pinimg....|      /data/vehicles|      vehicles|\n",
       " 4585|aa873546-701b-40d...| She Attaches Crys...|This fabulous DIY...|        985000|DIY Joy - Crafts,...|Cheap Favors,Wedd...|            image|https://i.pinimg....|/data/event-planning|event-planning|\n",
       "  527|ed8af037-ee87-4a8...| Blue Gold Marble ...|Marble Wall Art M...|           305|    Wall Canvas Mall|Modern Art Painti...|            image|https://i.pinimg....|           /data/art|           art|\n",
       " 2732|800c4f90-50aa-4e3...| Gingerbread Man P...|Make this cute an...|        267000|Easy Kids Crafts ...|Gingerbread Man C...|            image|https://i.pinimg....|/data/diy-and-crafts|diy-and-crafts|\n",
       " 8699|91c61561-068b-479...| @chik.tattoo on I...|Avis au intéressé...|          2000|        NoitaDesigns|Hand Tattoos,Love...|            image|https://i.pinimg....|       /data/tattoos|       tattoos|\n",
       " 4357|ccf116e9-9096-494...| First Steps in La...|Updated: January ...|          4000|EventPlanning.com...|Event Planning Qu...|            image|https://i.pinimg....|/data/event-planning|event-planning|\n",
       " 4925|662c77cd-d99a-45f...| 20FT x 10FT Blush...|20ftx10ft Blush D...|         68000|eFavormart | One-...|Pink Photography,...|            image|https://i.pinimg....|/data/event-planning|event-planning|\n",
       " 2237|81186814-b77a-4cd...| 30 Cheap Christma...|I am ready to dec...|         53000|Happily Ever Afte...|Winter Wedding Ce...|            image|https://i.pinimg....|     /data/christmas|     christmas|\n",
       " 2288|991f5083-e4f2-4ee...| 97 Farmhouse Chri...|All the farmhouse...|         91000|Kristen | Lifesty...|Christmas Decorat...|            image|https://i.pinimg....|     /data/christmas|     christmas|\n",
       " 4489|e52a6409-1c00-461...| VINTAGE WEDDING P...|This is a digital...|           833|     theunpopularmom|Budget Wedding,We...|            image|https://i.pinimg....|/data/event-planning|event-planning|\n",
       "   25|f19b91c7-2a58-41a...| How to use an Ang...|If I could only c...|         20000|The Social Easel ...|Fall Canvas Paint...|            image|https://i.pinimg....|           /data/art|           art|\n",
       "+-----+--------------------+---------------------+--------------------+--------------+--------------------+--------------------+-----------------+--------------------+--------------------+--------------+\n",
       "only showing top 20 rows\n",
       "\n",
       "root\n",
       "-- ind: long (nullable = true)\n",
       "-- unique_id: string (nullable = true)\n",
       "-- title: string (nullable = true)\n",
       "-- description: string (nullable = true)\n",
       "-- follower_count: integer (nullable = true)\n",
       "-- poster_name: string (nullable = true)\n",
       "-- tag_list: string (nullable = true)\n",
       "-- is_image_or_video: string (nullable = true)\n",
       "-- image_src: string (nullable = true)\n",
       "-- save_location: string (nullable = true)\n",
       "-- category: string (nullable = true)\n",
       "\n",
       "</div>"
      ]
     },
     "metadata": {},
     "output_type": "display_data"
    }
   ],
   "source": [
    "# display changes\n",
    "df_pin.show()\n",
    "df_pin.printSchema()"
   ]
  },
  {
   "cell_type": "markdown",
   "metadata": {},
   "source": [
    "## Clean df_geo dataframe"
   ]
  },
  {
   "cell_type": "code",
   "execution_count": null,
   "metadata": {
    "application/vnd.databricks.v1+cell": {
     "cellMetadata": {
      "byteLimit": 2048000,
      "rowLimit": 10000
     },
     "inputWidgets": {},
     "nuid": "840262d4-0610-41bf-8e2a-bbacf9fd94ba",
     "showTitle": false,
     "title": ""
    }
   },
   "outputs": [
    {
     "data": {
      "text/html": [
       "<style scoped>\n",
       "  .ansiout {\n",
       "    display: block;\n",
       "    unicode-bidi: embed;\n",
       "    white-space: pre-wrap;\n",
       "    word-wrap: break-word;\n",
       "    word-break: break-all;\n",
       "    font-family: \"Source Code Pro\", \"Menlo\", monospace;;\n",
       "    font-size: 13px;\n",
       "    color: #555;\n",
       "    margin-left: 4px;\n",
       "    line-height: 19px;\n",
       "  }\n",
       "</style>\n",
       "<div class=\"ansiout\"></div>"
      ]
     },
     "metadata": {
      "application/vnd.databricks.v1+output": {
       "addedWidgets": {},
       "arguments": {},
       "data": "<div class=\"ansiout\"></div>",
       "datasetInfos": [],
       "metadata": {},
       "removedWidgets": [],
       "type": "html"
      }
     },
     "output_type": "display_data"
    }
   ],
   "source": [
    "# import types\n",
    "from pyspark.sql.types import ArrayType, DoubleType\n",
    "# define function for returning list containing two values\n",
    "def combine_lat_and_long(latitude, longitude):\n",
    "    return [latitude, longitude]\n",
    "# define new user-defined function\n",
    "new_func = udf(combine_lat_and_long, ArrayType(DoubleType()))\n",
    "# apply new udf to combine latitude and longitude columns\n",
    "df_geo = df_geo.withColumn(\"coordinates\", new_func(\"latitude\", \"longitude\"))\n",
    "# drop the latitude and longitude columns\n",
    "cols_to_drop = (\"latitude\", \"longitude\")\n",
    "df_geo = df_geo.drop(*cols_to_drop)\n",
    "# convert timestamp column from type string to type timestamp\n",
    "df_geo = df_geo.withColumn(\"timestamp\", to_timestamp(\"timestamp\"))\n",
    "# change column order\n",
    "new_geo_column_order = [\n",
    "    \"ind\",\n",
    "    \"country\",\n",
    "    \"coordinates\",\n",
    "    \"timestamp\",\n",
    "]\n",
    "df_geo = df_geo.select(new_geo_column_order)"
   ]
  },
  {
   "cell_type": "code",
   "execution_count": null,
   "metadata": {
    "application/vnd.databricks.v1+cell": {
     "cellMetadata": {
      "byteLimit": 2048000,
      "rowLimit": 10000
     },
     "inputWidgets": {},
     "nuid": "a4ba2d14-372b-45ef-80f9-fe3992ea6a19",
     "showTitle": false,
     "title": ""
    }
   },
   "outputs": [
    {
     "data": {
      "text/html": [
       "<style scoped>\n",
       "  .table-result-container {\n",
       "    max-height: 300px;\n",
       "    overflow: auto;\n",
       "  }\n",
       "  table, th, td {\n",
       "    border: 1px solid black;\n",
       "    border-collapse: collapse;\n",
       "  }\n",
       "  th, td {\n",
       "    padding: 5px;\n",
       "  }\n",
       "  th {\n",
       "    text-align: left;\n",
       "  }\n",
       "</style><div class='table-result-container'><table class='table-result'><thead style='background-color: white'><tr><th>ind</th><th>country</th><th>coordinates</th><th>timestamp</th></tr></thead><tbody><tr><td>9455</td><td>British Indian Ocean Territory (Chagos Archipelago)</td><td>List(-82.9272, -150.346)</td><td>2022-03-15T01:46:32.000+0000</td></tr><tr><td>6814</td><td>British Indian Ocean Territory (Chagos Archipelago)</td><td>List(-86.5675, -149.565)</td><td>2022-09-02T11:34:28.000+0000</td></tr><tr><td>5111</td><td>British Indian Ocean Territory (Chagos Archipelago)</td><td>List(-83.7472, 8.65953)</td><td>2021-04-01T00:56:57.000+0000</td></tr><tr><td>10073</td><td>Antarctica (the territory South of 60 deg S)</td><td>List(-32.8885, -170.295)</td><td>2021-06-29T19:56:04.000+0000</td></tr><tr><td>2418</td><td>Antarctica (the territory South of 60 deg S)</td><td>List(-88.4642, -171.061)</td><td>2022-05-27T11:30:59.000+0000</td></tr><tr><td>5162</td><td>Antarctica (the territory South of 60 deg S)</td><td>List(-71.6607, -149.206)</td><td>2019-09-27T19:06:43.000+0000</td></tr><tr><td>1335</td><td>Antarctica (the territory South of 60 deg S)</td><td>List(-77.9931, -175.682)</td><td>2022-03-19T17:29:42.000+0000</td></tr><tr><td>9185</td><td>Antarctica (the territory South of 60 deg S)</td><td>List(-10.3764, -22.9809)</td><td>2019-10-06T18:12:55.000+0000</td></tr><tr><td>9335</td><td>Antarctica (the territory South of 60 deg S)</td><td>List(-88.4642, -171.061)</td><td>2020-11-14T23:42:22.000+0000</td></tr><tr><td>6749</td><td>Antarctica (the territory South of 60 deg S)</td><td>List(-88.4642, -171.061)</td><td>2018-04-16T07:39:46.000+0000</td></tr><tr><td>10507</td><td>South Georgia and the South Sandwich Islands</td><td>List(-89.4786, -68.913)</td><td>2018-12-27T23:57:31.000+0000</td></tr><tr><td>1729</td><td>Antarctica (the territory South of 60 deg S)</td><td>List(-88.4642, -171.061)</td><td>2021-05-04T14:59:44.000+0000</td></tr><tr><td>8836</td><td>Antarctica (the territory South of 60 deg S)</td><td>List(-75.0203, -108.272)</td><td>2022-09-06T23:57:01.000+0000</td></tr><tr><td>4361</td><td>Antarctica (the territory South of 60 deg S)</td><td>List(-24.8372, -163.337)</td><td>2022-07-17T10:48:12.000+0000</td></tr><tr><td>9117</td><td>Antarctica (the territory South of 60 deg S)</td><td>List(-88.4642, -171.061)</td><td>2018-08-02T03:26:24.000+0000</td></tr><tr><td>7090</td><td>Antarctica (the territory South of 60 deg S)</td><td>List(-62.92, -63.7974)</td><td>2022-01-08T18:53:52.000+0000</td></tr><tr><td>624</td><td>Antarctica (the territory South of 60 deg S)</td><td>List(-41.1737, 170.227)</td><td>2019-07-01T14:55:07.000+0000</td></tr><tr><td>7206</td><td>Heard Island and McDonald Islands</td><td>List(-69.8132, -173.161)</td><td>2020-08-19T02:53:12.000+0000</td></tr><tr><td>8058</td><td>Lao People's Democratic Republic</td><td>List(-45.8033, -140.37)</td><td>2018-08-05T01:23:40.000+0000</td></tr><tr><td>7631</td><td>Heard Island and McDonald Islands</td><td>List(54.4122, 130.428)</td><td>2021-12-15T22:42:25.000+0000</td></tr><tr><td>7958</td><td>Saint Vincent and the Grenadines</td><td>List(-72.3686, 174.831)</td><td>2021-02-26T21:03:00.000+0000</td></tr><tr><td>2301</td><td>Saint Vincent and the Grenadines</td><td>List(13.4683, 51.7244)</td><td>2020-11-14T00:25:28.000+0000</td></tr><tr><td>7180</td><td>Holy See (Vatican City State)</td><td>List(-22.7118, -167.739)</td><td>2018-04-22T21:33:50.000+0000</td></tr><tr><td>10204</td><td>Svalbard & Jan Mayen Islands</td><td>List(-14.3257, 26.9087)</td><td>2020-04-06T02:56:29.000+0000</td></tr><tr><td>10204</td><td>Svalbard & Jan Mayen Islands</td><td>List(-14.3257, 26.9087)</td><td>2020-04-06T02:56:29.000+0000</td></tr><tr><td>7718</td><td>United States Virgin Islands</td><td>List(-21.4347, 108.416)</td><td>2022-08-10T06:57:29.000+0000</td></tr><tr><td>4186</td><td>Falkland Islands (Malvinas)</td><td>List(-72.0557, -5.16099)</td><td>2018-09-10T12:52:21.000+0000</td></tr><tr><td>2297</td><td>United States Virgin Islands</td><td>List(28.1985, -94.6501)</td><td>2021-10-04T19:45:54.000+0000</td></tr><tr><td>7600</td><td>United States Virgin Islands</td><td>List(13.9054, -166.411)</td><td>2019-10-14T10:12:49.000+0000</td></tr><tr><td>6014</td><td>French Southern Territories</td><td>List(-26.6026, 155.206)</td><td>2019-04-30T12:33:13.000+0000</td></tr><tr><td>813</td><td>French Southern Territories</td><td>List(-70.9146, -136.554)</td><td>2022-06-13T23:08:43.000+0000</td></tr><tr><td>974</td><td>Svalbard & Jan Mayen Islands</td><td>List(-56.9556, 94.6183)</td><td>2022-03-17T09:24:07.000+0000</td></tr><tr><td>10369</td><td>Bouvet Island (Bouvetoya)</td><td>List(-79.0994, -101.415)</td><td>2020-02-01T10:43:06.000+0000</td></tr><tr><td>204</td><td>United States Virgin Islands</td><td>List(29.2096, -13.1258)</td><td>2018-11-23T15:01:11.000+0000</td></tr><tr><td>8677</td><td>Bouvet Island (Bouvetoya)</td><td>List(-84.3984, -144.933)</td><td>2020-02-12T23:24:01.000+0000</td></tr><tr><td>9270</td><td>Bouvet Island (Bouvetoya)</td><td>List(-84.3984, -144.933)</td><td>2022-05-23T03:24:24.000+0000</td></tr><tr><td>2465</td><td>Bouvet Island (Bouvetoya)</td><td>List(-57.1033, -29.6301)</td><td>2022-07-23T11:15:09.000+0000</td></tr><tr><td>3185</td><td>Bouvet Island (Bouvetoya)</td><td>List(-88.4607, -154.638)</td><td>2022-06-14T09:39:11.000+0000</td></tr><tr><td>8251</td><td>Bouvet Island (Bouvetoya)</td><td>List(-0.165781, -62.325)</td><td>2022-02-03T11:05:11.000+0000</td></tr><tr><td>10513</td><td>Slovakia (Slovak Republic)</td><td>List(25.2981, 143.877)</td><td>2021-05-30T01:56:22.000+0000</td></tr><tr><td>2226</td><td>Falkland Islands (Malvinas)</td><td>List(3.38121, 89.7473)</td><td>2018-10-14T11:54:15.000+0000</td></tr><tr><td>4348</td><td>Bouvet Island (Bouvetoya)</td><td>List(-81.2924, -145.407)</td><td>2019-04-06T17:59:09.000+0000</td></tr><tr><td>4574</td><td>Bouvet Island (Bouvetoya)</td><td>List(-81.2924, -145.407)</td><td>2019-02-22T15:04:43.000+0000</td></tr><tr><td>7258</td><td>Saint Pierre and Miquelon</td><td>List(-39.2432, -46.5562)</td><td>2022-08-06T15:17:24.000+0000</td></tr><tr><td>10794</td><td>Cocos (Keeling) Islands</td><td>List(-89.5236, -154.567)</td><td>2022-01-01T02:26:50.000+0000</td></tr><tr><td>10052</td><td>Central African Republic</td><td>List(14.7195, -130.921)</td><td>2020-01-03T01:10:57.000+0000</td></tr><tr><td>6660</td><td>Bouvet Island (Bouvetoya)</td><td>List(-54.5264, 73.4883)</td><td>2019-02-01T11:00:19.000+0000</td></tr><tr><td>7370</td><td>Saint Pierre and Miquelon</td><td>List(-24.2107, 138.463)</td><td>2018-04-05T08:02:42.000+0000</td></tr><tr><td>10020</td><td>Cocos (Keeling) Islands</td><td>List(-88.6883, -86.0607)</td><td>2021-08-22T19:54:37.000+0000</td></tr><tr><td>9935</td><td>Bouvet Island (Bouvetoya)</td><td>List(-88.516, -178.811)</td><td>2022-02-04T05:27:15.000+0000</td></tr></tbody></table></div>"
      ]
     },
     "metadata": {
      "application/vnd.databricks.v1+output": {
       "addedWidgets": {},
       "aggData": [],
       "aggError": "",
       "aggOverflow": false,
       "aggSchema": [],
       "aggSeriesLimitReached": false,
       "aggType": "",
       "arguments": {},
       "columnCustomDisplayInfos": {},
       "data": [
        [
         9455,
         "British Indian Ocean Territory (Chagos Archipelago)",
         [
          -82.9272,
          -150.346
         ],
         "2022-03-15T01:46:32.000+0000"
        ],
        [
         6814,
         "British Indian Ocean Territory (Chagos Archipelago)",
         [
          -86.5675,
          -149.565
         ],
         "2022-09-02T11:34:28.000+0000"
        ],
        [
         5111,
         "British Indian Ocean Territory (Chagos Archipelago)",
         [
          -83.7472,
          8.65953
         ],
         "2021-04-01T00:56:57.000+0000"
        ],
        [
         10073,
         "Antarctica (the territory South of 60 deg S)",
         [
          -32.8885,
          -170.295
         ],
         "2021-06-29T19:56:04.000+0000"
        ],
        [
         2418,
         "Antarctica (the territory South of 60 deg S)",
         [
          -88.4642,
          -171.061
         ],
         "2022-05-27T11:30:59.000+0000"
        ],
        [
         5162,
         "Antarctica (the territory South of 60 deg S)",
         [
          -71.6607,
          -149.206
         ],
         "2019-09-27T19:06:43.000+0000"
        ],
        [
         1335,
         "Antarctica (the territory South of 60 deg S)",
         [
          -77.9931,
          -175.682
         ],
         "2022-03-19T17:29:42.000+0000"
        ],
        [
         9185,
         "Antarctica (the territory South of 60 deg S)",
         [
          -10.3764,
          -22.9809
         ],
         "2019-10-06T18:12:55.000+0000"
        ],
        [
         9335,
         "Antarctica (the territory South of 60 deg S)",
         [
          -88.4642,
          -171.061
         ],
         "2020-11-14T23:42:22.000+0000"
        ],
        [
         6749,
         "Antarctica (the territory South of 60 deg S)",
         [
          -88.4642,
          -171.061
         ],
         "2018-04-16T07:39:46.000+0000"
        ],
        [
         10507,
         "South Georgia and the South Sandwich Islands",
         [
          -89.4786,
          -68.913
         ],
         "2018-12-27T23:57:31.000+0000"
        ],
        [
         1729,
         "Antarctica (the territory South of 60 deg S)",
         [
          -88.4642,
          -171.061
         ],
         "2021-05-04T14:59:44.000+0000"
        ],
        [
         8836,
         "Antarctica (the territory South of 60 deg S)",
         [
          -75.0203,
          -108.272
         ],
         "2022-09-06T23:57:01.000+0000"
        ],
        [
         4361,
         "Antarctica (the territory South of 60 deg S)",
         [
          -24.8372,
          -163.337
         ],
         "2022-07-17T10:48:12.000+0000"
        ],
        [
         9117,
         "Antarctica (the territory South of 60 deg S)",
         [
          -88.4642,
          -171.061
         ],
         "2018-08-02T03:26:24.000+0000"
        ],
        [
         7090,
         "Antarctica (the territory South of 60 deg S)",
         [
          -62.92,
          -63.7974
         ],
         "2022-01-08T18:53:52.000+0000"
        ],
        [
         624,
         "Antarctica (the territory South of 60 deg S)",
         [
          -41.1737,
          170.227
         ],
         "2019-07-01T14:55:07.000+0000"
        ],
        [
         7206,
         "Heard Island and McDonald Islands",
         [
          -69.8132,
          -173.161
         ],
         "2020-08-19T02:53:12.000+0000"
        ],
        [
         8058,
         "Lao People's Democratic Republic",
         [
          -45.8033,
          -140.37
         ],
         "2018-08-05T01:23:40.000+0000"
        ],
        [
         7631,
         "Heard Island and McDonald Islands",
         [
          54.4122,
          130.428
         ],
         "2021-12-15T22:42:25.000+0000"
        ],
        [
         7958,
         "Saint Vincent and the Grenadines",
         [
          -72.3686,
          174.831
         ],
         "2021-02-26T21:03:00.000+0000"
        ],
        [
         2301,
         "Saint Vincent and the Grenadines",
         [
          13.4683,
          51.7244
         ],
         "2020-11-14T00:25:28.000+0000"
        ],
        [
         7180,
         "Holy See (Vatican City State)",
         [
          -22.7118,
          -167.739
         ],
         "2018-04-22T21:33:50.000+0000"
        ],
        [
         10204,
         "Svalbard & Jan Mayen Islands",
         [
          -14.3257,
          26.9087
         ],
         "2020-04-06T02:56:29.000+0000"
        ],
        [
         10204,
         "Svalbard & Jan Mayen Islands",
         [
          -14.3257,
          26.9087
         ],
         "2020-04-06T02:56:29.000+0000"
        ],
        [
         7718,
         "United States Virgin Islands",
         [
          -21.4347,
          108.416
         ],
         "2022-08-10T06:57:29.000+0000"
        ],
        [
         4186,
         "Falkland Islands (Malvinas)",
         [
          -72.0557,
          -5.16099
         ],
         "2018-09-10T12:52:21.000+0000"
        ],
        [
         2297,
         "United States Virgin Islands",
         [
          28.1985,
          -94.6501
         ],
         "2021-10-04T19:45:54.000+0000"
        ],
        [
         7600,
         "United States Virgin Islands",
         [
          13.9054,
          -166.411
         ],
         "2019-10-14T10:12:49.000+0000"
        ],
        [
         6014,
         "French Southern Territories",
         [
          -26.6026,
          155.206
         ],
         "2019-04-30T12:33:13.000+0000"
        ],
        [
         813,
         "French Southern Territories",
         [
          -70.9146,
          -136.554
         ],
         "2022-06-13T23:08:43.000+0000"
        ],
        [
         974,
         "Svalbard & Jan Mayen Islands",
         [
          -56.9556,
          94.6183
         ],
         "2022-03-17T09:24:07.000+0000"
        ],
        [
         10369,
         "Bouvet Island (Bouvetoya)",
         [
          -79.0994,
          -101.415
         ],
         "2020-02-01T10:43:06.000+0000"
        ],
        [
         204,
         "United States Virgin Islands",
         [
          29.2096,
          -13.1258
         ],
         "2018-11-23T15:01:11.000+0000"
        ],
        [
         8677,
         "Bouvet Island (Bouvetoya)",
         [
          -84.3984,
          -144.933
         ],
         "2020-02-12T23:24:01.000+0000"
        ],
        [
         9270,
         "Bouvet Island (Bouvetoya)",
         [
          -84.3984,
          -144.933
         ],
         "2022-05-23T03:24:24.000+0000"
        ],
        [
         2465,
         "Bouvet Island (Bouvetoya)",
         [
          -57.1033,
          -29.6301
         ],
         "2022-07-23T11:15:09.000+0000"
        ],
        [
         3185,
         "Bouvet Island (Bouvetoya)",
         [
          -88.4607,
          -154.638
         ],
         "2022-06-14T09:39:11.000+0000"
        ],
        [
         8251,
         "Bouvet Island (Bouvetoya)",
         [
          -0.165781,
          -62.325
         ],
         "2022-02-03T11:05:11.000+0000"
        ],
        [
         10513,
         "Slovakia (Slovak Republic)",
         [
          25.2981,
          143.877
         ],
         "2021-05-30T01:56:22.000+0000"
        ],
        [
         2226,
         "Falkland Islands (Malvinas)",
         [
          3.38121,
          89.7473
         ],
         "2018-10-14T11:54:15.000+0000"
        ],
        [
         4348,
         "Bouvet Island (Bouvetoya)",
         [
          -81.2924,
          -145.407
         ],
         "2019-04-06T17:59:09.000+0000"
        ],
        [
         4574,
         "Bouvet Island (Bouvetoya)",
         [
          -81.2924,
          -145.407
         ],
         "2019-02-22T15:04:43.000+0000"
        ],
        [
         7258,
         "Saint Pierre and Miquelon",
         [
          -39.2432,
          -46.5562
         ],
         "2022-08-06T15:17:24.000+0000"
        ],
        [
         10794,
         "Cocos (Keeling) Islands",
         [
          -89.5236,
          -154.567
         ],
         "2022-01-01T02:26:50.000+0000"
        ],
        [
         10052,
         "Central African Republic",
         [
          14.7195,
          -130.921
         ],
         "2020-01-03T01:10:57.000+0000"
        ],
        [
         6660,
         "Bouvet Island (Bouvetoya)",
         [
          -54.5264,
          73.4883
         ],
         "2019-02-01T11:00:19.000+0000"
        ],
        [
         7370,
         "Saint Pierre and Miquelon",
         [
          -24.2107,
          138.463
         ],
         "2018-04-05T08:02:42.000+0000"
        ],
        [
         10020,
         "Cocos (Keeling) Islands",
         [
          -88.6883,
          -86.0607
         ],
         "2021-08-22T19:54:37.000+0000"
        ],
        [
         9935,
         "Bouvet Island (Bouvetoya)",
         [
          -88.516,
          -178.811
         ],
         "2022-02-04T05:27:15.000+0000"
        ]
       ],
       "datasetInfos": [],
       "dbfsResultPath": null,
       "isJsonSchema": true,
       "metadata": {},
       "overflow": false,
       "plotOptions": {
        "customPlotOptions": {},
        "displayType": "table",
        "pivotAggregation": null,
        "pivotColumns": null,
        "xColumns": null,
        "yColumns": null
       },
       "removedWidgets": [],
       "schema": [
        {
         "metadata": "{}",
         "name": "ind",
         "type": "\"long\""
        },
        {
         "metadata": "{}",
         "name": "country",
         "type": "\"string\""
        },
        {
         "metadata": "{}",
         "name": "coordinates",
         "type": "{\"type\":\"array\",\"elementType\":\"double\",\"containsNull\":true}"
        },
        {
         "metadata": "{}",
         "name": "timestamp",
         "type": "\"timestamp\""
        }
       ],
       "type": "table"
      }
     },
     "output_type": "display_data"
    },
    {
     "data": {
      "text/html": [
       "<style scoped>\n",
       "  .ansiout {\n",
       "    display: block;\n",
       "    unicode-bidi: embed;\n",
       "    white-space: pre-wrap;\n",
       "    word-wrap: break-word;\n",
       "    word-break: break-all;\n",
       "    font-family: \"Source Code Pro\", \"Menlo\", monospace;;\n",
       "    font-size: 13px;\n",
       "    color: #555;\n",
       "    margin-left: 4px;\n",
       "    line-height: 19px;\n",
       "  }\n",
       "</style>\n",
       "<div class=\"ansiout\">root\n",
       "-- ind: long (nullable = true)\n",
       "-- country: string (nullable = true)\n",
       "-- coordinates: array (nullable = true)\n",
       "    |-- element: double (containsNull = true)\n",
       "-- timestamp: timestamp (nullable = true)\n",
       "\n",
       "</div>"
      ]
     },
     "metadata": {
      "application/vnd.databricks.v1+output": {
       "addedWidgets": {},
       "arguments": {},
       "data": "<div class=\"ansiout\">root\n |-- ind: long (nullable = true)\n |-- country: string (nullable = true)\n |-- coordinates: array (nullable = true)\n |    |-- element: double (containsNull = true)\n |-- timestamp: timestamp (nullable = true)\n\n</div>",
       "datasetInfos": [],
       "metadata": {},
       "removedWidgets": [],
       "type": "html"
      }
     },
     "output_type": "display_data"
    }
   ],
   "source": [
    "# display changes\n",
    "df_geo.limit(50).display()\n",
    "df_geo.printSchema()"
   ]
  },
  {
   "cell_type": "markdown",
   "metadata": {},
   "source": [
    "## Clean df_user dataframe"
   ]
  },
  {
   "cell_type": "code",
   "execution_count": null,
   "metadata": {
    "application/vnd.databricks.v1+cell": {
     "cellMetadata": {
      "byteLimit": 2048000,
      "rowLimit": 10000
     },
     "inputWidgets": {},
     "nuid": "0a1ae46a-bf9d-4836-b530-dd1ba5d98048",
     "showTitle": false,
     "title": ""
    }
   },
   "outputs": [
    {
     "data": {
      "text/html": [
       "<style scoped>\n",
       "  .ansiout {\n",
       "    display: block;\n",
       "    unicode-bidi: embed;\n",
       "    white-space: pre-wrap;\n",
       "    word-wrap: break-word;\n",
       "    word-break: break-all;\n",
       "    font-family: \"Source Code Pro\", \"Menlo\", monospace;;\n",
       "    font-size: 13px;\n",
       "    color: #555;\n",
       "    margin-left: 4px;\n",
       "    line-height: 19px;\n",
       "  }\n",
       "</style>\n",
       "<div class=\"ansiout\"></div>"
      ]
     },
     "metadata": {
      "application/vnd.databricks.v1+output": {
       "addedWidgets": {},
       "arguments": {},
       "data": "<div class=\"ansiout\"></div>",
       "datasetInfos": [],
       "metadata": {},
       "removedWidgets": [],
       "type": "html"
      }
     },
     "output_type": "display_data"
    }
   ],
   "source": [
    "# create new column for full name\n",
    "df_user = df_user.withColumn(\"user_name\", concat_ws(\" \", \"first_name\", \"last_name\"))\n",
    "# drop the first_name and last_name columns\n",
    "cols_to_drop = (\"first_name\", \"last_name\")\n",
    "df_user = df_user.drop(*cols_to_drop)\n",
    "# convert date_joined column from type string to type timestamp\n",
    "df_user = df_user.withColumn(\"date_joined\", to_timestamp(\"date_joined\"))\n",
    "# change column order\n",
    "new_user_column_order = [\n",
    "    \"ind\",\n",
    "    \"user_name\",\n",
    "    \"age\",\n",
    "    \"date_joined\",\n",
    "]\n",
    "df_user = df_user.select(new_user_column_order)"
   ]
  },
  {
   "cell_type": "code",
   "execution_count": null,
   "metadata": {
    "application/vnd.databricks.v1+cell": {
     "cellMetadata": {
      "byteLimit": 2048000,
      "rowLimit": 10000
     },
     "inputWidgets": {},
     "nuid": "e9629ab2-0c24-4bd4-88f4-9b166ec14ca2",
     "showTitle": false,
     "title": ""
    }
   },
   "outputs": [
    {
     "data": {
      "text/html": [
       "<style scoped>\n",
       "  .table-result-container {\n",
       "    max-height: 300px;\n",
       "    overflow: auto;\n",
       "  }\n",
       "  table, th, td {\n",
       "    border: 1px solid black;\n",
       "    border-collapse: collapse;\n",
       "  }\n",
       "  th, td {\n",
       "    padding: 5px;\n",
       "  }\n",
       "  th {\n",
       "    text-align: left;\n",
       "  }\n",
       "</style><div class='table-result-container'><table class='table-result'><thead style='background-color: white'><tr><th>ind</th><th>user_name</th><th>age</th><th>date_joined</th></tr></thead><tbody><tr><td>2015</td><td>Christopher Bradshaw</td><td>27</td><td>2016-03-08T13:38:37.000+0000</td></tr><tr><td>10673</td><td>Alexander Cervantes</td><td>59</td><td>2017-05-12T21:22:17.000+0000</td></tr><tr><td>1857</td><td>Christopher Hamilton</td><td>48</td><td>2016-02-27T16:57:44.000+0000</td></tr><tr><td>10020</td><td>Christopher Hawkins</td><td>45</td><td>2016-09-15T06:02:53.000+0000</td></tr><tr><td>2041</td><td>Christopher Campbell</td><td>35</td><td>2015-10-22T22:42:23.000+0000</td></tr><tr><td>7031</td><td>Christopher Anderson</td><td>48</td><td>2016-06-13T17:09:14.000+0000</td></tr><tr><td>6398</td><td>Christina Davenport</td><td>39</td><td>2016-06-29T20:43:59.000+0000</td></tr><tr><td>3599</td><td>Alexandria Alvarado</td><td>20</td><td>2015-10-23T04:13:23.000+0000</td></tr><tr><td>4256</td><td>Alexandria Alvarado</td><td>20</td><td>2015-10-23T04:13:23.000+0000</td></tr><tr><td>1901</td><td>Michelle Richardson</td><td>44</td><td>2016-12-18T16:05:39.000+0000</td></tr><tr><td>3831</td><td>Alexandria Alvarado</td><td>20</td><td>2015-10-23T04:13:23.000+0000</td></tr><tr><td>6602</td><td>Alexandria Anderson</td><td>23</td><td>2015-10-31T19:20:09.000+0000</td></tr><tr><td>4249</td><td>Alexandria Alvarado</td><td>20</td><td>2015-10-23T04:13:23.000+0000</td></tr><tr><td>4245</td><td>Alexandria Alvarado</td><td>20</td><td>2015-10-23T04:13:23.000+0000</td></tr><tr><td>10677</td><td>Catherine Mitchell</td><td>26</td><td>2016-06-16T14:07:36.000+0000</td></tr><tr><td>3896</td><td>Alexandria Alvarado</td><td>20</td><td>2015-10-23T04:13:23.000+0000</td></tr><tr><td>2161</td><td>Alexander Rodriguez</td><td>55</td><td>2017-08-12T13:26:38.000+0000</td></tr><tr><td>813</td><td>Christopher Gonzalez</td><td>30</td><td>2016-03-02T23:44:12.000+0000</td></tr><tr><td>2595</td><td>Christopher Barnett</td><td>22</td><td>2016-03-24T09:38:54.000+0000</td></tr><tr><td>3717</td><td>Alexandria Alvarado</td><td>20</td><td>2015-10-23T04:13:23.000+0000</td></tr><tr><td>3475</td><td>Alexandria Alvarado</td><td>20</td><td>2015-10-23T04:13:23.000+0000</td></tr><tr><td>9582</td><td>Christopher Hawkins</td><td>45</td><td>2016-09-15T06:02:53.000+0000</td></tr><tr><td>5076</td><td>Christopher Butler</td><td>20</td><td>2015-12-01T15:08:31.000+0000</td></tr><tr><td>7790</td><td>Michelle Gutierrez</td><td>39</td><td>2017-07-19T07:12:04.000+0000</td></tr><tr><td>10509</td><td>Brittany Thompson</td><td>49</td><td>2016-04-22T20:36:02.000+0000</td></tr><tr><td>10248</td><td>Elizabeth English</td><td>25</td><td>2016-08-19T02:29:26.000+0000</td></tr><tr><td>1487</td><td>Jonathan Rodriguez</td><td>30</td><td>2016-09-05T12:31:44.000+0000</td></tr><tr><td>10917</td><td>Valerie Rodriguez</td><td>31</td><td>2016-07-30T01:45:47.000+0000</td></tr><tr><td>10734</td><td>Jennifer Arellano</td><td>28</td><td>2015-12-18T10:50:10.000+0000</td></tr><tr><td>10429</td><td>Brandon Henderson</td><td>24</td><td>2016-01-12T17:59:43.000+0000</td></tr><tr><td>2946</td><td>Samantha Carpenter</td><td>24</td><td>2016-06-26T00:05:17.000+0000</td></tr><tr><td>10600</td><td>Robert Mclaughlin</td><td>49</td><td>2016-02-27T04:42:03.000+0000</td></tr><tr><td>1487</td><td>Jonathan Rodriguez</td><td>30</td><td>2016-09-05T12:31:44.000+0000</td></tr><tr><td>4761</td><td>Christopher Norman</td><td>40</td><td>2017-03-07T21:33:30.000+0000</td></tr><tr><td>10721</td><td>Garrett Hernandez</td><td>53</td><td>2017-04-05T13:59:02.000+0000</td></tr><tr><td>7206</td><td>Christina Anderson</td><td>27</td><td>2016-03-03T11:25:21.000+0000</td></tr><tr><td>6806</td><td>Christopher Daniel</td><td>25</td><td>2016-04-15T17:06:49.000+0000</td></tr><tr><td>2267</td><td>Andrea Blankenship</td><td>27</td><td>2016-04-11T21:27:52.000+0000</td></tr><tr><td>2532</td><td>Danielle Hernandez</td><td>24</td><td>2016-03-24T23:39:08.000+0000</td></tr><tr><td>7790</td><td>Michelle Gutierrez</td><td>39</td><td>2017-07-19T07:12:04.000+0000</td></tr><tr><td>10675</td><td>Christopher Combs</td><td>42</td><td>2016-02-08T16:47:33.000+0000</td></tr><tr><td>1969</td><td>Christopher Haynes</td><td>25</td><td>2016-02-14T23:08:47.000+0000</td></tr><tr><td>10119</td><td>Chelsea Gonzalez</td><td>43</td><td>2016-07-21T15:25:08.000+0000</td></tr><tr><td>3716</td><td>Catherine Ferrell</td><td>21</td><td>2017-01-02T03:01:09.000+0000</td></tr><tr><td>7268</td><td>Alejandra Acevedo</td><td>20</td><td>2015-11-24T21:01:23.000+0000</td></tr><tr><td>9426</td><td>Nicholas Mcdaniel</td><td>45</td><td>2017-05-24T01:41:26.000+0000</td></tr><tr><td>7116</td><td>Michael Mcconnell</td><td>59</td><td>2017-06-01T10:55:10.000+0000</td></tr><tr><td>1335</td><td>Benjamin Campbell</td><td>20</td><td>2015-11-16T13:25:08.000+0000</td></tr><tr><td>4765</td><td>Danielle Gonzalez</td><td>36</td><td>2017-02-16T16:01:34.000+0000</td></tr><tr><td>10204</td><td>Heather Gonzalez</td><td>41</td><td>2016-06-14T11:16:18.000+0000</td></tr></tbody></table></div>"
      ]
     },
     "metadata": {
      "application/vnd.databricks.v1+output": {
       "addedWidgets": {},
       "aggData": [],
       "aggError": "",
       "aggOverflow": false,
       "aggSchema": [],
       "aggSeriesLimitReached": false,
       "aggType": "",
       "arguments": {},
       "columnCustomDisplayInfos": {},
       "data": [
        [
         2015,
         "Christopher Bradshaw",
         27,
         "2016-03-08T13:38:37.000+0000"
        ],
        [
         10673,
         "Alexander Cervantes",
         59,
         "2017-05-12T21:22:17.000+0000"
        ],
        [
         1857,
         "Christopher Hamilton",
         48,
         "2016-02-27T16:57:44.000+0000"
        ],
        [
         10020,
         "Christopher Hawkins",
         45,
         "2016-09-15T06:02:53.000+0000"
        ],
        [
         2041,
         "Christopher Campbell",
         35,
         "2015-10-22T22:42:23.000+0000"
        ],
        [
         7031,
         "Christopher Anderson",
         48,
         "2016-06-13T17:09:14.000+0000"
        ],
        [
         6398,
         "Christina Davenport",
         39,
         "2016-06-29T20:43:59.000+0000"
        ],
        [
         3599,
         "Alexandria Alvarado",
         20,
         "2015-10-23T04:13:23.000+0000"
        ],
        [
         4256,
         "Alexandria Alvarado",
         20,
         "2015-10-23T04:13:23.000+0000"
        ],
        [
         1901,
         "Michelle Richardson",
         44,
         "2016-12-18T16:05:39.000+0000"
        ],
        [
         3831,
         "Alexandria Alvarado",
         20,
         "2015-10-23T04:13:23.000+0000"
        ],
        [
         6602,
         "Alexandria Anderson",
         23,
         "2015-10-31T19:20:09.000+0000"
        ],
        [
         4249,
         "Alexandria Alvarado",
         20,
         "2015-10-23T04:13:23.000+0000"
        ],
        [
         4245,
         "Alexandria Alvarado",
         20,
         "2015-10-23T04:13:23.000+0000"
        ],
        [
         10677,
         "Catherine Mitchell",
         26,
         "2016-06-16T14:07:36.000+0000"
        ],
        [
         3896,
         "Alexandria Alvarado",
         20,
         "2015-10-23T04:13:23.000+0000"
        ],
        [
         2161,
         "Alexander Rodriguez",
         55,
         "2017-08-12T13:26:38.000+0000"
        ],
        [
         813,
         "Christopher Gonzalez",
         30,
         "2016-03-02T23:44:12.000+0000"
        ],
        [
         2595,
         "Christopher Barnett",
         22,
         "2016-03-24T09:38:54.000+0000"
        ],
        [
         3717,
         "Alexandria Alvarado",
         20,
         "2015-10-23T04:13:23.000+0000"
        ],
        [
         3475,
         "Alexandria Alvarado",
         20,
         "2015-10-23T04:13:23.000+0000"
        ],
        [
         9582,
         "Christopher Hawkins",
         45,
         "2016-09-15T06:02:53.000+0000"
        ],
        [
         5076,
         "Christopher Butler",
         20,
         "2015-12-01T15:08:31.000+0000"
        ],
        [
         7790,
         "Michelle Gutierrez",
         39,
         "2017-07-19T07:12:04.000+0000"
        ],
        [
         10509,
         "Brittany Thompson",
         49,
         "2016-04-22T20:36:02.000+0000"
        ],
        [
         10248,
         "Elizabeth English",
         25,
         "2016-08-19T02:29:26.000+0000"
        ],
        [
         1487,
         "Jonathan Rodriguez",
         30,
         "2016-09-05T12:31:44.000+0000"
        ],
        [
         10917,
         "Valerie Rodriguez",
         31,
         "2016-07-30T01:45:47.000+0000"
        ],
        [
         10734,
         "Jennifer Arellano",
         28,
         "2015-12-18T10:50:10.000+0000"
        ],
        [
         10429,
         "Brandon Henderson",
         24,
         "2016-01-12T17:59:43.000+0000"
        ],
        [
         2946,
         "Samantha Carpenter",
         24,
         "2016-06-26T00:05:17.000+0000"
        ],
        [
         10600,
         "Robert Mclaughlin",
         49,
         "2016-02-27T04:42:03.000+0000"
        ],
        [
         1487,
         "Jonathan Rodriguez",
         30,
         "2016-09-05T12:31:44.000+0000"
        ],
        [
         4761,
         "Christopher Norman",
         40,
         "2017-03-07T21:33:30.000+0000"
        ],
        [
         10721,
         "Garrett Hernandez",
         53,
         "2017-04-05T13:59:02.000+0000"
        ],
        [
         7206,
         "Christina Anderson",
         27,
         "2016-03-03T11:25:21.000+0000"
        ],
        [
         6806,
         "Christopher Daniel",
         25,
         "2016-04-15T17:06:49.000+0000"
        ],
        [
         2267,
         "Andrea Blankenship",
         27,
         "2016-04-11T21:27:52.000+0000"
        ],
        [
         2532,
         "Danielle Hernandez",
         24,
         "2016-03-24T23:39:08.000+0000"
        ],
        [
         7790,
         "Michelle Gutierrez",
         39,
         "2017-07-19T07:12:04.000+0000"
        ],
        [
         10675,
         "Christopher Combs",
         42,
         "2016-02-08T16:47:33.000+0000"
        ],
        [
         1969,
         "Christopher Haynes",
         25,
         "2016-02-14T23:08:47.000+0000"
        ],
        [
         10119,
         "Chelsea Gonzalez",
         43,
         "2016-07-21T15:25:08.000+0000"
        ],
        [
         3716,
         "Catherine Ferrell",
         21,
         "2017-01-02T03:01:09.000+0000"
        ],
        [
         7268,
         "Alejandra Acevedo",
         20,
         "2015-11-24T21:01:23.000+0000"
        ],
        [
         9426,
         "Nicholas Mcdaniel",
         45,
         "2017-05-24T01:41:26.000+0000"
        ],
        [
         7116,
         "Michael Mcconnell",
         59,
         "2017-06-01T10:55:10.000+0000"
        ],
        [
         1335,
         "Benjamin Campbell",
         20,
         "2015-11-16T13:25:08.000+0000"
        ],
        [
         4765,
         "Danielle Gonzalez",
         36,
         "2017-02-16T16:01:34.000+0000"
        ],
        [
         10204,
         "Heather Gonzalez",
         41,
         "2016-06-14T11:16:18.000+0000"
        ]
       ],
       "datasetInfos": [],
       "dbfsResultPath": null,
       "isJsonSchema": true,
       "metadata": {},
       "overflow": false,
       "plotOptions": {
        "customPlotOptions": {},
        "displayType": "table",
        "pivotAggregation": null,
        "pivotColumns": null,
        "xColumns": null,
        "yColumns": null
       },
       "removedWidgets": [],
       "schema": [
        {
         "metadata": "{}",
         "name": "ind",
         "type": "\"long\""
        },
        {
         "metadata": "{}",
         "name": "user_name",
         "type": "\"string\""
        },
        {
         "metadata": "{}",
         "name": "age",
         "type": "\"long\""
        },
        {
         "metadata": "{}",
         "name": "date_joined",
         "type": "\"timestamp\""
        }
       ],
       "type": "table"
      }
     },
     "output_type": "display_data"
    },
    {
     "data": {
      "text/html": [
       "<style scoped>\n",
       "  .ansiout {\n",
       "    display: block;\n",
       "    unicode-bidi: embed;\n",
       "    white-space: pre-wrap;\n",
       "    word-wrap: break-word;\n",
       "    word-break: break-all;\n",
       "    font-family: \"Source Code Pro\", \"Menlo\", monospace;;\n",
       "    font-size: 13px;\n",
       "    color: #555;\n",
       "    margin-left: 4px;\n",
       "    line-height: 19px;\n",
       "  }\n",
       "</style>\n",
       "<div class=\"ansiout\">root\n",
       "-- ind: long (nullable = true)\n",
       "-- user_name: string (nullable = false)\n",
       "-- age: long (nullable = true)\n",
       "-- date_joined: timestamp (nullable = true)\n",
       "\n",
       "</div>"
      ]
     },
     "metadata": {
      "application/vnd.databricks.v1+output": {
       "addedWidgets": {},
       "arguments": {},
       "data": "<div class=\"ansiout\">root\n |-- ind: long (nullable = true)\n |-- user_name: string (nullable = false)\n |-- age: long (nullable = true)\n |-- date_joined: timestamp (nullable = true)\n\n</div>",
       "datasetInfos": [],
       "metadata": {},
       "removedWidgets": [],
       "type": "html"
      }
     },
     "output_type": "display_data"
    }
   ],
   "source": [
    "# display changes\n",
    "df_user.limit(50).display()\n",
    "df_user.printSchema()"
   ]
  }
 ],
 "metadata": {
  "application/vnd.databricks.v1+notebook": {
   "dashboards": [],
   "language": "python",
   "notebookMetadata": {
    "pythonIndentUnit": 4
   },
   "notebookName": "Mount S3",
   "widgets": {}
  },
  "language_info": {
   "name": "python"
  }
 },
 "nbformat": 4,
 "nbformat_minor": 0
}
