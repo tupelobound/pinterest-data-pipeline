{
 "cells": [
  {
   "cell_type": "markdown",
   "metadata": {},
   "source": [
    "The code in this notebook was run on the Databricks notebook, following on from the code found in the dataframe cleaning notebook"
   ]
  },
  {
   "cell_type": "code",
   "execution_count": null,
   "metadata": {},
   "outputs": [],
   "source": [
    "# import for performing window functions\n",
    "from pyspark.sql.window import Window"
   ]
  },
  {
   "cell_type": "code",
   "execution_count": null,
   "metadata": {},
   "outputs": [
    {
     "data": {
      "text/html": [
       "<style scoped>\n",
       "  .table-result-container {\n",
       "    max-height: 300px;\n",
       "    overflow: auto;\n",
       "  }\n",
       "  table, th, td {\n",
       "    border: 1px solid black;\n",
       "    border-collapse: collapse;\n",
       "  }\n",
       "  th, td {\n",
       "    padding: 5px;\n",
       "  }\n",
       "  th {\n",
       "    text-align: left;\n",
       "  }\n",
       "</style><div class='table-result-container'><table class='table-result'><thead style='background-color: white'><tr><th>country</th><th>category</th><th>category_count</th></tr></thead><tbody><tr><td>Afghanistan</td><td>education</td><td>9</td></tr><tr><td>Afghanistan</td><td>quotes</td><td>5</td></tr><tr><td>Afghanistan</td><td>mens-fashion</td><td>3</td></tr><tr><td>Afghanistan</td><td>tattoos</td><td>2</td></tr><tr><td>Afghanistan</td><td>art</td><td>2</td></tr><tr><td>Afghanistan</td><td>finance</td><td>2</td></tr><tr><td>Afghanistan</td><td>diy-and-crafts</td><td>2</td></tr><tr><td>Afghanistan</td><td>event-planning</td><td>2</td></tr><tr><td>Afghanistan</td><td>home-decor</td><td>1</td></tr><tr><td>Afghanistan</td><td>vehicles</td><td>1</td></tr><tr><td>Afghanistan</td><td>christmas</td><td>1</td></tr><tr><td>Afghanistan</td><td>travel</td><td>1</td></tr><tr><td>Albania</td><td>art</td><td>14</td></tr><tr><td>Albania</td><td>quotes</td><td>7</td></tr><tr><td>Albania</td><td>diy-and-crafts</td><td>6</td></tr><tr><td>Albania</td><td>beauty</td><td>6</td></tr><tr><td>Albania</td><td>mens-fashion</td><td>5</td></tr><tr><td>Albania</td><td>education</td><td>3</td></tr><tr><td>Albania</td><td>finance</td><td>3</td></tr><tr><td>Albania</td><td>christmas</td><td>2</td></tr><tr><td>Albania</td><td>tattoos</td><td>1</td></tr><tr><td>Albania</td><td>home-decor</td><td>1</td></tr><tr><td>Algeria</td><td>quotes</td><td>19</td></tr><tr><td>Algeria</td><td>travel</td><td>5</td></tr><tr><td>Algeria</td><td>mens-fashion</td><td>4</td></tr><tr><td>Algeria</td><td>tattoos</td><td>3</td></tr><tr><td>Algeria</td><td>christmas</td><td>2</td></tr><tr><td>Algeria</td><td>art</td><td>1</td></tr><tr><td>Algeria</td><td>beauty</td><td>1</td></tr><tr><td>American Samoa</td><td>tattoos</td><td>8</td></tr><tr><td>American Samoa</td><td>education</td><td>8</td></tr><tr><td>American Samoa</td><td>art</td><td>8</td></tr><tr><td>American Samoa</td><td>beauty</td><td>5</td></tr><tr><td>American Samoa</td><td>christmas</td><td>3</td></tr><tr><td>American Samoa</td><td>diy-and-crafts</td><td>2</td></tr><tr><td>American Samoa</td><td>quotes</td><td>2</td></tr><tr><td>American Samoa</td><td>travel</td><td>2</td></tr><tr><td>American Samoa</td><td>home-decor</td><td>1</td></tr><tr><td>Andorra</td><td>tattoos</td><td>7</td></tr><tr><td>Andorra</td><td>christmas</td><td>5</td></tr><tr><td>Andorra</td><td>art</td><td>5</td></tr><tr><td>Andorra</td><td>diy-and-crafts</td><td>3</td></tr><tr><td>Andorra</td><td>quotes</td><td>3</td></tr><tr><td>Andorra</td><td>vehicles</td><td>2</td></tr><tr><td>Andorra</td><td>event-planning</td><td>2</td></tr><tr><td>Andorra</td><td>home-decor</td><td>1</td></tr><tr><td>Andorra</td><td>education</td><td>1</td></tr><tr><td>Andorra</td><td>beauty</td><td>1</td></tr><tr><td>Angola</td><td>education</td><td>4</td></tr><tr><td>Angola</td><td>diy-and-crafts</td><td>3</td></tr></tbody></table></div>"
      ]
     },
     "metadata": {},
     "output_type": "display_data"
    }
   ],
   "source": [
    "# find the most popular category in each country\n",
    "df_pin.join(df_geo, df_pin.ind == df_geo.ind) \\\n",
    "    .groupBy(\"country\", \"category\") \\\n",
    "    .agg(count(\"category\").alias(\"category_count\")) \\\n",
    "    .orderBy(\"country\", \"category_count\", ascending=[True, False]) \\\n",
    "    .limit(50) \\\n",
    "    .display()"
   ]
  },
  {
   "cell_type": "code",
   "execution_count": null,
   "metadata": {},
   "outputs": [
    {
     "data": {
      "text/html": [
       "<style scoped>\n",
       "  .table-result-container {\n",
       "    max-height: 300px;\n",
       "    overflow: auto;\n",
       "  }\n",
       "  table, th, td {\n",
       "    border: 1px solid black;\n",
       "    border-collapse: collapse;\n",
       "  }\n",
       "  th, td {\n",
       "    padding: 5px;\n",
       "  }\n",
       "  th {\n",
       "    text-align: left;\n",
       "  }\n",
       "</style><div class='table-result-container'><table class='table-result'><thead style='background-color: white'><tr><th>post_year</th><th>category</th><th>category_count</th></tr></thead><tbody><tr><td>2018</td><td>diy-and-crafts</td><td>25</td></tr><tr><td>2018</td><td>christmas</td><td>23</td></tr><tr><td>2018</td><td>travel</td><td>23</td></tr><tr><td>2018</td><td>quotes</td><td>21</td></tr><tr><td>2018</td><td>education</td><td>20</td></tr><tr><td>2018</td><td>art</td><td>18</td></tr><tr><td>2018</td><td>tattoos</td><td>17</td></tr><tr><td>2018</td><td>beauty</td><td>15</td></tr><tr><td>2018</td><td>finance</td><td>14</td></tr><tr><td>2018</td><td>vehicles</td><td>13</td></tr><tr><td>2018</td><td>mens-fashion</td><td>12</td></tr><tr><td>2018</td><td>event-planning</td><td>11</td></tr><tr><td>2018</td><td>home-decor</td><td>8</td></tr><tr><td>2019</td><td>diy-and-crafts</td><td>19</td></tr><tr><td>2019</td><td>travel</td><td>19</td></tr><tr><td>2019</td><td>art</td><td>19</td></tr><tr><td>2019</td><td>education</td><td>17</td></tr><tr><td>2019</td><td>tattoos</td><td>17</td></tr><tr><td>2019</td><td>christmas</td><td>15</td></tr><tr><td>2019</td><td>quotes</td><td>15</td></tr><tr><td>2019</td><td>home-decor</td><td>15</td></tr><tr><td>2019</td><td>mens-fashion</td><td>14</td></tr><tr><td>2019</td><td>vehicles</td><td>10</td></tr><tr><td>2019</td><td>event-planning</td><td>10</td></tr><tr><td>2019</td><td>beauty</td><td>8</td></tr><tr><td>2019</td><td>finance</td><td>8</td></tr><tr><td>2020</td><td>mens-fashion</td><td>22</td></tr><tr><td>2020</td><td>home-decor</td><td>22</td></tr><tr><td>2020</td><td>travel</td><td>21</td></tr><tr><td>2020</td><td>art</td><td>21</td></tr><tr><td>2020</td><td>christmas</td><td>18</td></tr><tr><td>2020</td><td>event-planning</td><td>18</td></tr><tr><td>2020</td><td>finance</td><td>17</td></tr><tr><td>2020</td><td>quotes</td><td>16</td></tr><tr><td>2020</td><td>tattoos</td><td>15</td></tr><tr><td>2020</td><td>diy-and-crafts</td><td>14</td></tr><tr><td>2020</td><td>beauty</td><td>13</td></tr><tr><td>2020</td><td>education</td><td>13</td></tr><tr><td>2020</td><td>vehicles</td><td>10</td></tr><tr><td>2021</td><td>art</td><td>33</td></tr><tr><td>2021</td><td>tattoos</td><td>22</td></tr><tr><td>2021</td><td>education</td><td>20</td></tr><tr><td>2021</td><td>finance</td><td>19</td></tr><tr><td>2021</td><td>vehicles</td><td>19</td></tr><tr><td>2021</td><td>quotes</td><td>18</td></tr><tr><td>2021</td><td>travel</td><td>17</td></tr><tr><td>2021</td><td>event-planning</td><td>16</td></tr><tr><td>2021</td><td>beauty</td><td>14</td></tr><tr><td>2021</td><td>christmas</td><td>14</td></tr><tr><td>2021</td><td>diy-and-crafts</td><td>12</td></tr><tr><td>2021</td><td>mens-fashion</td><td>12</td></tr><tr><td>2021</td><td>home-decor</td><td>8</td></tr><tr><td>2022</td><td>christmas</td><td>27</td></tr><tr><td>2022</td><td>diy-and-crafts</td><td>19</td></tr><tr><td>2022</td><td>quotes</td><td>18</td></tr><tr><td>2022</td><td>beauty</td><td>18</td></tr><tr><td>2022</td><td>art</td><td>17</td></tr><tr><td>2022</td><td>mens-fashion</td><td>17</td></tr><tr><td>2022</td><td>tattoos</td><td>16</td></tr><tr><td>2022</td><td>finance</td><td>13</td></tr><tr><td>2022</td><td>home-decor</td><td>11</td></tr><tr><td>2022</td><td>travel</td><td>10</td></tr><tr><td>2022</td><td>education</td><td>9</td></tr><tr><td>2022</td><td>event-planning</td><td>9</td></tr><tr><td>2022</td><td>vehicles</td><td>7</td></tr></tbody></table></div>"
      ]
     },
     "metadata": {},
     "output_type": "display_data"
    }
   ],
   "source": [
    "# find which was the most popular category each year between 2018 and 2022\n",
    "df_pin.join(df_geo, df_pin.ind == df_geo.ind) \\\n",
    "    .withColumn(\"post_year\", year(\"timestamp\")) \\\n",
    "    .filter(col(\"post_year\") >= 2018) \\\n",
    "    .filter(col(\"post_year\") <= 2022) \\\n",
    "    .groupBy(\"post_year\", \"category\") \\\n",
    "    .agg(count(\"category\").alias(\"category_count\")) \\\n",
    "    .orderBy(\"post_year\", \"category_count\", ascending=[True, False]) \\\n",
    "    .display()"
   ]
  },
  {
   "cell_type": "code",
   "execution_count": null,
   "metadata": {},
   "outputs": [
    {
     "data": {
      "text/html": [
       "<style scoped>\n",
       "  .table-result-container {\n",
       "    max-height: 300px;\n",
       "    overflow: auto;\n",
       "  }\n",
       "  table, th, td {\n",
       "    border: 1px solid black;\n",
       "    border-collapse: collapse;\n",
       "  }\n",
       "  th, td {\n",
       "    padding: 5px;\n",
       "  }\n",
       "  th {\n",
       "    text-align: left;\n",
       "  }\n",
       "</style><div class='table-result-container'><table class='table-result'><thead style='background-color: white'><tr><th>country</th><th>poster_name</th><th>follower_count</th></tr></thead><tbody><tr><td>Afghanistan</td><td>9GAG</td><td>3000000</td></tr><tr><td>Albania</td><td>The Minds Journal</td><td>5000000</td></tr><tr><td>Algeria</td><td>YourTango</td><td>942000</td></tr><tr><td>American Samoa</td><td>Mamas Uncut</td><td>8000000</td></tr><tr><td>Andorra</td><td>Teachers Pay Teachers</td><td>1000000</td></tr><tr><td>Angola</td><td>Tastemade</td><td>8000000</td></tr><tr><td>Anguilla</td><td>Kristen | Lifestyle, Mom Tips & Teacher Stuff Blog</td><td>92000</td></tr><tr><td>Antarctica (the territory South of 60 deg S)</td><td>Refinery29</td><td>1000000</td></tr><tr><td>Antigua and Barbuda</td><td>Country Living Magazine</td><td>1000000</td></tr><tr><td>Argentina</td><td>Cheezburger</td><td>2000000</td></tr><tr><td>Armenia</td><td>Michelle {CraftyMorning.com}</td><td>892000</td></tr><tr><td>Aruba</td><td>GQ Magazine</td><td>874000</td></tr><tr><td>Australia</td><td>Mujer de 10 </td><td>2000000</td></tr><tr><td>Austria</td><td>Diply</td><td>251000</td></tr><tr><td>Azerbaijan</td><td>Style Me Pretty</td><td>6000000</td></tr><tr><td>Bahamas</td><td>Handmade Charlotte</td><td>948000</td></tr><tr><td>Bahrain</td><td>Alea Milham | Premeditated Leftovers</td><td>332000</td></tr><tr><td>Bangladesh</td><td>Better Homes and Gardens</td><td>4000000</td></tr><tr><td>Barbados</td><td>The Creativity Exchange</td><td>410000</td></tr><tr><td>Belarus</td><td>Something Turquoise</td><td>312000</td></tr><tr><td>Belgium</td><td>The Krazy Coupon Lady</td><td>433000</td></tr><tr><td>Belize</td><td>Easy Kids Crafts & Activities | Preschool & Kindergarten Ideas</td><td>267000</td></tr><tr><td>Benin</td><td>Penny Pinchin Mom |  Budget, Get out of Debt, Save Money & More!</td><td>113000</td></tr><tr><td>Bermuda</td><td>Life on Summerhill | Home, Holiday Decor & DIY Website</td><td>46000</td></tr><tr><td>Bhutan</td><td>Esquire Magazine</td><td>130000</td></tr><tr><td>Bolivia</td><td>Kimberly West (a girl and a glue gun)</td><td>243000</td></tr><tr><td>Bosnia and Herzegovina</td><td>5-Minute Crafts Family</td><td>370000</td></tr><tr><td>Botswana</td><td>OkChicas</td><td>3000000</td></tr><tr><td>Bouvet Island (Bouvetoya)</td><td>POPSUGAR</td><td>5000000</td></tr><tr><td>Brazil</td><td>Budget with Rachel</td><td>11000</td></tr><tr><td>British Indian Ocean Territory (Chagos Archipelago)</td><td>Design Rulz</td><td>248000</td></tr><tr><td>British Virgin Islands</td><td>Kitchen Fun With My 3 Sons</td><td>245000</td></tr><tr><td>Brunei Darussalam</td><td>Kids Craft Room</td><td>277000</td></tr><tr><td>Bulgaria</td><td>Half Baked Harvest</td><td>912000</td></tr><tr><td>Burkina Faso</td><td>Behance</td><td>6000000</td></tr><tr><td>Burundi</td><td>Macho Moda</td><td>620000</td></tr><tr><td>Cambodia</td><td>Catch My Party</td><td>2000000</td></tr><tr><td>Cameroon</td><td>The Blonde Abroad</td><td>123000</td></tr><tr><td>Canada</td><td>Giorgenti New York</td><td>258000</td></tr><tr><td>Cape Verde</td><td>Sand and Sisal</td><td>178000</td></tr><tr><td>Cayman Islands</td><td>Our Escape Clause l Travel in Europe & Beyond</td><td>15000</td></tr><tr><td>Central African Republic</td><td>PureWow</td><td>868000</td></tr><tr><td>Chad</td><td>Glued To My Crafts</td><td>226000</td></tr><tr><td>Chile</td><td>Amber Strong - The Maker’s Map | DIY’s, Crafts & Home Decor</td><td>19000</td></tr><tr><td>China</td><td>Empowered Sustenance</td><td>127000</td></tr><tr><td>Christmas Island</td><td>Instructables</td><td>3000000</td></tr><tr><td>Cocos (Keeling) Islands</td><td>How Does She</td><td>709000</td></tr><tr><td>Colombia</td><td>Jordan Page | Fun Cheap or Free</td><td>152000</td></tr><tr><td>Comoros</td><td>Becky Mansfield - YourModernFamily </td><td>196000</td></tr><tr><td>Congo</td><td>Virginia | Fynes Designs : Home Decor, Easy DIY’s, Lifestyle</td><td>410000</td></tr></tbody></table></div>"
      ]
     },
     "metadata": {},
     "output_type": "display_data"
    },
    {
     "data": {
      "text/html": [
       "<style scoped>\n",
       "  .table-result-container {\n",
       "    max-height: 300px;\n",
       "    overflow: auto;\n",
       "  }\n",
       "  table, th, td {\n",
       "    border: 1px solid black;\n",
       "    border-collapse: collapse;\n",
       "  }\n",
       "  th, td {\n",
       "    padding: 5px;\n",
       "  }\n",
       "  th {\n",
       "    text-align: left;\n",
       "  }\n",
       "</style><div class='table-result-container'><table class='table-result'><thead style='background-color: white'><tr><th>country</th><th>poster_name</th><th>follower_count</th></tr></thead><tbody><tr><td>American Samoa</td><td>Mamas Uncut</td><td>8000000</td></tr><tr><td>Angola</td><td>Tastemade</td><td>8000000</td></tr></tbody></table></div>"
      ]
     },
     "metadata": {},
     "output_type": "display_data"
    }
   ],
   "source": [
    "# find the user with the most followers in each country\n",
    "\n",
    "# create partition by country and order by follower_count descending\n",
    "windowCountry = Window.partitionBy(\"country\").orderBy(col(\"follower_count\").desc())\n",
    "# join df_pin and df_geo on index\n",
    "max_followers_by_country = \\\n",
    "    df_pin.join(df_geo, df_pin.ind == df_geo.ind) \\\n",
    "    .withColumn(\"row\",row_number().over(windowCountry)) \\\n",
    "    .filter(col(\"row\") == 1) \\\n",
    "    .select(\"country\", \"poster_name\", \"follower_count\")\n",
    "\n",
    "# get highest number of followers from all countries\n",
    "max_followers_all_countries = max_followers_by_country.select(max(\"follower_count\")).collect()[0][0]\n",
    "# find the country with the user with most followers\n",
    "country_with_max_followers = \\\n",
    "    max_followers_by_country \\\n",
    "    .select(\"*\") \\\n",
    "    .where(col(\"follower_count\") == max_followers_all_countries)\n",
    "\n",
    "max_followers_by_country.limit(50).display()\n",
    "country_with_max_followers.display()"
   ]
  },
  {
   "cell_type": "code",
   "execution_count": null,
   "metadata": {},
   "outputs": [
    {
     "data": {
      "text/html": [
       "<style scoped>\n",
       "  .table-result-container {\n",
       "    max-height: 300px;\n",
       "    overflow: auto;\n",
       "  }\n",
       "  table, th, td {\n",
       "    border: 1px solid black;\n",
       "    border-collapse: collapse;\n",
       "  }\n",
       "  th, td {\n",
       "    padding: 5px;\n",
       "  }\n",
       "  th {\n",
       "    text-align: left;\n",
       "  }\n",
       "</style><div class='table-result-container'><table class='table-result'><thead style='background-color: white'><tr><th>age_group</th><th>category</th><th>category_count</th></tr></thead><tbody><tr><td>18-24</td><td>art</td><td>68</td></tr><tr><td>18-24</td><td>tattoos</td><td>62</td></tr><tr><td>18-24</td><td>christmas</td><td>48</td></tr><tr><td>18-24</td><td>diy-and-crafts</td><td>47</td></tr><tr><td>18-24</td><td>quotes</td><td>47</td></tr><tr><td>18-24</td><td>education</td><td>44</td></tr><tr><td>18-24</td><td>mens-fashion</td><td>31</td></tr><tr><td>18-24</td><td>finance</td><td>28</td></tr><tr><td>18-24</td><td>travel</td><td>27</td></tr><tr><td>18-24</td><td>event-planning</td><td>26</td></tr><tr><td>18-24</td><td>beauty</td><td>25</td></tr><tr><td>18-24</td><td>home-decor</td><td>24</td></tr><tr><td>18-24</td><td>vehicles</td><td>23</td></tr><tr><td>25-35</td><td>travel</td><td>31</td></tr><tr><td>25-35</td><td>mens-fashion</td><td>29</td></tr><tr><td>25-35</td><td>christmas</td><td>29</td></tr><tr><td>25-35</td><td>finance</td><td>25</td></tr><tr><td>25-35</td><td>event-planning</td><td>25</td></tr><tr><td>25-35</td><td>diy-and-crafts</td><td>24</td></tr><tr><td>25-35</td><td>art</td><td>23</td></tr><tr><td>25-35</td><td>home-decor</td><td>22</td></tr><tr><td>25-35</td><td>education</td><td>19</td></tr><tr><td>25-35</td><td>beauty</td><td>19</td></tr><tr><td>25-35</td><td>vehicles</td><td>18</td></tr><tr><td>25-35</td><td>tattoos</td><td>15</td></tr><tr><td>25-35</td><td>quotes</td><td>14</td></tr><tr><td>36-50</td><td>travel</td><td>28</td></tr><tr><td>36-50</td><td>quotes</td><td>26</td></tr><tr><td>36-50</td><td>art</td><td>19</td></tr><tr><td>36-50</td><td>beauty</td><td>18</td></tr><tr><td>36-50</td><td>home-decor</td><td>16</td></tr><tr><td>36-50</td><td>mens-fashion</td><td>16</td></tr><tr><td>36-50</td><td>vehicles</td><td>16</td></tr><tr><td>36-50</td><td>christmas</td><td>15</td></tr><tr><td>36-50</td><td>diy-and-crafts</td><td>14</td></tr><tr><td>36-50</td><td>finance</td><td>14</td></tr><tr><td>36-50</td><td>education</td><td>13</td></tr><tr><td>36-50</td><td>event-planning</td><td>11</td></tr><tr><td>36-50</td><td>tattoos</td><td>11</td></tr><tr><td>50+</td><td>christmas</td><td>10</td></tr><tr><td>50+</td><td>mens-fashion</td><td>10</td></tr><tr><td>50+</td><td>beauty</td><td>8</td></tr><tr><td>50+</td><td>vehicles</td><td>7</td></tr><tr><td>50+</td><td>quotes</td><td>6</td></tr><tr><td>50+</td><td>home-decor</td><td>6</td></tr><tr><td>50+</td><td>art</td><td>6</td></tr><tr><td>50+</td><td>travel</td><td>5</td></tr><tr><td>50+</td><td>diy-and-crafts</td><td>5</td></tr><tr><td>50+</td><td>finance</td><td>5</td></tr><tr><td>50+</td><td>education</td><td>4</td></tr><tr><td>50+</td><td>tattoos</td><td>3</td></tr><tr><td>50+</td><td>event-planning</td><td>3</td></tr></tbody></table></div>"
      ]
     },
     "metadata": {},
     "output_type": "display_data"
    }
   ],
   "source": [
    "# find the most popular category for different age groups\n",
    "# join df_pin and df_user, select relevant columns and create temp view for SQL query\n",
    "df_pin.join(df_user, df_pin.ind == df_user.ind) \\\n",
    "    .select(\"category\", \"age\") \\\n",
    "    .createOrReplaceTempView(\"category_age\")\n",
    "# SQL query, drop age column, then group by age_group and category\n",
    "spark.sql(\"SELECT CASE \\\n",
    "            WHEN age between 18 and 24 then '18-24' \\\n",
    "            WHEN age between 25 and 35 then '25-35' \\\n",
    "            WHEN age between 36 and 50 then '36-50' \\\n",
    "            WHEN age > 50 then '50+' \\\n",
    "            END as age_group, * FROM category_age\") \\\n",
    "    .drop(\"age\") \\\n",
    "    .groupBy(\"age_group\", \"category\") \\\n",
    "    .agg(count(\"category\").alias(\"category_count\")) \\\n",
    "    .orderBy(\"age_group\", \"category_count\", ascending=[True, False]) \\\n",
    "    .display()"
   ]
  }
 ],
 "metadata": {
  "kernelspec": {
   "display_name": "apache-spark",
   "language": "python",
   "name": "python3"
  },
  "language_info": {
   "codemirror_mode": {
    "name": "ipython",
    "version": 3
   },
   "file_extension": ".py",
   "mimetype": "text/x-python",
   "name": "python",
   "nbconvert_exporter": "python",
   "pygments_lexer": "ipython3",
   "version": "3.11.4"
  },
  "orig_nbformat": 4
 },
 "nbformat": 4,
 "nbformat_minor": 2
}
