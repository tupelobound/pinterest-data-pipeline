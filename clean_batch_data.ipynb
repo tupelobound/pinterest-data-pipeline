{
 "cells": [
  {
   "cell_type": "markdown",
   "metadata": {},
   "source": [
    "The following code in this notebook was added to the 'mount_s3_and_get_data' notebook on the Databricks platform and used to clean the dataframes created by running that notebook."
   ]
  },
  {
   "cell_type": "markdown",
   "metadata": {},
   "source": [
    "## Clean df_pin dataframe"
   ]
  },
  {
   "cell_type": "code",
   "execution_count": null,
   "metadata": {
    "application/vnd.databricks.v1+cell": {
     "cellMetadata": {
      "byteLimit": 2048000,
      "rowLimit": 10000
     },
     "inputWidgets": {},
     "nuid": "9cfb6d2b-50e9-46bd-b30e-070de5a04895",
     "showTitle": false,
     "title": ""
    }
   },
   "outputs": [
    {
     "data": {
      "text/html": [
       "<style scoped>\n",
       "  .ansiout {\n",
       "    display: block;\n",
       "    unicode-bidi: embed;\n",
       "    white-space: pre-wrap;\n",
       "    word-wrap: break-word;\n",
       "    word-break: break-all;\n",
       "    font-family: \"Source Code Pro\", \"Menlo\", monospace;;\n",
       "    font-size: 13px;\n",
       "    color: #555;\n",
       "    margin-left: 4px;\n",
       "    line-height: 19px;\n",
       "  }\n",
       "</style>\n",
       "<div class=\"ansiout\"></div>"
      ]
     },
     "metadata": {
      "application/vnd.databricks.v1+output": {
       "addedWidgets": {},
       "arguments": {},
       "data": "<div class=\"ansiout\"></div>",
       "datasetInfos": [],
       "metadata": {},
       "removedWidgets": [],
       "type": "html"
      }
     },
     "output_type": "display_data"
    }
   ],
   "source": [
    "def add_nulls_to_dataframe_column(dataframe, column, value_to_replace):\n",
    "    '''Converts matched values in column of dataframe to null based on expression'''\n",
    "    dataframe = dataframe.withColumn(column, when(col(column).like(value_to_replace), None).otherwise(col(column)))\n",
    "    return dataframe"
   ]
  },
  {
   "cell_type": "code",
   "execution_count": null,
   "metadata": {
    "application/vnd.databricks.v1+cell": {
     "cellMetadata": {
      "byteLimit": 2048000,
      "rowLimit": 10000
     },
     "inputWidgets": {},
     "nuid": "4aaef887-5508-4e9d-8c94-942cb9f86da8",
     "showTitle": false,
     "title": ""
    }
   },
   "outputs": [
    {
     "data": {
      "text/html": [
       "<style scoped>\n",
       "  .ansiout {\n",
       "    display: block;\n",
       "    unicode-bidi: embed;\n",
       "    white-space: pre-wrap;\n",
       "    word-wrap: break-word;\n",
       "    word-break: break-all;\n",
       "    font-family: \"Source Code Pro\", \"Menlo\", monospace;;\n",
       "    font-size: 13px;\n",
       "    color: #555;\n",
       "    margin-left: 4px;\n",
       "    line-height: 19px;\n",
       "  }\n",
       "</style>\n",
       "<div class=\"ansiout\"></div>"
      ]
     },
     "metadata": {
      "application/vnd.databricks.v1+output": {
       "addedWidgets": {},
       "arguments": {},
       "data": "<div class=\"ansiout\"></div>",
       "datasetInfos": [],
       "metadata": {},
       "removedWidgets": [],
       "type": "html"
      }
     },
     "output_type": "display_data"
    }
   ],
   "source": [
    "# replace empty entries and entries with no relevant data in each column with Nones\n",
    "# column names and values to change to null\n",
    "columns_and_values_for_null = {\n",
    "    \"description\": \"No description available%\",\n",
    "    \"follower_count\": \"User Info Error\",\n",
    "    \"image_src\": \"Image src error.\",\n",
    "    \"poster_name\": \"User Info Error\",\n",
    "    \"tag_list\": \"N,o, ,T,a,g,s, ,A,v,a,i,l,a,b,l,e\",\n",
    "    \"title\": \"No Title Data Available\"\n",
    "}\n",
    "# loop through dictionary, calling function with dictionary values as arguments\n",
    "for key, value in columns_and_values_for_null.items():\n",
    "    df_pin = add_nulls_to_dataframe_column(df_pin, key, value)\n",
    "# Perform the necessary transformations on the follower_count to ensure every entry is a number\n",
    "df_pin = df_pin.withColumn(\"follower_count\", regexp_replace(\"follower_count\", \"k\", \"000\"))\n",
    "df_pin = df_pin.withColumn(\"follower_count\", regexp_replace(\"follower_count\", \"M\", \"000000\"))\n",
    "# cast follower_count column to integer type\n",
    "df_pin = df_pin.withColumn(\"follower_count\", col(\"follower_count\").cast('int'))\n",
    "# convert save_location column to include only the save location path\n",
    "df_pin = df_pin.withColumn(\"save_location\", regexp_replace(\"save_location\", \"Local save in \", \"\"))\n",
    "# rename the index column to ind\n",
    "df_pin = df_pin.withColumnRenamed(\"index\", \"ind\")\n",
    "# reorder columns\n",
    "new_pin_column_order = [\n",
    "    \"ind\",\n",
    "    \"unique_id\",\n",
    "    \"title\",\n",
    "    \"description\",\n",
    "    \"follower_count\",\n",
    "    \"poster_name\",\n",
    "    \"tag_list\",\n",
    "    \"is_image_or_video\",\n",
    "    \"image_src\",\n",
    "    \"save_location\",\n",
    "    \"category\"\n",
    "]\n",
    "df_pin = df_pin.select(new_pin_column_order)"
   ]
  },
  {
   "cell_type": "code",
   "execution_count": null,
   "metadata": {
    "application/vnd.databricks.v1+cell": {
     "cellMetadata": {
      "byteLimit": 2048000,
      "rowLimit": 10000
     },
     "inputWidgets": {},
     "nuid": "980ef0cf-7ca9-4011-9b40-0611e2271918",
     "showTitle": false,
     "title": ""
    }
   },
   "outputs": [
    {
     "data": {
      "text/html": [
       "<style scoped>\n",
       "  .table-result-container {\n",
       "    max-height: 300px;\n",
       "    overflow: auto;\n",
       "  }\n",
       "  table, th, td {\n",
       "    border: 1px solid black;\n",
       "    border-collapse: collapse;\n",
       "  }\n",
       "  th, td {\n",
       "    padding: 5px;\n",
       "  }\n",
       "  th {\n",
       "    text-align: left;\n",
       "  }\n",
       "</style><div class='table-result-container'><table class='table-result'><thead style='background-color: white'><tr><th>ind</th><th>unique_id</th><th>title</th><th>description</th><th>follower_count</th><th>poster_name</th><th>tag_list</th><th>is_image_or_video</th><th>image_src</th><th>save_location</th><th>category</th></tr></thead><tbody><tr><td>6717</td><td>bc5ab9ee-505e-44f6-92ba-677fe4fdf3e3</td><td>〚 Уютные шведские коттеджи от Carina Olander 〛 ◾ Фото ◾ Идеи ◾ Дизайн</td><td>Традиционные шведские коттеджи, обычно с красным фасадом — это настоящее воплощением идеального зимнего уюта. Они обычно оформлены очень просто и ✌PUFIK. Beautiful Interiors. On… </td><td>136000</td><td>PUFIK Interiors & Inspirations</td><td>Scandinavian Cottage,Swedish Cottage,Swedish Home Decor,Swedish Farmhouse,Swedish Style,Swedish Kitchen,Kitchen Black,Swedish House,Cozy Cottage</td><td>image</td><td>https://i.pinimg.com/originals/32/eb/72/32eb72e4fd8654c115a64528bd1f34b4.png</td><td>/data/home-decor</td><td>home-decor</td></tr><tr><td>6633</td><td>d136f6bc-840d-44f8-bbad-115eb7e6c51e</td><td>The Cottage Journal on Instagram: “Can you say color?! 😍😍😍 We are loving the cheery vibes that these aqua blue cabinets are giving. If you could paint your cabinets any…”</td><td>6,636 Likes, 141 Comments - The Cottage Journal (@thecottagejournal) on Instagram: “Can you say color?! 😍😍😍 We are loving the cheery vibes that these aqua blue cabinets are g… </td><td>394</td><td>Sarah Martin</td><td>Diy Kitchen Cabinets,Kitchen Redo,Home Decor Kitchen,New Kitchen,Home Kitchens,Kitchen Remodeling,Aqua Kitchen,Kitchen Counters,Kitchen Islands</td><td>image</td><td>https://i.pinimg.com/originals/8c/17/a2/8c17a257b70780480bb89c3699363144.jpg</td><td>/data/home-decor</td><td>home-decor</td></tr><tr><td>1706</td><td>b5c8a1b5-9e90-4522-9bec-2477b698d5b7</td><td>Standing Figurine Toys Xmas Santa Claus Snowman Reindeer Figure Plush Dolls Christmas Decorations Ornaments Home Indoor Table Ornaments Christmas Party Tree Hanging Decor Toys Gifts for Kids Friends…</td><td>Features: Material:Lint Size:48ｘ18cm Quantity:1 pc Shape:Santa Claus, snowman. Elk Occasion:Christmas Description: 1. Fashion design, high quality 2. Santa Claus, snowman. Elk C… </td><td>5000</td><td>Wear24-7</td><td>Merry Christmas To You,Christmas Toys,Great Christmas Gifts,Christmas Snowman,Christmas Ornaments,Holiday,Christmas Party Decorations,Christmas Themes,Decoration Party</td><td>image</td><td>https://i.pinimg.com/originals/b5/7f/21/b57f219fa89c1165b57525b8eae711da.jpg</td><td>/data/christmas</td><td>christmas</td></tr><tr><td>1676</td><td>3ed92c2d-9cca-4ccf-ac25-44a9d8bec919</td><td>PAUPOO™ Pre-lit Artificial Christmas Hanging Basket - Flocked with Mixed Decorations and White LED Lights - Frosted Berry BUY 5 GET 2 FREE(7PACKS)</td><td>❤️ ❤️ MERRY CHRISTMAS ❤️ ❤️ ❤️ ❤️ Early Christmas Special:Buy 3 Get 1 Free, Buy 5 Get 2 Free,Deadline November 25. Color:GreenMaterial:Polyvinyl ChlorideItem Dimensions:LxWxH 20… </td><td>784</td><td>paupoo</td><td>Christmas Hanging Baskets,Christmas Plants,Christmas Wreaths,Christmas Ornaments,Merry Christmas,Christmas Sale,Christmas Porch Ideas,Hanging Christmas Lights,Christmas Island</td><td>image</td><td>https://i.pinimg.com/originals/ef/40/7e/ef407e9568aa46fed4162bd1fd28786e.jpg</td><td>/data/christmas</td><td>christmas</td></tr><tr><td>2482</td><td>08604f20-fa17-4b9a-9949-781717eca6cd</td><td>FORNT PORCH CHRISTMAS DECORATING IDEAS</td><td>Christmas decorating ideas for porches. Beautiful holiday decor ideas for front porches both small and large. Outdoor decorations like sleds, lanterns, Christmas trees, wreaths,… </td><td>46000</td><td>Life on Summerhill | Home, Holiday Decor & DIY Website</td><td>Diy Christmas Decorations For Home,Farmhouse Christmas Decor,Christmas Home,Christmas Holidays,Christmas Front Porches,How To Decorate For Christmas,Christmas Porch Ideas,Christmas Decorating Ideas,Large Outdoor Christmas Decorations</td><td>video</td><td>https://i.pinimg.com/videos/thumbnails/originals/40/83/f5/4083f5b4971bf235f89a4784ab87271e.0000001.jpg</td><td>/data/christmas</td><td>christmas</td></tr><tr><td>2430</td><td>7e16143b-d84a-40a3-a617-e736b728df5d</td><td>9ft Lighted Winter Garland with Bows and Pine Accents, Indoor or Outdoor Christmas Decor</td><td>About This Item We aim to show you accurate product information. Manufacturers, suppliers and others provide what you see here, and we have not verified it. 9ft Lighted Winter G… </td><td>5000</td><td>Wear24-7</td><td>Outside Christmas Decorations,Christmas House Lights,Holiday Decor,Decorating For Christmas Outdoors,Christmas Outdoor Lights,Fireplace Mantel Christmas Decorations,Exterior Christmas Lights,Christmas Garlands,Beautiful Christmas Decorations</td><td>image</td><td>https://i.pinimg.com/originals/ac/28/79/ac28794ec86c522658775b03e93e8cc9.jpg</td><td>/data/christmas</td><td>christmas</td></tr><tr><td>4348</td><td>c25f8906-d9ab-414c-90d6-a5322f714e44</td><td>Surprise Birthday Cards 40th 50th 60th 70th 75th 80th 85th 90th Birthday Cards Fifty Fabulous Birthday Party Forty Birthday Invitation</td><td>\"adult Surprise Birthday Cards 40th 50th 60th 70th 75th 80th 85th 90th Birthday Cards Fifty Fabulous Birthday Party Forty Birthday Invitation 50th 60th 70th 80th Surprise Birthd… </td><td>4000000</td><td>Etsy</td><td>90th Birthday Cards,Forty Birthday,Birthday Postcards,70th Birthday Parties,Happy Birthday Messages,Surprise Birthday,Birthday Ideas,Surprise Party Invitations,Passport Wedding Invitations</td><td>image</td><td>https://i.pinimg.com/originals/9f/a7/b1/9fa7b1fe33555b81d050e6ebf6bb8871.jpg</td><td>/data/event-planning</td><td>event-planning</td></tr><tr><td>6521</td><td>dd508c7e-4ff3-4a94-94cb-abc1327c1f58</td><td>Allan Copley Designs Calligraphy Square Glass Top End Table in Espresso Finish with Brushed Stainless Steel Accents by Allan Copley Designs - Espresso</td><td>Description The Calligraphy Collection by Allan Copley Designs is meticulously crafted with great attention to detail. The Espresso on Kulin finish with Brushed Stainless Steel… </td><td>137</td><td>Your Home, Reimagined LLC</td><td>Glass Top End Tables,End Table Sets,Sofa End Tables,End Tables With Storage,Side Tables,Metal Furniture,Rustic Furniture,Living Room Furniture,Luxury Furniture</td><td>image</td><td>https://i.pinimg.com/originals/5f/4f/9f/5f4f9ff6154aba517a852ceb967e2c11.jpg</td><td>/data/home-decor</td><td>home-decor</td></tr><tr><td>6521</td><td>dd508c7e-4ff3-4a94-94cb-abc1327c1f58</td><td>Allan Copley Designs Calligraphy Square Glass Top End Table in Espresso Finish with Brushed Stainless Steel Accents by Allan Copley Designs - Espresso</td><td>Description The Calligraphy Collection by Allan Copley Designs is meticulously crafted with great attention to detail. The Espresso on Kulin finish with Brushed Stainless Steel… </td><td>137</td><td>Your Home, Reimagined LLC</td><td>Glass Top End Tables,End Table Sets,Sofa End Tables,End Tables With Storage,Side Tables,Metal Furniture,Rustic Furniture,Living Room Furniture,Luxury Furniture</td><td>image</td><td>https://i.pinimg.com/originals/5f/4f/9f/5f4f9ff6154aba517a852ceb967e2c11.jpg</td><td>/data/home-decor</td><td>home-decor</td></tr><tr><td>10538</td><td>5d9fa7e2-2118-4442-99b6-537d60463a6a</td><td>BC Customs (BCC) Search and Rescue Tactical Vehicle-5 (SRTV-5) Baja Racing-Type All-Terrain Combat Vehicle Armed/Weaponized with 7.62mm NATO Garwood Industries (GI) M134G Minigun/Gatling Gun: SXOR…</td><td>By David Crane ; defrev (at) gmail (dot) com All photos contained in this article were shot by DefenseReview.com (DR), and are copyrighted. DefenseReview.com owns the copyright… </td><td>709</td><td>Ricky Lee</td><td>Army Vehicles,Armored Vehicles,Cool Trucks,Cool Cars,Amphibious Vehicle,Offroader,Bug Out Vehicle,Vehicle Wraps,Terrain Vehicle</td><td>image</td><td>https://i.pinimg.com/originals/36/63/12/366312d747da1358397610a86bf21b20.jpg</td><td>/data/vehicles</td><td>vehicles</td></tr><tr><td>4585</td><td>aa873546-701b-40dd-a339-a3f8aaf78ccb</td><td>She Attaches Crystals To A Plate And Creates A Breakfast At Tiffany's Inspired Item!</td><td>This fabulous DIY project made me drool when I first saw it and I knew immediately that I was going to have to make this! I absolutely love things like this...shiny sparkly thin… </td><td>985000</td><td>DIY Joy - Crafts, Home Improvement, Decor & Recipes</td><td>Cheap Favors,Wedding Favors Cheap,Wedding Invitations,Wedding Planning On A Budget,Event Planning,Wedding Table Decorations,Wedding Centerpieces,Dollar Tree Centerpieces,Centerpiece Ideas</td><td>image</td><td>https://i.pinimg.com/originals/a6/79/3c/a6793c2e3deebca67ecd82b0087fc13c.jpg</td><td>/data/event-planning</td><td>event-planning</td></tr><tr><td>527</td><td>ed8af037-ee87-4a80-97ac-99f5b153cf7e</td><td>Blue Gold Marble Canvas , Luxury Wall Art, Abstract Wall Decor, Navy Blue Abstract, Modern Artwork, Oversize Canvas Art, Contemporary Art - 1 Panel 12x9 / Gallery Wrap</td><td>Marble Wall Art Modern Abstract Canvas Artwork Contemporary Home Decor Canvas Wall Art Ready to Hang Canvas Each canvas is professionally printed and hand-stretched in the USA.… </td><td>305</td><td>Wall Canvas Mall</td><td>Modern Art Paintings,Modern Artwork,Modern Wall Art,Blue Artwork,Modern Canvas Art,Contemporary Home Decor,Modern Art Prints,Framed Canvas Prints,Wall Art Prints</td><td>image</td><td>https://i.pinimg.com/originals/b2/6e/95/b26e950a283805d09ef9a4a279781217.jpg</td><td>/data/art</td><td>art</td></tr><tr><td>2732</td><td>800c4f90-50aa-4e3b-aa4f-2be20995f303</td><td>Gingerbread Man Paper Bag Puppet Craft [Free Template]</td><td>Make this cute and easy gingerbread man paper bag puppet craft this Christmas! It comes with a FREE printable template and is great to create with preschool</td><td>267000</td><td>Easy Kids Crafts & Activities | Preschool & Kindergarten Ideas</td><td>Gingerbread Man Crafts,Gingerbread Man Activities,Christmas Activities For Kids,Winter Crafts For Kids,Preschool Christmas,Gingerbread Man Kindergarten,Gingerbread Man Template,Christmas Projects For Kids,Cheap Christmas Crafts</td><td>image</td><td>https://i.pinimg.com/originals/94/24/02/942402ca7264750c0cff719badabb10e.jpg</td><td>/data/diy-and-crafts</td><td>diy-and-crafts</td></tr><tr><td>8699</td><td>91c61561-068b-479f-9030-1cca63e69a8e</td><td>@chik.tattoo on Instagram: “Avis au intéressé j’ai une place qui c’est libéré la semaine prochaine 😋😋 #girlswithtattoos #tattoos #tattooedgirls #mandalatattoo #mandala…”</td><td>Avis au intéressé j’ai une place qui c’est libéré la semaine prochaine 😋😋 #girlswithtattoos #tattoos #tattooedgirls #mandalatattoo #mandala…</td><td>2000</td><td>NoitaDesigns</td><td>Hand Tattoos,Love Tattoos,Beautiful Tattoos,Body Art Tattoos,New Tattoos,Small Tattoos,Tatoos,Future Tattoos,Awesome Tattoos</td><td>image</td><td>https://i.pinimg.com/originals/e6/84/6d/e6846daecb176eccfccc1920471a98d0.jpg</td><td>/data/tattoos</td><td>tattoos</td></tr><tr><td>4357</td><td>ccf116e9-9096-4943-a344-1960ce216445</td><td>First Steps in Launching Your Own Event Business - Learn About Event Planning</td><td>Updated: January 25, 2017 You’ve organized some events for your family, friends or community and you have gained a budding reputation for knowing how put events together. You’ve… </td><td>4000</td><td>EventPlanning.com | Learn How To Become An Event Planner</td><td>Event Planning Quotes,Event Planning Checklist,Event Planning Business,Business Events,Business Ideas,Business Names,Business Opportunities,Corporate Events,Wedding Event Planner</td><td>image</td><td>https://i.pinimg.com/originals/c3/2b/c6/c32bc6ad263857cb0eea19f9cd12beb9.jpg</td><td>/data/event-planning</td><td>event-planning</td></tr><tr><td>4925</td><td>662c77cd-d99a-45f8-9a36-62feadbb4f7b</td><td>20FT x 10FT Blush | Rose Gold Double Layer Polyester Chiffon Backdrop With Rod Pockets</td><td>20ftx10ft Blush Double Layer Polyester Chiffon Backdrop With Rod Pockets Write a review Item Number: BKDP300_046 Default Title - $107.99 USD $107.99Sale Price$166.59Retail Price</td><td>68000</td><td>eFavormart | One-Stop Shop for Wedding, Party & Event Supplies!</td><td>Pink Photography,Background For Photography,Photography Backdrops,Wedding Photography,Photography Ideas,Burlap Backdrop,Fabric Backdrop,Pink Backdrop,Sequin Backdrop</td><td>image</td><td>https://i.pinimg.com/originals/55/1c/c6/551cc65e5aa06edf2eb25318c61ecbd4.jpg</td><td>/data/event-planning</td><td>event-planning</td></tr><tr><td>2237</td><td>81186814-b77a-4cda-b660-bd107f87b7bb</td><td>30 Cheap Christmas Decorations for any Budget - Happily Ever After, Etc.</td><td>I am ready to decorate for Christmas… but with all the things filling the store my pocketbook is feeling a little unprepared. Which is why I’ve gathered an entire list of 30 che… </td><td>53000</td><td>Happily Ever After Etc</td><td>Winter Wedding Centerpieces,Simple Centerpieces,Flower Centerpieces,Centerpiece Ideas,Diy Christmas Wedding Centerpieces,Christmas Wedding Flowers,Graduation Centerpiece,Quinceanera Centerpieces,Diy Candles Christmas</td><td>image</td><td>https://i.pinimg.com/originals/17/43/b0/1743b0f9c21df48678b2b1058af284fb.jpg</td><td>/data/christmas</td><td>christmas</td></tr><tr><td>2288</td><td>991f5083-e4f2-4eee-bf85-d76bf84a08e2</td><td>97 Farmhouse Christmas Decor Ideas For Your Home - Chaylor & Mads</td><td>All the farmhouse Christmas decor ideas to create a gorgeous home for the holidays. Ideas to create a beautiful mantle, stocking you willl love, pillow covers and more!</td><td>91000</td><td>Kristen | Lifestyle, Mom Tips & Teacher Stuff Blog</td><td>Christmas Decorations For The Home,Winter Home Decor,Farmhouse Christmas Decor,Rustic Christmas,Christmas Fireplace,Christmas Mantels,Livingroom Christmas Decor,Christmas Home Decorating,Stocking Decorating Ideas</td><td>image</td><td>https://i.pinimg.com/originals/6f/df/3b/6fdf3bb828b057c76050d5f158694cf6.png</td><td>/data/christmas</td><td>christmas</td></tr><tr><td>4489</td><td>e52a6409-1c00-461a-99ff-2bd16a5dd1a9</td><td>VINTAGE WEDDING PLANNER - 100 Detailed planning pages! Print the ones you need! Digital Budget wedding planner - Seating charts! Gift List!</td><td>This is a digital printable planner. It consists of 100 pages, you can mix and match, do not have to print all of it! Wedding Planning Digital Planner Templates Inserts Pack Goo… </td><td>833</td><td>theunpopularmom</td><td>Budget Wedding,Wedding Planner,Wedding Venues,Seating Chart Wedding,Seating Charts,Planner Template,Printable Planner,Guest List,Bridesmaid Dresses</td><td>image</td><td>https://i.pinimg.com/originals/38/7e/4c/387e4c6c360d2b016b953db3eda11dae.jpg</td><td>/data/event-planning</td><td>event-planning</td></tr><tr><td>25</td><td>f19b91c7-2a58-41ae-a013-3806d248baec</td><td>How to use an Angled Paint Brush! Painting Techniques with The Social Easel Online Paint Studio</td><td>If I could only choose one paint brush it would be the angled brush! I am going to break down four separate Techniques I like to use an Angled Paint Brush with a video painting… </td><td>20000</td><td>The Social Easel Online Paint Studio | Video Painting Tutorials</td><td>Fall Canvas Painting,Basic Painting,Acrylic Painting Flowers,Canvas Painting Tutorials,Autumn Painting,Painting Techniques,Diy Painting,Painting & Drawing,Canvas Art</td><td>image</td><td>https://i.pinimg.com/originals/cc/8e/81/cc8e8190f773d5e3bb7d86890b566da7.png</td><td>/data/art</td><td>art</td></tr><tr><td>1967</td><td>0b9d5b95-51a6-465e-ae4a-2cb68ceada29</td><td>15 Fun & Festive Christmas Porch Ideas</td><td>15 unique Christmas porch ideas that will leave you feeling inspired and help you tackle decorating your own entryway for the holidays! It’s almost time to start decorating for… </td><td>19000</td><td>Ashley - Modern Glam</td><td>Exterior Christmas Lights,Front Door Christmas Decorations,Christmas Lights Outside,Christmas House Lights,Decorating With Christmas Lights,Porch Decorating,Christmas Porch Decorations,Front Porch Ideas For Christmas,Christmas Lights Outdoor Trees</td><td>image</td><td>https://i.pinimg.com/originals/ff/f8/3b/fff83b02aeb29e2e9341a56fc5e63345.png</td><td>/data/christmas</td><td>christmas</td></tr><tr><td>1967</td><td>0b9d5b95-51a6-465e-ae4a-2cb68ceada29</td><td>15 Fun & Festive Christmas Porch Ideas</td><td>15 unique Christmas porch ideas that will leave you feeling inspired and help you tackle decorating your own entryway for the holidays! It’s almost time to start decorating for… </td><td>19000</td><td>Ashley - Modern Glam</td><td>Exterior Christmas Lights,Front Door Christmas Decorations,Christmas Lights Outside,Christmas House Lights,Decorating With Christmas Lights,Porch Decorating,Christmas Porch Decorations,Front Porch Ideas For Christmas,Christmas Lights Outdoor Trees</td><td>image</td><td>https://i.pinimg.com/originals/ff/f8/3b/fff83b02aeb29e2e9341a56fc5e63345.png</td><td>/data/christmas</td><td>christmas</td></tr><tr><td>3723</td><td>46c3331d-50ff-46fa-a8de-b0b7b0b9344d</td><td>Special Education Classroom Setup</td><td>One of the most challenging tasks as a special education teacher is setting up a safe, organized classroom environment for a class with multiple disabilities. Learn more about t… </td><td>16000</td><td>Simply Special Ed | Resources for Special Education Teachers</td><td>Special Education Organization,Kindergarten Special Education,Special Education Activities,Teaching Schools,Special Education Teacher,Classroom Organization,Life Skills Classroom,Classroom Layout,Autism Classroom</td><td>image</td><td>https://i.pinimg.com/originals/22/0e/0f/220e0f3de0e6fd04536979563cd91b2e.jpg</td><td>/data/education</td><td>education</td></tr><tr><td>3285</td><td>45aa124d-a7e6-4a3f-a434-fd59284abed9</td><td>A Beaded Snowflake Craft for Kids: Math & Fine Motor Activity</td><td>This beaded snowflake ornament craft for kids is a great winter project that provides opportunities to work on fine motor skills and number sense. I want to show you a cute wint… </td><td>50000</td><td>Early Learning Ideas</td><td>Winter Activities For Kids,Holiday Crafts For Kids,Craft Activities,Winter Toddler Crafts,Winter Preschool Crafts,Winter Crafts For Preschoolers,Frozen Activities,Hand Crafts For Kids,Holiday Fine Motor Activities</td><td>image</td><td>https://i.pinimg.com/originals/f4/28/f5/f428f54127770cfb2c347feefad5b5ea.png</td><td>/data/diy-and-crafts</td><td>diy-and-crafts</td></tr><tr><td>3285</td><td>45aa124d-a7e6-4a3f-a434-fd59284abed9</td><td>A Beaded Snowflake Craft for Kids: Math & Fine Motor Activity</td><td>This beaded snowflake ornament craft for kids is a great winter project that provides opportunities to work on fine motor skills and number sense. I want to show you a cute wint… </td><td>50000</td><td>Early Learning Ideas</td><td>Winter Activities For Kids,Holiday Crafts For Kids,Craft Activities,Winter Toddler Crafts,Winter Preschool Crafts,Winter Crafts For Preschoolers,Frozen Activities,Hand Crafts For Kids,Holiday Fine Motor Activities</td><td>image</td><td>https://i.pinimg.com/originals/f4/28/f5/f428f54127770cfb2c347feefad5b5ea.png</td><td>/data/diy-and-crafts</td><td>diy-and-crafts</td></tr><tr><td>10138</td><td>927c4658-cc3f-4b92-9b5c-70743d0c238d</td><td>14 Amazing Things To Do In Costa Rica | Volcanoes, Waterfalls, Wildlife And More</td><td>This Costa Rica itinerary is the ultimate guide to spending two weeks in Costa Rica. Find out about visiting La Fortuna, Arenal, Monteverde, Naranjo, Corcovado National Park, Or… </td><td>10000</td><td>Wanderlust Chloe ✈️ Travel guides, inspo and adventure travel ✈️</td><td>Costa Rica Travel,Rio Celeste Costa Rica,Dream Vacations,Vacation Spots,Vacation Travel,Travel Pictures,Travel Photos,Fortuna Costa Rica,Costa Rica Pictures</td><td>image</td><td>https://i.pinimg.com/originals/30/93/cb/3093cb01d9de2d125fda8ba5e3e41946.jpg</td><td>/data/travel</td><td>travel</td></tr><tr><td>9812</td><td>457279c2-6a17-4f53-87b4-47ade3808ee2</td><td>10 Tips For Your First Visit to Athens - The Wanderlust Rose</td><td>First time in Athens, Greece? Not to worry. This bustling city is filled with sites to see, friendly locals and great prices. Here’s a few things to keep in mind- prepare to be… </td><td>3000</td><td>The Wanderlust Rose- Travel Jobs, Adventure & Travel Tips</td><td>Fun Places To Go,Beautiful Places To Travel,Top Travel Destinations,I Want To Travel,Modern City,Athens Greece,Ultimate Travel,Dream Vacations,Travel Around The World</td><td>video</td><td>https://i.pinimg.com/videos/thumbnails/originals/15/e5/50/15e550d4281c8fd83bf73076ec1c5bab.0000001.jpg</td><td>/data/travel</td><td>travel</td></tr><tr><td>3182</td><td>ecb442ba-3ffc-432c-8cf0-43af402ac8fe</td><td>Turkey Craft For Kids</td><td>If you need a fun and simple Thanksgiving craft for kids to make, this handprint turkey craft is perfect! Download the free printable template and make with preschool, pre-k, an… </td><td>267000</td><td>Easy Kids Crafts & Activities | Preschool & Kindergarten Ideas</td><td>Toddler Arts And Crafts,Fall Arts And Crafts,Craft Activities For Kids,Simple Kids Crafts,Animal Crafts For Kids,Craft Projects For Kids,Craft Ideas,Kindergarten Crafts,Daycare Crafts</td><td>video</td><td>https://i.pinimg.com/videos/thumbnails/originals/5d/3d/d7/5d3dd76300e6610aea064a4c029365e9.0000001.jpg</td><td>/data/diy-and-crafts</td><td>diy-and-crafts</td></tr><tr><td>5130</td><td>82578274-6d14-4c0c-a755-aee515556bdc</td><td>How Much Money You Will Need to Make How Much Money You Will Need to Make $1,000 in Dividends,000 in Dividends | Young Adult Money</td><td>Passive income is a great goal, and nothing is more passive than dividends from stocks. Here's how much money you will need to make $1,000 a year in dividends.</td><td>9000</td><td>Young Adult Money</td><td>Financial Tips,Financial Literacy,Financial Planning,Stock Ticker,High Interest Savings Account,Dividend Investing,Energy Saving Tips,Dow Jones Industrial Average,Dividend Stocks</td><td>image</td><td>https://i.pinimg.com/originals/fa/88/3f/fa883f38e875a08d90f8b37ad46acbd1.png</td><td>/data/finance</td><td>finance</td></tr><tr><td>7413</td><td>6d1624dc-543b-4733-85b2-c2106e2c448d</td><td>カーディガンのようにスーツをサラッと着るには？ | ファッションスナップ（メンズ） | LEON レオン オフィシャルWebサイト</td><td>カーディガンのようにスーツを着るコツとは？ | ファッションスナップ（メンズ） | LEON レオン オフィシャルWebサイト</td><td>729</td><td>Mandy Renee</td><td>Italian Mens Fashion,Older Mens Fashion,Suit Fashion,Italian Style Men,Style Gentleman,Dapper Gentleman,Burberry Men,Gucci Men,Versace Men</td><td>image</td><td>https://i.pinimg.com/originals/7e/3b/b7/7e3bb7a0e0f1154551c62e81accc6138.jpg</td><td>/data/mens-fashion</td><td>mens-fashion</td></tr><tr><td>2604</td><td>087b0fa9-f901-4262-aa0a-6caf234d1b35</td><td>75+ Neutral Christmas Home Decor for the Holiday Season in Farmhouse Style using Earth Tones Modern</td><td>My favorite 75+ Neutral Christmas Home Decor for decorating your house during the Holiday Season in earth tones and a farmhouse, rustic style all winter. I love this modern, sim… </td><td>31000</td><td>Everyday Wholesome</td><td>Colorful Christmas Decorations,Colorful Christmas Tree,Christmas Centerpieces,Christmas Colors,Xmas Colors,Winter Decorations,Christmas Trends,Christmas Inspiration,Christmas Home</td><td>image</td><td>https://i.pinimg.com/originals/86/84/39/868439dd894969e3abd6a2a8a9fe1e9c.jpg</td><td>/data/christmas</td><td>christmas</td></tr><tr><td>3824</td><td>03e68424-8062-4328-b451-52edbbf6f25a</td><td>Special Education Accommodation IEP Checklist for Teachers - Caffeine Queen Teacher</td><td>Special education IEP checklist for teachers to track each student's supports. Record accommodations, modifications, interventions, and supports for IEPs, 504s, and special educ… </td><td>4000</td><td>Caffeine Queen Teacher</td><td>Teaching Special Education,Special Education Organization,Education Jobs,Business Education,6th Grade Special Education,Amazon Education,Education Galaxy,Education For All,Continuing Education</td><td>image</td><td>https://i.pinimg.com/originals/ee/52/3c/ee523cdde843344a82f2b7d657f0c580.jpg</td><td>/data/education</td><td>education</td></tr><tr><td>8146</td><td>4b74745a-9d08-4406-bd0a-7a4a9499d3be</td><td>30+ Inspirational Depression Quotes to Encourage You - Resilient</td><td>Depression is an extremely trying and difficult experience in life. But you can get through it, and there is hope for your future. Here are 11 inspirational quotes for people wi… </td><td>5000</td><td>Calion Smith | Trauma & Abuse Healer</td><td>Positive Quotes For Life Encouragement,Good Life Quotes,Self Love Quotes,Meaningful Quotes,Quotes For Hope,Happy Quotes About Life,Hope Quotes Never Give Up,Good Sayings About Life,Changes In Life Quotes</td><td>image</td><td>https://i.pinimg.com/originals/11/fb/85/11fb85f26f5344bce895755b40f743f2.jpg</td><td>/data/quotes</td><td>quotes</td></tr><tr><td>9502</td><td>b08d9be5-42f0-4a6b-88e3-adb274452469</td><td>Ultimate 2 Days in Amsterdam Itinerary + Travel Tips</td><td>Spend 2 days in Amsterdam with this unique Amsterdam itinerary. Discover the best things to do in Amsterdam, including the Rijksmuseum, Van Gogh Museum, cute Amsterdam cafes, an… </td><td>5000</td><td>The Portable Wife | Travel & Expat Life Blog</td><td>Amsterdam Itinerary,Amsterdam Travel Guide,Europe Travel Guide,Travel Tours,Travel Destinations,Traveling Tips,Amsterdam Places To Visit,2 Days In Amsterdam,Best Places To Travel</td><td>video</td><td>https://i.pinimg.com/videos/thumbnails/originals/58/44/25/5844253c6a9e21e9019bae89c4926304.0000001.jpg</td><td>/data/travel</td><td>travel</td></tr><tr><td>5796</td><td>91d55275-a5da-4499-9a0c-746784fef9c7</td><td>How To Build a Vanguard 3 Fund Portfolio Paying Dividends (4 Steps) - Dividends Diversify</td><td>Don't be Afraid of DIY Investing: It's really not that scary. DIY investing may sound intimidating but there are lots of ways you can DIY invest without having to spend much tim… </td><td>28000</td><td>Dividends Diversify: Money Matters So Build Wealth & Be Rich</td><td>Investing In Stocks,Investing Money,Saving Money,Stock Investing,Saving Tips,Investment Tips,Investment Portfolio,Dividend Investing,Dividend Stocks</td><td>image</td><td>https://i.pinimg.com/originals/bf/bd/83/bfbd837df2df5a5abb6d75df3c3761b0.jpg</td><td>/data/finance</td><td>finance</td></tr><tr><td>4634</td><td>19946fdc-66ca-45d3-b711-b79f1a7a6361</td><td>Reusable Diy Wedding / Birthday /Bridal Shower Led Balloon Party Decorations - Green / 10 pack</td><td>Imagine your birthday or wedding being illuminated with these beautiful LED balloons in the evening. What a wonderful atmosphere this would create and how surprised your guests… </td><td>3000</td><td>Lasercutwraps Shop</td><td>Sweet 16 Party Decorations,Quince Decorations,Birthday Decorations,Purple Wedding Decorations,Bridal Shower Balloons,Wedding Balloons,Balloon Party,Diy Wedding,Dream Wedding</td><td>image</td><td>https://i.pinimg.com/originals/ac/b0/fa/acb0fa21a3aed11e7989ed6c90645329.jpg</td><td>/data/event-planning</td><td>event-planning</td></tr><tr><td>4327</td><td>84fb4643-94b5-466b-9a93-04b36638dd0d</td><td>Observing Children’s Learning: A quick guide to the terms and definitions used when assessing learning</td><td>When you enter into the world of Early Childhood Education it’s no doubt just about play and teaching! Educator’s alike would agree that observing and documenting children’s learn…</td><td>91</td><td>Emilee Book</td><td>Early Childhood Education,Early Education,Special Education,Primary Education,Kids Education,Amazon Education,Education City,Early Childhood Activities,Montessori Education</td><td>image</td><td>https://i.pinimg.com/originals/0a/a3/61/0aa3613b7d50296f56b0647b18bfa1b5.jpg</td><td>/data/education</td><td>education</td></tr><tr><td>2315</td><td>7d7ba0ab-aed6-4354-82c0-303dc6553b0e</td><td>Rudolf Christmas Craft: DIY Craft for Kids</td><td>Rudolf Christmas Craft: Easy DIY Christmas Decoration ideas. #christmasdecor #christmasdecorations #diydecorations #rudolf #christmasgifts #christmascrafts #kidscrafts #kidscraf… </td><td>56000</td><td>The Inspiration Edit - Best Instant Pot Recipes And Kids Crafts</td><td>Christmas Decorations For Kids,Winter Crafts For Kids,Diy Christmas Ornaments,Homemade Christmas,Holiday Crafts,Christmas Christmas,Reindeer Ornaments,Rudolph Christmas,Christmas Goodies</td><td>image</td><td>https://i.pinimg.com/originals/a5/41/bd/a541bd44fa7b9bfe5e5331c9bae91532.jpg</td><td>/data/christmas</td><td>christmas</td></tr><tr><td>7446</td><td>2f11aedc-b67b-4f61-82ab-457ca66c72a8</td><td>Korean Men Wool Blends Coats Overcoat Male Winter Warm Clothes Wool Outwear Long Black White Plaid Blends Male Coat Plus Size - Dark Grey / XXL / China</td><td>Brand Name: NoEnName_NullMaterial: PolyesterOrigin: CN(Origin)Applicable Season: Autumn And WinterApplicable Scene: BANQUETStyle: CasualSleeve Length(cm): FullSleeve Style: Regu… </td><td>662</td><td>Fkjie</td><td>Ramses,Black Coat Outfit,Man's Overcoat,Black Overcoat,Fashion Casual,Fashion Men,Men Winter Fashion,Herren Winter,Outfits Hombre</td><td>image</td><td>https://i.pinimg.com/originals/dd/c5/4f/ddc54f1ae810704dd7d1dbd0c3cbd361.jpg</td><td>/data/mens-fashion</td><td>mens-fashion</td></tr><tr><td>3177</td><td>9e46ff64-824c-4e0d-a369-b3f08c21d6db</td><td>Easy Paper Plate Monster Craft For Preschool [Free Template]</td><td>This paper plate monster craft is a fun and simple activity for kids to do any time or specifically for Halloween. It's a non scary way to have fun in October! #simpleeverydaymo… </td><td>267000</td><td>Easy Kids Crafts & Activities | Preschool & Kindergarten Ideas</td><td>Manualidades Halloween,Fun Halloween Crafts,Craft Activities For Kids,Easy Crafts For Kids,Art For Kids,Kids Diy,Craft Ideas,Vintage Halloween,Creative Crafts</td><td>image</td><td>https://i.pinimg.com/originals/9d/6d/37/9d6d37ffbd10ec15ae5a91be026cb5ca.jpg</td><td>/data/diy-and-crafts</td><td>diy-and-crafts</td></tr><tr><td>10022</td><td>282ab1fa-8727-459d-b724-856fe457e690</td><td>High quality 7PCS/set Travel Bag Set Women Men Luggage Organizer for Clothes Shoe Waterproof Packing Cube Portable Clothing - Khaki</td><td>Brand Name: PrettyluhhazelMain Material: OxfordHave Drawbars: NoItem Length: 41.5cmItem Width: 32cmItem Height: 11cmItem Type: Travel BagsClosure Type: Zipper & HaspTravel Bag:… </td><td>3000</td><td>Prettyluhhazel</td><td>Travel Luggage,Luggage Bags,Best Travel Accessories,Travel Organization,Travel Bag Organizer,Travel Essentials,Travel Hacks,Business Travel,Travel Style</td><td>image</td><td>https://i.pinimg.com/originals/f0/c3/b5/f0c3b59c58e7911e5382b09c13bee8f9.jpg</td><td>/data/travel</td><td>travel</td></tr><tr><td>1814</td><td>61b6cdd3-9f18-4fc7-802b-d47673d63390</td><td>46 Stunning Ways to Trim Your Christmas Tree</td><td>Whether coastal, snow-covered, or Charlie Brown-approved, these Christmas tree theme ideas are sure to make your home all the more merry. We'll help you find your true Christmas… </td><td>4000000</td><td>Better Homes and Gardens</td><td>Christmas Tree Pictures,Creative Christmas Trees,Christmas Tree Inspiration,Gold Christmas Decorations,Beautiful Christmas Trees,Holiday Decor,Christmas Tree Ideas,Candy Cane Christmas Tree,Flocked Christmas Trees Decorated</td><td>image</td><td>https://i.pinimg.com/originals/51/48/b9/5148b93cf5556fc65459f021dfc41860.jpg</td><td>/data/christmas</td><td>christmas</td></tr><tr><td>2403</td><td>e5b6a61e-113b-46b6-9a39-d3f544987909</td><td>XtraFly Apparel Women's Let's Get Baked Gingerbread Ugly Christmas V-Neck Short Sleeve T-Shirt - Medium / Green</td><td>100% cotton. Pre-shrunk jersey knit. Short Sleeve T-shirt. Designed and Manufactured in Los Angeles of Imported Fabrics. Women Regular V-neck Collar Fit. Fast Shipping Ships wit… </td><td>133</td><td>xtrafly.myshopify.com</td><td>Christmas Gingerbread,Christmas Mugs,Christmas Baking,Ugly Christmas Sweater,Christmas Humor,Christmas Cookies,Christmas Cards,Holiday Themes,Christmas Themes</td><td>image</td><td>https://i.pinimg.com/originals/a0/0a/10/a00a10b64153b598b56b5df8e9eaf95e.jpg</td><td>/data/christmas</td><td>christmas</td></tr><tr><td>10073</td><td>617b080b-7477-495b-b0e8-321e6a02416f</td><td>There's a Beach in the Caribbean Where You Can Swim with Flamingos</td><td>Oh for flocks sake! Can you even believe that this is REAL? 😱😭😍💕 ⠀⠀⠀⠀⠀⠀⠀⠀⠀⠀⠀⠀⠀⠀⠀⠀⠀⠀ The famous flamingos in Aruba live on Renaissance… in love</td><td>189000</td><td>Town & Country Magazine</td><td>Vacation Places,Dream Vacations,Dream Vacation Spots,Beautiful Places To Travel,Cool Places To Visit,Aloita Resort,Maldives Resort,Photos Voyages,Travel Aesthetic</td><td>image</td><td>https://i.pinimg.com/originals/2a/26/61/2a26619c18d14b39d35d6eac09e3b0dd.jpg</td><td>/data/travel</td><td>travel</td></tr><tr><td>3156</td><td>fa6e31a4-18c2-4eca-a6d8-e903eee2c2a4</td><td>Handprint Reindeer Ornaments - Crafty Morning</td><td>This post may contain affiliate links, read our Disclosure Policy for more information. As an Amazon Associate I earn from qualifying purchases, thank you! Make some cute handpr… </td><td>892000</td><td>Michelle {CraftyMorning.com}</td><td>Christmas Gifts For Parents,Christmas Decorations For Kids,Christmas Crafts For Toddlers,Preschool Christmas,Christmas Crafts For Gifts,Christmas Activities,Toddler Crafts,Kids Christmas,Christmas Feeling</td><td>image</td><td>https://i.pinimg.com/originals/ff/fe/38/fffe384f3ec18a0d87cb2d80cc8c1499.jpg</td><td>/data/diy-and-crafts</td><td>diy-and-crafts</td></tr><tr><td>1864</td><td>6f1951f0-63be-4c4f-8d21-e4995217f69e</td><td>120 Christmas Decorations from the Dollar Store</td><td>Love Christmas decorations but hate spending a lot bunch of money? Check out some of these budget DIY decorations you can easily make from the dollar store!</td><td>42000</td><td>Caroline|CarolineVencil.com | Saving & Making Money | Pro Blogger</td><td>Diy Snowman Decorations,Christmas Candle Decorations,Diy Christmas Ornaments,Christmas Ideas,Christmas Christmas,Snowman Ornaments,Christmas Diy Gifts,Vase Decorations,Diy Christmas Decorations For Home</td><td>image</td><td>https://i.pinimg.com/originals/30/85/21/3085215db77e55770202724268465490.jpg</td><td>/data/christmas</td><td>christmas</td></tr><tr><td>3992</td><td>02157706-f560-44ed-931b-df4f20a1d421</td><td>Free Online Classes for Every Interest</td><td>Just because we aren’t in school anymore doesn’t mean that we stop learning. I love checking out free online classes to learn a new skill or to help me solve a problem. There ar… </td><td>21000</td><td>Ashley Hewell | The Frugal Ginger | Frugal Living + Personal Finance + Money Saving Tips</td><td>The Joy Of Painting,Importance Of Time Management,College Courses,College Tips,Going To University,Learn A New Skill,Schools First,High Schools,Online College</td><td>image</td><td>https://i.pinimg.com/originals/04/f2/14/04f2148ee1f5b985c2e5531c53874a7f.png</td><td>/data/education</td><td>education</td></tr><tr><td>4463</td><td>31010c51-1288-499a-9142-439628a7f68f</td><td>Interview: How to Become a Stronger Event Planner - Learn About Event Planning</td><td>We recently spoke with Kim Sullivan, SVP, CMO of the Event Planners Association. Kim founded the Event Planners Association in 2005 as a way to help event planners and independe… </td><td>4000</td><td>EventPlanning.com | Learn How To Become An Event Planner</td><td>Event Planning Tips,Event Planning Business,Event Ideas,Business Ideas,Party Planning,Wedding Event Planner,Wedding Events,Weddings,Wedding Ideas</td><td>image</td><td>https://i.pinimg.com/originals/c8/4e/f6/c84ef667b2408c3807e7b84082479f2b.jpg</td><td>/data/event-planning</td><td>event-planning</td></tr><tr><td>2206</td><td>b77c69ad-a713-46f2-bd22-b5c727044202</td><td>Making Christmas Tree Cones In The Classroom - Primary Playground</td><td>Making Christmas Tree Cones In The Classroom is such a fun activity for your class Christmas party. These sugar cone Christmas trees are always a hit!</td><td>22000</td><td>Primary Playground</td><td>Cone Christmas Trees,How To Make Christmas Tree,Christmas Treats,Christmas Holidays,Classroom Christmas Decor,Christmas Crafts For Kids To Make At School,Primary Christmas Gifts,Kid Made Christmas Gifts,Flocked Christmas Trees Decorated</td><td>image</td><td>https://i.pinimg.com/originals/c5/c9/a4/c5c9a466e54fb5ee48670a5700aaa86a.png</td><td>/data/christmas</td><td>christmas</td></tr><tr><td>5405</td><td>7c40eac7-9765-4110-87e7-8df07cd484e8</td><td>Coca Cola Stock Analysis (KO) & Dividend Review - Dividends Diversify</td><td>Get your passive income from dividends by investing money in dividend stocks from inconic companies that you know and see everyday! Participate in the stock market and build you… </td><td>28000</td><td>Dividends Diversify: Money Matters So Build Wealth & Be Rich</td><td>Stock Market Investing,Investing In Stocks,Investing Money,Investment Tips,Investment Portfolio,Stock Analysis,Dividend Investing,Dividend Stocks,Budgeting Money</td><td>image</td><td>https://i.pinimg.com/originals/82/c1/fe/82c1feee9459a6990df70b68fe21662d.jpg</td><td>/data/finance</td><td>finance</td></tr></tbody></table></div>"
      ]
     },
     "metadata": {
      "application/vnd.databricks.v1+output": {
       "addedWidgets": {},
       "aggData": [],
       "aggError": "",
       "aggOverflow": false,
       "aggSchema": [],
       "aggSeriesLimitReached": false,
       "aggType": "",
       "arguments": {},
       "columnCustomDisplayInfos": {},
       "data": [
        [
         6717,
         "bc5ab9ee-505e-44f6-92ba-677fe4fdf3e3",
         "〚 Уютные шведские коттеджи от Carina Olander 〛 ◾ Фото ◾ Идеи ◾ Дизайн",
         "Традиционные шведские коттеджи, обычно с красным фасадом — это настоящее воплощением идеального зимнего уюта. Они обычно оформлены очень просто и ✌PUFIK. Beautiful Interiors. On… ",
         136000,
         "PUFIK Interiors & Inspirations",
         "Scandinavian Cottage,Swedish Cottage,Swedish Home Decor,Swedish Farmhouse,Swedish Style,Swedish Kitchen,Kitchen Black,Swedish House,Cozy Cottage",
         "image",
         "https://i.pinimg.com/originals/32/eb/72/32eb72e4fd8654c115a64528bd1f34b4.png",
         "/data/home-decor",
         "home-decor"
        ],
        [
         6633,
         "d136f6bc-840d-44f8-bbad-115eb7e6c51e",
         "The Cottage Journal on Instagram: “Can you say color?! 😍😍😍 We are loving the cheery vibes that these aqua blue cabinets are giving. If you could paint your cabinets any…”",
         "6,636 Likes, 141 Comments - The Cottage Journal (@thecottagejournal) on Instagram: “Can you say color?! 😍😍😍 We are loving the cheery vibes that these aqua blue cabinets are g… ",
         394,
         "Sarah Martin",
         "Diy Kitchen Cabinets,Kitchen Redo,Home Decor Kitchen,New Kitchen,Home Kitchens,Kitchen Remodeling,Aqua Kitchen,Kitchen Counters,Kitchen Islands",
         "image",
         "https://i.pinimg.com/originals/8c/17/a2/8c17a257b70780480bb89c3699363144.jpg",
         "/data/home-decor",
         "home-decor"
        ],
        [
         1706,
         "b5c8a1b5-9e90-4522-9bec-2477b698d5b7",
         "Standing Figurine Toys Xmas Santa Claus Snowman Reindeer Figure Plush Dolls Christmas Decorations Ornaments Home Indoor Table Ornaments Christmas Party Tree Hanging Decor Toys Gifts for Kids Friends…",
         "Features: Material:Lint Size:48ｘ18cm Quantity:1 pc Shape:Santa Claus, snowman. Elk Occasion:Christmas Description: 1. Fashion design, high quality 2. Santa Claus, snowman. Elk C… ",
         5000,
         "Wear24-7",
         "Merry Christmas To You,Christmas Toys,Great Christmas Gifts,Christmas Snowman,Christmas Ornaments,Holiday,Christmas Party Decorations,Christmas Themes,Decoration Party",
         "image",
         "https://i.pinimg.com/originals/b5/7f/21/b57f219fa89c1165b57525b8eae711da.jpg",
         "/data/christmas",
         "christmas"
        ],
        [
         1676,
         "3ed92c2d-9cca-4ccf-ac25-44a9d8bec919",
         "PAUPOO™ Pre-lit Artificial Christmas Hanging Basket - Flocked with Mixed Decorations and White LED Lights - Frosted Berry BUY 5 GET 2 FREE(7PACKS)",
         "❤️ ❤️ MERRY CHRISTMAS ❤️ ❤️ ❤️ ❤️ Early Christmas Special:Buy 3 Get 1 Free, Buy 5 Get 2 Free,Deadline November 25. Color:GreenMaterial:Polyvinyl ChlorideItem Dimensions:LxWxH 20… ",
         784,
         "paupoo",
         "Christmas Hanging Baskets,Christmas Plants,Christmas Wreaths,Christmas Ornaments,Merry Christmas,Christmas Sale,Christmas Porch Ideas,Hanging Christmas Lights,Christmas Island",
         "image",
         "https://i.pinimg.com/originals/ef/40/7e/ef407e9568aa46fed4162bd1fd28786e.jpg",
         "/data/christmas",
         "christmas"
        ],
        [
         2482,
         "08604f20-fa17-4b9a-9949-781717eca6cd",
         "FORNT PORCH CHRISTMAS DECORATING IDEAS",
         "Christmas decorating ideas for porches. Beautiful holiday decor ideas for front porches both small and large. Outdoor decorations like sleds, lanterns, Christmas trees, wreaths,… ",
         46000,
         "Life on Summerhill | Home, Holiday Decor & DIY Website",
         "Diy Christmas Decorations For Home,Farmhouse Christmas Decor,Christmas Home,Christmas Holidays,Christmas Front Porches,How To Decorate For Christmas,Christmas Porch Ideas,Christmas Decorating Ideas,Large Outdoor Christmas Decorations",
         "video",
         "https://i.pinimg.com/videos/thumbnails/originals/40/83/f5/4083f5b4971bf235f89a4784ab87271e.0000001.jpg",
         "/data/christmas",
         "christmas"
        ],
        [
         2430,
         "7e16143b-d84a-40a3-a617-e736b728df5d",
         "9ft Lighted Winter Garland with Bows and Pine Accents, Indoor or Outdoor Christmas Decor",
         "About This Item We aim to show you accurate product information. Manufacturers, suppliers and others provide what you see here, and we have not verified it. 9ft Lighted Winter G… ",
         5000,
         "Wear24-7",
         "Outside Christmas Decorations,Christmas House Lights,Holiday Decor,Decorating For Christmas Outdoors,Christmas Outdoor Lights,Fireplace Mantel Christmas Decorations,Exterior Christmas Lights,Christmas Garlands,Beautiful Christmas Decorations",
         "image",
         "https://i.pinimg.com/originals/ac/28/79/ac28794ec86c522658775b03e93e8cc9.jpg",
         "/data/christmas",
         "christmas"
        ],
        [
         4348,
         "c25f8906-d9ab-414c-90d6-a5322f714e44",
         "Surprise Birthday Cards 40th 50th 60th 70th 75th 80th 85th 90th Birthday Cards Fifty Fabulous Birthday Party Forty Birthday Invitation",
         "\"adult Surprise Birthday Cards 40th 50th 60th 70th 75th 80th 85th 90th Birthday Cards Fifty Fabulous Birthday Party Forty Birthday Invitation 50th 60th 70th 80th Surprise Birthd… ",
         4000000,
         "Etsy",
         "90th Birthday Cards,Forty Birthday,Birthday Postcards,70th Birthday Parties,Happy Birthday Messages,Surprise Birthday,Birthday Ideas,Surprise Party Invitations,Passport Wedding Invitations",
         "image",
         "https://i.pinimg.com/originals/9f/a7/b1/9fa7b1fe33555b81d050e6ebf6bb8871.jpg",
         "/data/event-planning",
         "event-planning"
        ],
        [
         6521,
         "dd508c7e-4ff3-4a94-94cb-abc1327c1f58",
         "Allan Copley Designs Calligraphy Square Glass Top End Table in Espresso Finish with Brushed Stainless Steel Accents by Allan Copley Designs - Espresso",
         "Description The Calligraphy Collection by Allan Copley Designs is meticulously crafted with great attention to detail. The Espresso on Kulin finish with Brushed Stainless Steel… ",
         137,
         "Your Home, Reimagined LLC",
         "Glass Top End Tables,End Table Sets,Sofa End Tables,End Tables With Storage,Side Tables,Metal Furniture,Rustic Furniture,Living Room Furniture,Luxury Furniture",
         "image",
         "https://i.pinimg.com/originals/5f/4f/9f/5f4f9ff6154aba517a852ceb967e2c11.jpg",
         "/data/home-decor",
         "home-decor"
        ],
        [
         6521,
         "dd508c7e-4ff3-4a94-94cb-abc1327c1f58",
         "Allan Copley Designs Calligraphy Square Glass Top End Table in Espresso Finish with Brushed Stainless Steel Accents by Allan Copley Designs - Espresso",
         "Description The Calligraphy Collection by Allan Copley Designs is meticulously crafted with great attention to detail. The Espresso on Kulin finish with Brushed Stainless Steel… ",
         137,
         "Your Home, Reimagined LLC",
         "Glass Top End Tables,End Table Sets,Sofa End Tables,End Tables With Storage,Side Tables,Metal Furniture,Rustic Furniture,Living Room Furniture,Luxury Furniture",
         "image",
         "https://i.pinimg.com/originals/5f/4f/9f/5f4f9ff6154aba517a852ceb967e2c11.jpg",
         "/data/home-decor",
         "home-decor"
        ],
        [
         10538,
         "5d9fa7e2-2118-4442-99b6-537d60463a6a",
         "BC Customs (BCC) Search and Rescue Tactical Vehicle-5 (SRTV-5) Baja Racing-Type All-Terrain Combat Vehicle Armed/Weaponized with 7.62mm NATO Garwood Industries (GI) M134G Minigun/Gatling Gun: SXOR…",
         "By David Crane ; defrev (at) gmail (dot) com All photos contained in this article were shot by DefenseReview.com (DR), and are copyrighted. DefenseReview.com owns the copyright… ",
         709,
         "Ricky Lee",
         "Army Vehicles,Armored Vehicles,Cool Trucks,Cool Cars,Amphibious Vehicle,Offroader,Bug Out Vehicle,Vehicle Wraps,Terrain Vehicle",
         "image",
         "https://i.pinimg.com/originals/36/63/12/366312d747da1358397610a86bf21b20.jpg",
         "/data/vehicles",
         "vehicles"
        ],
        [
         4585,
         "aa873546-701b-40dd-a339-a3f8aaf78ccb",
         "She Attaches Crystals To A Plate And Creates A Breakfast At Tiffany's Inspired Item!",
         "This fabulous DIY project made me drool when I first saw it and I knew immediately that I was going to have to make this! I absolutely love things like this...shiny sparkly thin… ",
         985000,
         "DIY Joy - Crafts, Home Improvement, Decor & Recipes",
         "Cheap Favors,Wedding Favors Cheap,Wedding Invitations,Wedding Planning On A Budget,Event Planning,Wedding Table Decorations,Wedding Centerpieces,Dollar Tree Centerpieces,Centerpiece Ideas",
         "image",
         "https://i.pinimg.com/originals/a6/79/3c/a6793c2e3deebca67ecd82b0087fc13c.jpg",
         "/data/event-planning",
         "event-planning"
        ],
        [
         527,
         "ed8af037-ee87-4a80-97ac-99f5b153cf7e",
         "Blue Gold Marble Canvas , Luxury Wall Art, Abstract Wall Decor, Navy Blue Abstract, Modern Artwork, Oversize Canvas Art, Contemporary Art - 1 Panel 12x9 / Gallery Wrap",
         "Marble Wall Art Modern Abstract Canvas Artwork Contemporary Home Decor Canvas Wall Art Ready to Hang Canvas Each canvas is professionally printed and hand-stretched in the USA.… ",
         305,
         "Wall Canvas Mall",
         "Modern Art Paintings,Modern Artwork,Modern Wall Art,Blue Artwork,Modern Canvas Art,Contemporary Home Decor,Modern Art Prints,Framed Canvas Prints,Wall Art Prints",
         "image",
         "https://i.pinimg.com/originals/b2/6e/95/b26e950a283805d09ef9a4a279781217.jpg",
         "/data/art",
         "art"
        ],
        [
         2732,
         "800c4f90-50aa-4e3b-aa4f-2be20995f303",
         "Gingerbread Man Paper Bag Puppet Craft [Free Template]",
         "Make this cute and easy gingerbread man paper bag puppet craft this Christmas! It comes with a FREE printable template and is great to create with preschool",
         267000,
         "Easy Kids Crafts & Activities | Preschool & Kindergarten Ideas",
         "Gingerbread Man Crafts,Gingerbread Man Activities,Christmas Activities For Kids,Winter Crafts For Kids,Preschool Christmas,Gingerbread Man Kindergarten,Gingerbread Man Template,Christmas Projects For Kids,Cheap Christmas Crafts",
         "image",
         "https://i.pinimg.com/originals/94/24/02/942402ca7264750c0cff719badabb10e.jpg",
         "/data/diy-and-crafts",
         "diy-and-crafts"
        ],
        [
         8699,
         "91c61561-068b-479f-9030-1cca63e69a8e",
         "@chik.tattoo on Instagram: “Avis au intéressé j’ai une place qui c’est libéré la semaine prochaine 😋😋 #girlswithtattoos #tattoos #tattooedgirls #mandalatattoo #mandala…”",
         "Avis au intéressé j’ai une place qui c’est libéré la semaine prochaine 😋😋 #girlswithtattoos #tattoos #tattooedgirls #mandalatattoo #mandala…",
         2000,
         "NoitaDesigns",
         "Hand Tattoos,Love Tattoos,Beautiful Tattoos,Body Art Tattoos,New Tattoos,Small Tattoos,Tatoos,Future Tattoos,Awesome Tattoos",
         "image",
         "https://i.pinimg.com/originals/e6/84/6d/e6846daecb176eccfccc1920471a98d0.jpg",
         "/data/tattoos",
         "tattoos"
        ],
        [
         4357,
         "ccf116e9-9096-4943-a344-1960ce216445",
         "First Steps in Launching Your Own Event Business - Learn About Event Planning",
         "Updated: January 25, 2017 You’ve organized some events for your family, friends or community and you have gained a budding reputation for knowing how put events together. You’ve… ",
         4000,
         "EventPlanning.com | Learn How To Become An Event Planner",
         "Event Planning Quotes,Event Planning Checklist,Event Planning Business,Business Events,Business Ideas,Business Names,Business Opportunities,Corporate Events,Wedding Event Planner",
         "image",
         "https://i.pinimg.com/originals/c3/2b/c6/c32bc6ad263857cb0eea19f9cd12beb9.jpg",
         "/data/event-planning",
         "event-planning"
        ],
        [
         4925,
         "662c77cd-d99a-45f8-9a36-62feadbb4f7b",
         "20FT x 10FT Blush | Rose Gold Double Layer Polyester Chiffon Backdrop With Rod Pockets",
         "20ftx10ft Blush Double Layer Polyester Chiffon Backdrop With Rod Pockets Write a review Item Number: BKDP300_046 Default Title - $107.99 USD $107.99Sale Price$166.59Retail Price",
         68000,
         "eFavormart | One-Stop Shop for Wedding, Party & Event Supplies!",
         "Pink Photography,Background For Photography,Photography Backdrops,Wedding Photography,Photography Ideas,Burlap Backdrop,Fabric Backdrop,Pink Backdrop,Sequin Backdrop",
         "image",
         "https://i.pinimg.com/originals/55/1c/c6/551cc65e5aa06edf2eb25318c61ecbd4.jpg",
         "/data/event-planning",
         "event-planning"
        ],
        [
         2237,
         "81186814-b77a-4cda-b660-bd107f87b7bb",
         "30 Cheap Christmas Decorations for any Budget - Happily Ever After, Etc.",
         "I am ready to decorate for Christmas… but with all the things filling the store my pocketbook is feeling a little unprepared. Which is why I’ve gathered an entire list of 30 che… ",
         53000,
         "Happily Ever After Etc",
         "Winter Wedding Centerpieces,Simple Centerpieces,Flower Centerpieces,Centerpiece Ideas,Diy Christmas Wedding Centerpieces,Christmas Wedding Flowers,Graduation Centerpiece,Quinceanera Centerpieces,Diy Candles Christmas",
         "image",
         "https://i.pinimg.com/originals/17/43/b0/1743b0f9c21df48678b2b1058af284fb.jpg",
         "/data/christmas",
         "christmas"
        ],
        [
         2288,
         "991f5083-e4f2-4eee-bf85-d76bf84a08e2",
         "97 Farmhouse Christmas Decor Ideas For Your Home - Chaylor & Mads",
         "All the farmhouse Christmas decor ideas to create a gorgeous home for the holidays. Ideas to create a beautiful mantle, stocking you willl love, pillow covers and more!",
         91000,
         "Kristen | Lifestyle, Mom Tips & Teacher Stuff Blog",
         "Christmas Decorations For The Home,Winter Home Decor,Farmhouse Christmas Decor,Rustic Christmas,Christmas Fireplace,Christmas Mantels,Livingroom Christmas Decor,Christmas Home Decorating,Stocking Decorating Ideas",
         "image",
         "https://i.pinimg.com/originals/6f/df/3b/6fdf3bb828b057c76050d5f158694cf6.png",
         "/data/christmas",
         "christmas"
        ],
        [
         4489,
         "e52a6409-1c00-461a-99ff-2bd16a5dd1a9",
         "VINTAGE WEDDING PLANNER - 100 Detailed planning pages! Print the ones you need! Digital Budget wedding planner - Seating charts! Gift List!",
         "This is a digital printable planner. It consists of 100 pages, you can mix and match, do not have to print all of it! Wedding Planning Digital Planner Templates Inserts Pack Goo… ",
         833,
         "theunpopularmom",
         "Budget Wedding,Wedding Planner,Wedding Venues,Seating Chart Wedding,Seating Charts,Planner Template,Printable Planner,Guest List,Bridesmaid Dresses",
         "image",
         "https://i.pinimg.com/originals/38/7e/4c/387e4c6c360d2b016b953db3eda11dae.jpg",
         "/data/event-planning",
         "event-planning"
        ],
        [
         25,
         "f19b91c7-2a58-41ae-a013-3806d248baec",
         "How to use an Angled Paint Brush! Painting Techniques with The Social Easel Online Paint Studio",
         "If I could only choose one paint brush it would be the angled brush! I am going to break down four separate Techniques I like to use an Angled Paint Brush with a video painting… ",
         20000,
         "The Social Easel Online Paint Studio | Video Painting Tutorials",
         "Fall Canvas Painting,Basic Painting,Acrylic Painting Flowers,Canvas Painting Tutorials,Autumn Painting,Painting Techniques,Diy Painting,Painting & Drawing,Canvas Art",
         "image",
         "https://i.pinimg.com/originals/cc/8e/81/cc8e8190f773d5e3bb7d86890b566da7.png",
         "/data/art",
         "art"
        ],
        [
         1967,
         "0b9d5b95-51a6-465e-ae4a-2cb68ceada29",
         "15 Fun & Festive Christmas Porch Ideas",
         "15 unique Christmas porch ideas that will leave you feeling inspired and help you tackle decorating your own entryway for the holidays! It’s almost time to start decorating for… ",
         19000,
         "Ashley - Modern Glam",
         "Exterior Christmas Lights,Front Door Christmas Decorations,Christmas Lights Outside,Christmas House Lights,Decorating With Christmas Lights,Porch Decorating,Christmas Porch Decorations,Front Porch Ideas For Christmas,Christmas Lights Outdoor Trees",
         "image",
         "https://i.pinimg.com/originals/ff/f8/3b/fff83b02aeb29e2e9341a56fc5e63345.png",
         "/data/christmas",
         "christmas"
        ],
        [
         1967,
         "0b9d5b95-51a6-465e-ae4a-2cb68ceada29",
         "15 Fun & Festive Christmas Porch Ideas",
         "15 unique Christmas porch ideas that will leave you feeling inspired and help you tackle decorating your own entryway for the holidays! It’s almost time to start decorating for… ",
         19000,
         "Ashley - Modern Glam",
         "Exterior Christmas Lights,Front Door Christmas Decorations,Christmas Lights Outside,Christmas House Lights,Decorating With Christmas Lights,Porch Decorating,Christmas Porch Decorations,Front Porch Ideas For Christmas,Christmas Lights Outdoor Trees",
         "image",
         "https://i.pinimg.com/originals/ff/f8/3b/fff83b02aeb29e2e9341a56fc5e63345.png",
         "/data/christmas",
         "christmas"
        ],
        [
         3723,
         "46c3331d-50ff-46fa-a8de-b0b7b0b9344d",
         "Special Education Classroom Setup",
         "One of the most challenging tasks as a special education teacher is setting up a safe, organized classroom environment for a class with multiple disabilities. Learn more about t… ",
         16000,
         "Simply Special Ed | Resources for Special Education Teachers",
         "Special Education Organization,Kindergarten Special Education,Special Education Activities,Teaching Schools,Special Education Teacher,Classroom Organization,Life Skills Classroom,Classroom Layout,Autism Classroom",
         "image",
         "https://i.pinimg.com/originals/22/0e/0f/220e0f3de0e6fd04536979563cd91b2e.jpg",
         "/data/education",
         "education"
        ],
        [
         3285,
         "45aa124d-a7e6-4a3f-a434-fd59284abed9",
         "A Beaded Snowflake Craft for Kids: Math & Fine Motor Activity",
         "This beaded snowflake ornament craft for kids is a great winter project that provides opportunities to work on fine motor skills and number sense. I want to show you a cute wint… ",
         50000,
         "Early Learning Ideas",
         "Winter Activities For Kids,Holiday Crafts For Kids,Craft Activities,Winter Toddler Crafts,Winter Preschool Crafts,Winter Crafts For Preschoolers,Frozen Activities,Hand Crafts For Kids,Holiday Fine Motor Activities",
         "image",
         "https://i.pinimg.com/originals/f4/28/f5/f428f54127770cfb2c347feefad5b5ea.png",
         "/data/diy-and-crafts",
         "diy-and-crafts"
        ],
        [
         3285,
         "45aa124d-a7e6-4a3f-a434-fd59284abed9",
         "A Beaded Snowflake Craft for Kids: Math & Fine Motor Activity",
         "This beaded snowflake ornament craft for kids is a great winter project that provides opportunities to work on fine motor skills and number sense. I want to show you a cute wint… ",
         50000,
         "Early Learning Ideas",
         "Winter Activities For Kids,Holiday Crafts For Kids,Craft Activities,Winter Toddler Crafts,Winter Preschool Crafts,Winter Crafts For Preschoolers,Frozen Activities,Hand Crafts For Kids,Holiday Fine Motor Activities",
         "image",
         "https://i.pinimg.com/originals/f4/28/f5/f428f54127770cfb2c347feefad5b5ea.png",
         "/data/diy-and-crafts",
         "diy-and-crafts"
        ],
        [
         10138,
         "927c4658-cc3f-4b92-9b5c-70743d0c238d",
         "14 Amazing Things To Do In Costa Rica | Volcanoes, Waterfalls, Wildlife And More",
         "This Costa Rica itinerary is the ultimate guide to spending two weeks in Costa Rica. Find out about visiting La Fortuna, Arenal, Monteverde, Naranjo, Corcovado National Park, Or… ",
         10000,
         "Wanderlust Chloe ✈️ Travel guides, inspo and adventure travel ✈️",
         "Costa Rica Travel,Rio Celeste Costa Rica,Dream Vacations,Vacation Spots,Vacation Travel,Travel Pictures,Travel Photos,Fortuna Costa Rica,Costa Rica Pictures",
         "image",
         "https://i.pinimg.com/originals/30/93/cb/3093cb01d9de2d125fda8ba5e3e41946.jpg",
         "/data/travel",
         "travel"
        ],
        [
         9812,
         "457279c2-6a17-4f53-87b4-47ade3808ee2",
         "10 Tips For Your First Visit to Athens - The Wanderlust Rose",
         "First time in Athens, Greece? Not to worry. This bustling city is filled with sites to see, friendly locals and great prices. Here’s a few things to keep in mind- prepare to be… ",
         3000,
         "The Wanderlust Rose- Travel Jobs, Adventure & Travel Tips",
         "Fun Places To Go,Beautiful Places To Travel,Top Travel Destinations,I Want To Travel,Modern City,Athens Greece,Ultimate Travel,Dream Vacations,Travel Around The World",
         "video",
         "https://i.pinimg.com/videos/thumbnails/originals/15/e5/50/15e550d4281c8fd83bf73076ec1c5bab.0000001.jpg",
         "/data/travel",
         "travel"
        ],
        [
         3182,
         "ecb442ba-3ffc-432c-8cf0-43af402ac8fe",
         "Turkey Craft For Kids",
         "If you need a fun and simple Thanksgiving craft for kids to make, this handprint turkey craft is perfect! Download the free printable template and make with preschool, pre-k, an… ",
         267000,
         "Easy Kids Crafts & Activities | Preschool & Kindergarten Ideas",
         "Toddler Arts And Crafts,Fall Arts And Crafts,Craft Activities For Kids,Simple Kids Crafts,Animal Crafts For Kids,Craft Projects For Kids,Craft Ideas,Kindergarten Crafts,Daycare Crafts",
         "video",
         "https://i.pinimg.com/videos/thumbnails/originals/5d/3d/d7/5d3dd76300e6610aea064a4c029365e9.0000001.jpg",
         "/data/diy-and-crafts",
         "diy-and-crafts"
        ],
        [
         5130,
         "82578274-6d14-4c0c-a755-aee515556bdc",
         "How Much Money You Will Need to Make How Much Money You Will Need to Make $1,000 in Dividends,000 in Dividends | Young Adult Money",
         "Passive income is a great goal, and nothing is more passive than dividends from stocks. Here's how much money you will need to make $1,000 a year in dividends.",
         9000,
         "Young Adult Money",
         "Financial Tips,Financial Literacy,Financial Planning,Stock Ticker,High Interest Savings Account,Dividend Investing,Energy Saving Tips,Dow Jones Industrial Average,Dividend Stocks",
         "image",
         "https://i.pinimg.com/originals/fa/88/3f/fa883f38e875a08d90f8b37ad46acbd1.png",
         "/data/finance",
         "finance"
        ],
        [
         7413,
         "6d1624dc-543b-4733-85b2-c2106e2c448d",
         "カーディガンのようにスーツをサラッと着るには？ | ファッションスナップ（メンズ） | LEON レオン オフィシャルWebサイト",
         "カーディガンのようにスーツを着るコツとは？ | ファッションスナップ（メンズ） | LEON レオン オフィシャルWebサイト",
         729,
         "Mandy Renee",
         "Italian Mens Fashion,Older Mens Fashion,Suit Fashion,Italian Style Men,Style Gentleman,Dapper Gentleman,Burberry Men,Gucci Men,Versace Men",
         "image",
         "https://i.pinimg.com/originals/7e/3b/b7/7e3bb7a0e0f1154551c62e81accc6138.jpg",
         "/data/mens-fashion",
         "mens-fashion"
        ],
        [
         2604,
         "087b0fa9-f901-4262-aa0a-6caf234d1b35",
         "75+ Neutral Christmas Home Decor for the Holiday Season in Farmhouse Style using Earth Tones Modern",
         "My favorite 75+ Neutral Christmas Home Decor for decorating your house during the Holiday Season in earth tones and a farmhouse, rustic style all winter. I love this modern, sim… ",
         31000,
         "Everyday Wholesome",
         "Colorful Christmas Decorations,Colorful Christmas Tree,Christmas Centerpieces,Christmas Colors,Xmas Colors,Winter Decorations,Christmas Trends,Christmas Inspiration,Christmas Home",
         "image",
         "https://i.pinimg.com/originals/86/84/39/868439dd894969e3abd6a2a8a9fe1e9c.jpg",
         "/data/christmas",
         "christmas"
        ],
        [
         3824,
         "03e68424-8062-4328-b451-52edbbf6f25a",
         "Special Education Accommodation IEP Checklist for Teachers - Caffeine Queen Teacher",
         "Special education IEP checklist for teachers to track each student's supports. Record accommodations, modifications, interventions, and supports for IEPs, 504s, and special educ… ",
         4000,
         "Caffeine Queen Teacher",
         "Teaching Special Education,Special Education Organization,Education Jobs,Business Education,6th Grade Special Education,Amazon Education,Education Galaxy,Education For All,Continuing Education",
         "image",
         "https://i.pinimg.com/originals/ee/52/3c/ee523cdde843344a82f2b7d657f0c580.jpg",
         "/data/education",
         "education"
        ],
        [
         8146,
         "4b74745a-9d08-4406-bd0a-7a4a9499d3be",
         "30+ Inspirational Depression Quotes to Encourage You - Resilient",
         "Depression is an extremely trying and difficult experience in life. But you can get through it, and there is hope for your future. Here are 11 inspirational quotes for people wi… ",
         5000,
         "Calion Smith | Trauma & Abuse Healer",
         "Positive Quotes For Life Encouragement,Good Life Quotes,Self Love Quotes,Meaningful Quotes,Quotes For Hope,Happy Quotes About Life,Hope Quotes Never Give Up,Good Sayings About Life,Changes In Life Quotes",
         "image",
         "https://i.pinimg.com/originals/11/fb/85/11fb85f26f5344bce895755b40f743f2.jpg",
         "/data/quotes",
         "quotes"
        ],
        [
         9502,
         "b08d9be5-42f0-4a6b-88e3-adb274452469",
         "Ultimate 2 Days in Amsterdam Itinerary + Travel Tips",
         "Spend 2 days in Amsterdam with this unique Amsterdam itinerary. Discover the best things to do in Amsterdam, including the Rijksmuseum, Van Gogh Museum, cute Amsterdam cafes, an… ",
         5000,
         "The Portable Wife | Travel & Expat Life Blog",
         "Amsterdam Itinerary,Amsterdam Travel Guide,Europe Travel Guide,Travel Tours,Travel Destinations,Traveling Tips,Amsterdam Places To Visit,2 Days In Amsterdam,Best Places To Travel",
         "video",
         "https://i.pinimg.com/videos/thumbnails/originals/58/44/25/5844253c6a9e21e9019bae89c4926304.0000001.jpg",
         "/data/travel",
         "travel"
        ],
        [
         5796,
         "91d55275-a5da-4499-9a0c-746784fef9c7",
         "How To Build a Vanguard 3 Fund Portfolio Paying Dividends (4 Steps) - Dividends Diversify",
         "Don't be Afraid of DIY Investing: It's really not that scary. DIY investing may sound intimidating but there are lots of ways you can DIY invest without having to spend much tim… ",
         28000,
         "Dividends Diversify: Money Matters So Build Wealth & Be Rich",
         "Investing In Stocks,Investing Money,Saving Money,Stock Investing,Saving Tips,Investment Tips,Investment Portfolio,Dividend Investing,Dividend Stocks",
         "image",
         "https://i.pinimg.com/originals/bf/bd/83/bfbd837df2df5a5abb6d75df3c3761b0.jpg",
         "/data/finance",
         "finance"
        ],
        [
         4634,
         "19946fdc-66ca-45d3-b711-b79f1a7a6361",
         "Reusable Diy Wedding / Birthday /Bridal Shower Led Balloon Party Decorations - Green / 10 pack",
         "Imagine your birthday or wedding being illuminated with these beautiful LED balloons in the evening. What a wonderful atmosphere this would create and how surprised your guests… ",
         3000,
         "Lasercutwraps Shop",
         "Sweet 16 Party Decorations,Quince Decorations,Birthday Decorations,Purple Wedding Decorations,Bridal Shower Balloons,Wedding Balloons,Balloon Party,Diy Wedding,Dream Wedding",
         "image",
         "https://i.pinimg.com/originals/ac/b0/fa/acb0fa21a3aed11e7989ed6c90645329.jpg",
         "/data/event-planning",
         "event-planning"
        ],
        [
         4327,
         "84fb4643-94b5-466b-9a93-04b36638dd0d",
         "Observing Children’s Learning: A quick guide to the terms and definitions used when assessing learning",
         "When you enter into the world of Early Childhood Education it’s no doubt just about play and teaching! Educator’s alike would agree that observing and documenting children’s learn…",
         91,
         "Emilee Book",
         "Early Childhood Education,Early Education,Special Education,Primary Education,Kids Education,Amazon Education,Education City,Early Childhood Activities,Montessori Education",
         "image",
         "https://i.pinimg.com/originals/0a/a3/61/0aa3613b7d50296f56b0647b18bfa1b5.jpg",
         "/data/education",
         "education"
        ],
        [
         2315,
         "7d7ba0ab-aed6-4354-82c0-303dc6553b0e",
         "Rudolf Christmas Craft: DIY Craft for Kids",
         "Rudolf Christmas Craft: Easy DIY Christmas Decoration ideas. #christmasdecor #christmasdecorations #diydecorations #rudolf #christmasgifts #christmascrafts #kidscrafts #kidscraf… ",
         56000,
         "The Inspiration Edit - Best Instant Pot Recipes And Kids Crafts",
         "Christmas Decorations For Kids,Winter Crafts For Kids,Diy Christmas Ornaments,Homemade Christmas,Holiday Crafts,Christmas Christmas,Reindeer Ornaments,Rudolph Christmas,Christmas Goodies",
         "image",
         "https://i.pinimg.com/originals/a5/41/bd/a541bd44fa7b9bfe5e5331c9bae91532.jpg",
         "/data/christmas",
         "christmas"
        ],
        [
         7446,
         "2f11aedc-b67b-4f61-82ab-457ca66c72a8",
         "Korean Men Wool Blends Coats Overcoat Male Winter Warm Clothes Wool Outwear Long Black White Plaid Blends Male Coat Plus Size - Dark Grey / XXL / China",
         "Brand Name: NoEnName_NullMaterial: PolyesterOrigin: CN(Origin)Applicable Season: Autumn And WinterApplicable Scene: BANQUETStyle: CasualSleeve Length(cm): FullSleeve Style: Regu… ",
         662,
         "Fkjie",
         "Ramses,Black Coat Outfit,Man's Overcoat,Black Overcoat,Fashion Casual,Fashion Men,Men Winter Fashion,Herren Winter,Outfits Hombre",
         "image",
         "https://i.pinimg.com/originals/dd/c5/4f/ddc54f1ae810704dd7d1dbd0c3cbd361.jpg",
         "/data/mens-fashion",
         "mens-fashion"
        ],
        [
         3177,
         "9e46ff64-824c-4e0d-a369-b3f08c21d6db",
         "Easy Paper Plate Monster Craft For Preschool [Free Template]",
         "This paper plate monster craft is a fun and simple activity for kids to do any time or specifically for Halloween. It's a non scary way to have fun in October! #simpleeverydaymo… ",
         267000,
         "Easy Kids Crafts & Activities | Preschool & Kindergarten Ideas",
         "Manualidades Halloween,Fun Halloween Crafts,Craft Activities For Kids,Easy Crafts For Kids,Art For Kids,Kids Diy,Craft Ideas,Vintage Halloween,Creative Crafts",
         "image",
         "https://i.pinimg.com/originals/9d/6d/37/9d6d37ffbd10ec15ae5a91be026cb5ca.jpg",
         "/data/diy-and-crafts",
         "diy-and-crafts"
        ],
        [
         10022,
         "282ab1fa-8727-459d-b724-856fe457e690",
         "High quality 7PCS/set Travel Bag Set Women Men Luggage Organizer for Clothes Shoe Waterproof Packing Cube Portable Clothing - Khaki",
         "Brand Name: PrettyluhhazelMain Material: OxfordHave Drawbars: NoItem Length: 41.5cmItem Width: 32cmItem Height: 11cmItem Type: Travel BagsClosure Type: Zipper & HaspTravel Bag:… ",
         3000,
         "Prettyluhhazel",
         "Travel Luggage,Luggage Bags,Best Travel Accessories,Travel Organization,Travel Bag Organizer,Travel Essentials,Travel Hacks,Business Travel,Travel Style",
         "image",
         "https://i.pinimg.com/originals/f0/c3/b5/f0c3b59c58e7911e5382b09c13bee8f9.jpg",
         "/data/travel",
         "travel"
        ],
        [
         1814,
         "61b6cdd3-9f18-4fc7-802b-d47673d63390",
         "46 Stunning Ways to Trim Your Christmas Tree",
         "Whether coastal, snow-covered, or Charlie Brown-approved, these Christmas tree theme ideas are sure to make your home all the more merry. We'll help you find your true Christmas… ",
         4000000,
         "Better Homes and Gardens",
         "Christmas Tree Pictures,Creative Christmas Trees,Christmas Tree Inspiration,Gold Christmas Decorations,Beautiful Christmas Trees,Holiday Decor,Christmas Tree Ideas,Candy Cane Christmas Tree,Flocked Christmas Trees Decorated",
         "image",
         "https://i.pinimg.com/originals/51/48/b9/5148b93cf5556fc65459f021dfc41860.jpg",
         "/data/christmas",
         "christmas"
        ],
        [
         2403,
         "e5b6a61e-113b-46b6-9a39-d3f544987909",
         "XtraFly Apparel Women's Let's Get Baked Gingerbread Ugly Christmas V-Neck Short Sleeve T-Shirt - Medium / Green",
         "100% cotton. Pre-shrunk jersey knit. Short Sleeve T-shirt. Designed and Manufactured in Los Angeles of Imported Fabrics. Women Regular V-neck Collar Fit. Fast Shipping Ships wit… ",
         133,
         "xtrafly.myshopify.com",
         "Christmas Gingerbread,Christmas Mugs,Christmas Baking,Ugly Christmas Sweater,Christmas Humor,Christmas Cookies,Christmas Cards,Holiday Themes,Christmas Themes",
         "image",
         "https://i.pinimg.com/originals/a0/0a/10/a00a10b64153b598b56b5df8e9eaf95e.jpg",
         "/data/christmas",
         "christmas"
        ],
        [
         10073,
         "617b080b-7477-495b-b0e8-321e6a02416f",
         "There's a Beach in the Caribbean Where You Can Swim with Flamingos",
         "Oh for flocks sake! Can you even believe that this is REAL? 😱😭😍💕 ⠀⠀⠀⠀⠀⠀⠀⠀⠀⠀⠀⠀⠀⠀⠀⠀⠀⠀ The famous flamingos in Aruba live on Renaissance… in love",
         189000,
         "Town & Country Magazine",
         "Vacation Places,Dream Vacations,Dream Vacation Spots,Beautiful Places To Travel,Cool Places To Visit,Aloita Resort,Maldives Resort,Photos Voyages,Travel Aesthetic",
         "image",
         "https://i.pinimg.com/originals/2a/26/61/2a26619c18d14b39d35d6eac09e3b0dd.jpg",
         "/data/travel",
         "travel"
        ],
        [
         3156,
         "fa6e31a4-18c2-4eca-a6d8-e903eee2c2a4",
         "Handprint Reindeer Ornaments - Crafty Morning",
         "This post may contain affiliate links, read our Disclosure Policy for more information. As an Amazon Associate I earn from qualifying purchases, thank you! Make some cute handpr… ",
         892000,
         "Michelle {CraftyMorning.com}",
         "Christmas Gifts For Parents,Christmas Decorations For Kids,Christmas Crafts For Toddlers,Preschool Christmas,Christmas Crafts For Gifts,Christmas Activities,Toddler Crafts,Kids Christmas,Christmas Feeling",
         "image",
         "https://i.pinimg.com/originals/ff/fe/38/fffe384f3ec18a0d87cb2d80cc8c1499.jpg",
         "/data/diy-and-crafts",
         "diy-and-crafts"
        ],
        [
         1864,
         "6f1951f0-63be-4c4f-8d21-e4995217f69e",
         "120 Christmas Decorations from the Dollar Store",
         "Love Christmas decorations but hate spending a lot bunch of money? Check out some of these budget DIY decorations you can easily make from the dollar store!",
         42000,
         "Caroline|CarolineVencil.com | Saving & Making Money | Pro Blogger",
         "Diy Snowman Decorations,Christmas Candle Decorations,Diy Christmas Ornaments,Christmas Ideas,Christmas Christmas,Snowman Ornaments,Christmas Diy Gifts,Vase Decorations,Diy Christmas Decorations For Home",
         "image",
         "https://i.pinimg.com/originals/30/85/21/3085215db77e55770202724268465490.jpg",
         "/data/christmas",
         "christmas"
        ],
        [
         3992,
         "02157706-f560-44ed-931b-df4f20a1d421",
         "Free Online Classes for Every Interest",
         "Just because we aren’t in school anymore doesn’t mean that we stop learning. I love checking out free online classes to learn a new skill or to help me solve a problem. There ar… ",
         21000,
         "Ashley Hewell | The Frugal Ginger | Frugal Living + Personal Finance + Money Saving Tips",
         "The Joy Of Painting,Importance Of Time Management,College Courses,College Tips,Going To University,Learn A New Skill,Schools First,High Schools,Online College",
         "image",
         "https://i.pinimg.com/originals/04/f2/14/04f2148ee1f5b985c2e5531c53874a7f.png",
         "/data/education",
         "education"
        ],
        [
         4463,
         "31010c51-1288-499a-9142-439628a7f68f",
         "Interview: How to Become a Stronger Event Planner - Learn About Event Planning",
         "We recently spoke with Kim Sullivan, SVP, CMO of the Event Planners Association. Kim founded the Event Planners Association in 2005 as a way to help event planners and independe… ",
         4000,
         "EventPlanning.com | Learn How To Become An Event Planner",
         "Event Planning Tips,Event Planning Business,Event Ideas,Business Ideas,Party Planning,Wedding Event Planner,Wedding Events,Weddings,Wedding Ideas",
         "image",
         "https://i.pinimg.com/originals/c8/4e/f6/c84ef667b2408c3807e7b84082479f2b.jpg",
         "/data/event-planning",
         "event-planning"
        ],
        [
         2206,
         "b77c69ad-a713-46f2-bd22-b5c727044202",
         "Making Christmas Tree Cones In The Classroom - Primary Playground",
         "Making Christmas Tree Cones In The Classroom is such a fun activity for your class Christmas party. These sugar cone Christmas trees are always a hit!",
         22000,
         "Primary Playground",
         "Cone Christmas Trees,How To Make Christmas Tree,Christmas Treats,Christmas Holidays,Classroom Christmas Decor,Christmas Crafts For Kids To Make At School,Primary Christmas Gifts,Kid Made Christmas Gifts,Flocked Christmas Trees Decorated",
         "image",
         "https://i.pinimg.com/originals/c5/c9/a4/c5c9a466e54fb5ee48670a5700aaa86a.png",
         "/data/christmas",
         "christmas"
        ],
        [
         5405,
         "7c40eac7-9765-4110-87e7-8df07cd484e8",
         "Coca Cola Stock Analysis (KO) & Dividend Review - Dividends Diversify",
         "Get your passive income from dividends by investing money in dividend stocks from inconic companies that you know and see everyday! Participate in the stock market and build you… ",
         28000,
         "Dividends Diversify: Money Matters So Build Wealth & Be Rich",
         "Stock Market Investing,Investing In Stocks,Investing Money,Investment Tips,Investment Portfolio,Stock Analysis,Dividend Investing,Dividend Stocks,Budgeting Money",
         "image",
         "https://i.pinimg.com/originals/82/c1/fe/82c1feee9459a6990df70b68fe21662d.jpg",
         "/data/finance",
         "finance"
        ]
       ],
       "datasetInfos": [],
       "dbfsResultPath": null,
       "isJsonSchema": true,
       "metadata": {},
       "overflow": false,
       "plotOptions": {
        "customPlotOptions": {},
        "displayType": "table",
        "pivotAggregation": null,
        "pivotColumns": null,
        "xColumns": null,
        "yColumns": null
       },
       "removedWidgets": [],
       "schema": [
        {
         "metadata": "{}",
         "name": "ind",
         "type": "\"long\""
        },
        {
         "metadata": "{}",
         "name": "unique_id",
         "type": "\"string\""
        },
        {
         "metadata": "{}",
         "name": "title",
         "type": "\"string\""
        },
        {
         "metadata": "{}",
         "name": "description",
         "type": "\"string\""
        },
        {
         "metadata": "{}",
         "name": "follower_count",
         "type": "\"integer\""
        },
        {
         "metadata": "{}",
         "name": "poster_name",
         "type": "\"string\""
        },
        {
         "metadata": "{}",
         "name": "tag_list",
         "type": "\"string\""
        },
        {
         "metadata": "{}",
         "name": "is_image_or_video",
         "type": "\"string\""
        },
        {
         "metadata": "{}",
         "name": "image_src",
         "type": "\"string\""
        },
        {
         "metadata": "{}",
         "name": "save_location",
         "type": "\"string\""
        },
        {
         "metadata": "{}",
         "name": "category",
         "type": "\"string\""
        }
       ],
       "type": "table"
      }
     },
     "output_type": "display_data"
    },
    {
     "data": {
      "text/html": [
       "<style scoped>\n",
       "  .ansiout {\n",
       "    display: block;\n",
       "    unicode-bidi: embed;\n",
       "    white-space: pre-wrap;\n",
       "    word-wrap: break-word;\n",
       "    word-break: break-all;\n",
       "    font-family: \"Source Code Pro\", \"Menlo\", monospace;;\n",
       "    font-size: 13px;\n",
       "    color: #555;\n",
       "    margin-left: 4px;\n",
       "    line-height: 19px;\n",
       "  }\n",
       "</style>\n",
       "<div class=\"ansiout\">root\n",
       "-- ind: long (nullable = true)\n",
       "-- unique_id: string (nullable = true)\n",
       "-- title: string (nullable = true)\n",
       "-- description: string (nullable = true)\n",
       "-- follower_count: integer (nullable = true)\n",
       "-- poster_name: string (nullable = true)\n",
       "-- tag_list: string (nullable = true)\n",
       "-- is_image_or_video: string (nullable = true)\n",
       "-- image_src: string (nullable = true)\n",
       "-- save_location: string (nullable = true)\n",
       "-- category: string (nullable = true)\n",
       "\n",
       "</div>"
      ]
     },
     "metadata": {
      "application/vnd.databricks.v1+output": {
       "addedWidgets": {},
       "arguments": {},
       "data": "<div class=\"ansiout\">root\n |-- ind: long (nullable = true)\n |-- unique_id: string (nullable = true)\n |-- title: string (nullable = true)\n |-- description: string (nullable = true)\n |-- follower_count: integer (nullable = true)\n |-- poster_name: string (nullable = true)\n |-- tag_list: string (nullable = true)\n |-- is_image_or_video: string (nullable = true)\n |-- image_src: string (nullable = true)\n |-- save_location: string (nullable = true)\n |-- category: string (nullable = true)\n\n</div>",
       "datasetInfos": [],
       "metadata": {},
       "removedWidgets": [],
       "type": "html"
      }
     },
     "output_type": "display_data"
    }
   ],
   "source": [
    "# display changes\n",
    "df_pin.limit(50).display()\n",
    "df_pin.printSchema()"
   ]
  },
  {
   "cell_type": "markdown",
   "metadata": {},
   "source": [
    "## Clean df_geo dataframe"
   ]
  },
  {
   "cell_type": "code",
   "execution_count": null,
   "metadata": {
    "application/vnd.databricks.v1+cell": {
     "cellMetadata": {
      "byteLimit": 2048000,
      "rowLimit": 10000
     },
     "inputWidgets": {},
     "nuid": "840262d4-0610-41bf-8e2a-bbacf9fd94ba",
     "showTitle": false,
     "title": ""
    }
   },
   "outputs": [
    {
     "data": {
      "text/html": [
       "<style scoped>\n",
       "  .ansiout {\n",
       "    display: block;\n",
       "    unicode-bidi: embed;\n",
       "    white-space: pre-wrap;\n",
       "    word-wrap: break-word;\n",
       "    word-break: break-all;\n",
       "    font-family: \"Source Code Pro\", \"Menlo\", monospace;;\n",
       "    font-size: 13px;\n",
       "    color: #555;\n",
       "    margin-left: 4px;\n",
       "    line-height: 19px;\n",
       "  }\n",
       "</style>\n",
       "<div class=\"ansiout\"></div>"
      ]
     },
     "metadata": {
      "application/vnd.databricks.v1+output": {
       "addedWidgets": {},
       "arguments": {},
       "data": "<div class=\"ansiout\"></div>",
       "datasetInfos": [],
       "metadata": {},
       "removedWidgets": [],
       "type": "html"
      }
     },
     "output_type": "display_data"
    }
   ],
   "source": [
    "# import types\n",
    "from pyspark.sql.types import ArrayType, DoubleType\n",
    "# define function for returning list containing two values\n",
    "def combine_lat_and_long(latitude, longitude):\n",
    "    return [latitude, longitude]\n",
    "# define new user-defined function\n",
    "new_func = udf(combine_lat_and_long, ArrayType(DoubleType()))\n",
    "# apply new udf to combine latitude and longitude columns\n",
    "df_geo = df_geo.withColumn(\"coordinates\", new_func(\"latitude\", \"longitude\"))\n",
    "# drop the latitude and longitude columns\n",
    "cols_to_drop = (\"latitude\", \"longitude\")\n",
    "df_geo = df_geo.drop(*cols_to_drop)\n",
    "# convert timestamp column from type string to type timestamp\n",
    "df_geo = df_geo.withColumn(\"timestamp\", to_timestamp(\"timestamp\"))\n",
    "# change column order\n",
    "new_geo_column_order = [\n",
    "    \"ind\",\n",
    "    \"country\",\n",
    "    \"coordinates\",\n",
    "    \"timestamp\",\n",
    "]\n",
    "df_geo = df_geo.select(new_geo_column_order)"
   ]
  },
  {
   "cell_type": "code",
   "execution_count": null,
   "metadata": {
    "application/vnd.databricks.v1+cell": {
     "cellMetadata": {
      "byteLimit": 2048000,
      "rowLimit": 10000
     },
     "inputWidgets": {},
     "nuid": "a4ba2d14-372b-45ef-80f9-fe3992ea6a19",
     "showTitle": false,
     "title": ""
    }
   },
   "outputs": [
    {
     "data": {
      "text/html": [
       "<style scoped>\n",
       "  .table-result-container {\n",
       "    max-height: 300px;\n",
       "    overflow: auto;\n",
       "  }\n",
       "  table, th, td {\n",
       "    border: 1px solid black;\n",
       "    border-collapse: collapse;\n",
       "  }\n",
       "  th, td {\n",
       "    padding: 5px;\n",
       "  }\n",
       "  th {\n",
       "    text-align: left;\n",
       "  }\n",
       "</style><div class='table-result-container'><table class='table-result'><thead style='background-color: white'><tr><th>ind</th><th>country</th><th>coordinates</th><th>timestamp</th></tr></thead><tbody><tr><td>9455</td><td>British Indian Ocean Territory (Chagos Archipelago)</td><td>List(-82.9272, -150.346)</td><td>2022-03-15T01:46:32.000+0000</td></tr><tr><td>6814</td><td>British Indian Ocean Territory (Chagos Archipelago)</td><td>List(-86.5675, -149.565)</td><td>2022-09-02T11:34:28.000+0000</td></tr><tr><td>5111</td><td>British Indian Ocean Territory (Chagos Archipelago)</td><td>List(-83.7472, 8.65953)</td><td>2021-04-01T00:56:57.000+0000</td></tr><tr><td>10073</td><td>Antarctica (the territory South of 60 deg S)</td><td>List(-32.8885, -170.295)</td><td>2021-06-29T19:56:04.000+0000</td></tr><tr><td>2418</td><td>Antarctica (the territory South of 60 deg S)</td><td>List(-88.4642, -171.061)</td><td>2022-05-27T11:30:59.000+0000</td></tr><tr><td>5162</td><td>Antarctica (the territory South of 60 deg S)</td><td>List(-71.6607, -149.206)</td><td>2019-09-27T19:06:43.000+0000</td></tr><tr><td>1335</td><td>Antarctica (the territory South of 60 deg S)</td><td>List(-77.9931, -175.682)</td><td>2022-03-19T17:29:42.000+0000</td></tr><tr><td>9185</td><td>Antarctica (the territory South of 60 deg S)</td><td>List(-10.3764, -22.9809)</td><td>2019-10-06T18:12:55.000+0000</td></tr><tr><td>9335</td><td>Antarctica (the territory South of 60 deg S)</td><td>List(-88.4642, -171.061)</td><td>2020-11-14T23:42:22.000+0000</td></tr><tr><td>6749</td><td>Antarctica (the territory South of 60 deg S)</td><td>List(-88.4642, -171.061)</td><td>2018-04-16T07:39:46.000+0000</td></tr><tr><td>10507</td><td>South Georgia and the South Sandwich Islands</td><td>List(-89.4786, -68.913)</td><td>2018-12-27T23:57:31.000+0000</td></tr><tr><td>1729</td><td>Antarctica (the territory South of 60 deg S)</td><td>List(-88.4642, -171.061)</td><td>2021-05-04T14:59:44.000+0000</td></tr><tr><td>8836</td><td>Antarctica (the territory South of 60 deg S)</td><td>List(-75.0203, -108.272)</td><td>2022-09-06T23:57:01.000+0000</td></tr><tr><td>4361</td><td>Antarctica (the territory South of 60 deg S)</td><td>List(-24.8372, -163.337)</td><td>2022-07-17T10:48:12.000+0000</td></tr><tr><td>9117</td><td>Antarctica (the territory South of 60 deg S)</td><td>List(-88.4642, -171.061)</td><td>2018-08-02T03:26:24.000+0000</td></tr><tr><td>7090</td><td>Antarctica (the territory South of 60 deg S)</td><td>List(-62.92, -63.7974)</td><td>2022-01-08T18:53:52.000+0000</td></tr><tr><td>624</td><td>Antarctica (the territory South of 60 deg S)</td><td>List(-41.1737, 170.227)</td><td>2019-07-01T14:55:07.000+0000</td></tr><tr><td>7206</td><td>Heard Island and McDonald Islands</td><td>List(-69.8132, -173.161)</td><td>2020-08-19T02:53:12.000+0000</td></tr><tr><td>8058</td><td>Lao People's Democratic Republic</td><td>List(-45.8033, -140.37)</td><td>2018-08-05T01:23:40.000+0000</td></tr><tr><td>7631</td><td>Heard Island and McDonald Islands</td><td>List(54.4122, 130.428)</td><td>2021-12-15T22:42:25.000+0000</td></tr><tr><td>7958</td><td>Saint Vincent and the Grenadines</td><td>List(-72.3686, 174.831)</td><td>2021-02-26T21:03:00.000+0000</td></tr><tr><td>2301</td><td>Saint Vincent and the Grenadines</td><td>List(13.4683, 51.7244)</td><td>2020-11-14T00:25:28.000+0000</td></tr><tr><td>7180</td><td>Holy See (Vatican City State)</td><td>List(-22.7118, -167.739)</td><td>2018-04-22T21:33:50.000+0000</td></tr><tr><td>10204</td><td>Svalbard & Jan Mayen Islands</td><td>List(-14.3257, 26.9087)</td><td>2020-04-06T02:56:29.000+0000</td></tr><tr><td>10204</td><td>Svalbard & Jan Mayen Islands</td><td>List(-14.3257, 26.9087)</td><td>2020-04-06T02:56:29.000+0000</td></tr><tr><td>7718</td><td>United States Virgin Islands</td><td>List(-21.4347, 108.416)</td><td>2022-08-10T06:57:29.000+0000</td></tr><tr><td>4186</td><td>Falkland Islands (Malvinas)</td><td>List(-72.0557, -5.16099)</td><td>2018-09-10T12:52:21.000+0000</td></tr><tr><td>2297</td><td>United States Virgin Islands</td><td>List(28.1985, -94.6501)</td><td>2021-10-04T19:45:54.000+0000</td></tr><tr><td>7600</td><td>United States Virgin Islands</td><td>List(13.9054, -166.411)</td><td>2019-10-14T10:12:49.000+0000</td></tr><tr><td>6014</td><td>French Southern Territories</td><td>List(-26.6026, 155.206)</td><td>2019-04-30T12:33:13.000+0000</td></tr><tr><td>813</td><td>French Southern Territories</td><td>List(-70.9146, -136.554)</td><td>2022-06-13T23:08:43.000+0000</td></tr><tr><td>974</td><td>Svalbard & Jan Mayen Islands</td><td>List(-56.9556, 94.6183)</td><td>2022-03-17T09:24:07.000+0000</td></tr><tr><td>10369</td><td>Bouvet Island (Bouvetoya)</td><td>List(-79.0994, -101.415)</td><td>2020-02-01T10:43:06.000+0000</td></tr><tr><td>204</td><td>United States Virgin Islands</td><td>List(29.2096, -13.1258)</td><td>2018-11-23T15:01:11.000+0000</td></tr><tr><td>8677</td><td>Bouvet Island (Bouvetoya)</td><td>List(-84.3984, -144.933)</td><td>2020-02-12T23:24:01.000+0000</td></tr><tr><td>9270</td><td>Bouvet Island (Bouvetoya)</td><td>List(-84.3984, -144.933)</td><td>2022-05-23T03:24:24.000+0000</td></tr><tr><td>2465</td><td>Bouvet Island (Bouvetoya)</td><td>List(-57.1033, -29.6301)</td><td>2022-07-23T11:15:09.000+0000</td></tr><tr><td>3185</td><td>Bouvet Island (Bouvetoya)</td><td>List(-88.4607, -154.638)</td><td>2022-06-14T09:39:11.000+0000</td></tr><tr><td>8251</td><td>Bouvet Island (Bouvetoya)</td><td>List(-0.165781, -62.325)</td><td>2022-02-03T11:05:11.000+0000</td></tr><tr><td>10513</td><td>Slovakia (Slovak Republic)</td><td>List(25.2981, 143.877)</td><td>2021-05-30T01:56:22.000+0000</td></tr><tr><td>2226</td><td>Falkland Islands (Malvinas)</td><td>List(3.38121, 89.7473)</td><td>2018-10-14T11:54:15.000+0000</td></tr><tr><td>4348</td><td>Bouvet Island (Bouvetoya)</td><td>List(-81.2924, -145.407)</td><td>2019-04-06T17:59:09.000+0000</td></tr><tr><td>4574</td><td>Bouvet Island (Bouvetoya)</td><td>List(-81.2924, -145.407)</td><td>2019-02-22T15:04:43.000+0000</td></tr><tr><td>7258</td><td>Saint Pierre and Miquelon</td><td>List(-39.2432, -46.5562)</td><td>2022-08-06T15:17:24.000+0000</td></tr><tr><td>10794</td><td>Cocos (Keeling) Islands</td><td>List(-89.5236, -154.567)</td><td>2022-01-01T02:26:50.000+0000</td></tr><tr><td>10052</td><td>Central African Republic</td><td>List(14.7195, -130.921)</td><td>2020-01-03T01:10:57.000+0000</td></tr><tr><td>6660</td><td>Bouvet Island (Bouvetoya)</td><td>List(-54.5264, 73.4883)</td><td>2019-02-01T11:00:19.000+0000</td></tr><tr><td>7370</td><td>Saint Pierre and Miquelon</td><td>List(-24.2107, 138.463)</td><td>2018-04-05T08:02:42.000+0000</td></tr><tr><td>10020</td><td>Cocos (Keeling) Islands</td><td>List(-88.6883, -86.0607)</td><td>2021-08-22T19:54:37.000+0000</td></tr><tr><td>9935</td><td>Bouvet Island (Bouvetoya)</td><td>List(-88.516, -178.811)</td><td>2022-02-04T05:27:15.000+0000</td></tr></tbody></table></div>"
      ]
     },
     "metadata": {
      "application/vnd.databricks.v1+output": {
       "addedWidgets": {},
       "aggData": [],
       "aggError": "",
       "aggOverflow": false,
       "aggSchema": [],
       "aggSeriesLimitReached": false,
       "aggType": "",
       "arguments": {},
       "columnCustomDisplayInfos": {},
       "data": [
        [
         9455,
         "British Indian Ocean Territory (Chagos Archipelago)",
         [
          -82.9272,
          -150.346
         ],
         "2022-03-15T01:46:32.000+0000"
        ],
        [
         6814,
         "British Indian Ocean Territory (Chagos Archipelago)",
         [
          -86.5675,
          -149.565
         ],
         "2022-09-02T11:34:28.000+0000"
        ],
        [
         5111,
         "British Indian Ocean Territory (Chagos Archipelago)",
         [
          -83.7472,
          8.65953
         ],
         "2021-04-01T00:56:57.000+0000"
        ],
        [
         10073,
         "Antarctica (the territory South of 60 deg S)",
         [
          -32.8885,
          -170.295
         ],
         "2021-06-29T19:56:04.000+0000"
        ],
        [
         2418,
         "Antarctica (the territory South of 60 deg S)",
         [
          -88.4642,
          -171.061
         ],
         "2022-05-27T11:30:59.000+0000"
        ],
        [
         5162,
         "Antarctica (the territory South of 60 deg S)",
         [
          -71.6607,
          -149.206
         ],
         "2019-09-27T19:06:43.000+0000"
        ],
        [
         1335,
         "Antarctica (the territory South of 60 deg S)",
         [
          -77.9931,
          -175.682
         ],
         "2022-03-19T17:29:42.000+0000"
        ],
        [
         9185,
         "Antarctica (the territory South of 60 deg S)",
         [
          -10.3764,
          -22.9809
         ],
         "2019-10-06T18:12:55.000+0000"
        ],
        [
         9335,
         "Antarctica (the territory South of 60 deg S)",
         [
          -88.4642,
          -171.061
         ],
         "2020-11-14T23:42:22.000+0000"
        ],
        [
         6749,
         "Antarctica (the territory South of 60 deg S)",
         [
          -88.4642,
          -171.061
         ],
         "2018-04-16T07:39:46.000+0000"
        ],
        [
         10507,
         "South Georgia and the South Sandwich Islands",
         [
          -89.4786,
          -68.913
         ],
         "2018-12-27T23:57:31.000+0000"
        ],
        [
         1729,
         "Antarctica (the territory South of 60 deg S)",
         [
          -88.4642,
          -171.061
         ],
         "2021-05-04T14:59:44.000+0000"
        ],
        [
         8836,
         "Antarctica (the territory South of 60 deg S)",
         [
          -75.0203,
          -108.272
         ],
         "2022-09-06T23:57:01.000+0000"
        ],
        [
         4361,
         "Antarctica (the territory South of 60 deg S)",
         [
          -24.8372,
          -163.337
         ],
         "2022-07-17T10:48:12.000+0000"
        ],
        [
         9117,
         "Antarctica (the territory South of 60 deg S)",
         [
          -88.4642,
          -171.061
         ],
         "2018-08-02T03:26:24.000+0000"
        ],
        [
         7090,
         "Antarctica (the territory South of 60 deg S)",
         [
          -62.92,
          -63.7974
         ],
         "2022-01-08T18:53:52.000+0000"
        ],
        [
         624,
         "Antarctica (the territory South of 60 deg S)",
         [
          -41.1737,
          170.227
         ],
         "2019-07-01T14:55:07.000+0000"
        ],
        [
         7206,
         "Heard Island and McDonald Islands",
         [
          -69.8132,
          -173.161
         ],
         "2020-08-19T02:53:12.000+0000"
        ],
        [
         8058,
         "Lao People's Democratic Republic",
         [
          -45.8033,
          -140.37
         ],
         "2018-08-05T01:23:40.000+0000"
        ],
        [
         7631,
         "Heard Island and McDonald Islands",
         [
          54.4122,
          130.428
         ],
         "2021-12-15T22:42:25.000+0000"
        ],
        [
         7958,
         "Saint Vincent and the Grenadines",
         [
          -72.3686,
          174.831
         ],
         "2021-02-26T21:03:00.000+0000"
        ],
        [
         2301,
         "Saint Vincent and the Grenadines",
         [
          13.4683,
          51.7244
         ],
         "2020-11-14T00:25:28.000+0000"
        ],
        [
         7180,
         "Holy See (Vatican City State)",
         [
          -22.7118,
          -167.739
         ],
         "2018-04-22T21:33:50.000+0000"
        ],
        [
         10204,
         "Svalbard & Jan Mayen Islands",
         [
          -14.3257,
          26.9087
         ],
         "2020-04-06T02:56:29.000+0000"
        ],
        [
         10204,
         "Svalbard & Jan Mayen Islands",
         [
          -14.3257,
          26.9087
         ],
         "2020-04-06T02:56:29.000+0000"
        ],
        [
         7718,
         "United States Virgin Islands",
         [
          -21.4347,
          108.416
         ],
         "2022-08-10T06:57:29.000+0000"
        ],
        [
         4186,
         "Falkland Islands (Malvinas)",
         [
          -72.0557,
          -5.16099
         ],
         "2018-09-10T12:52:21.000+0000"
        ],
        [
         2297,
         "United States Virgin Islands",
         [
          28.1985,
          -94.6501
         ],
         "2021-10-04T19:45:54.000+0000"
        ],
        [
         7600,
         "United States Virgin Islands",
         [
          13.9054,
          -166.411
         ],
         "2019-10-14T10:12:49.000+0000"
        ],
        [
         6014,
         "French Southern Territories",
         [
          -26.6026,
          155.206
         ],
         "2019-04-30T12:33:13.000+0000"
        ],
        [
         813,
         "French Southern Territories",
         [
          -70.9146,
          -136.554
         ],
         "2022-06-13T23:08:43.000+0000"
        ],
        [
         974,
         "Svalbard & Jan Mayen Islands",
         [
          -56.9556,
          94.6183
         ],
         "2022-03-17T09:24:07.000+0000"
        ],
        [
         10369,
         "Bouvet Island (Bouvetoya)",
         [
          -79.0994,
          -101.415
         ],
         "2020-02-01T10:43:06.000+0000"
        ],
        [
         204,
         "United States Virgin Islands",
         [
          29.2096,
          -13.1258
         ],
         "2018-11-23T15:01:11.000+0000"
        ],
        [
         8677,
         "Bouvet Island (Bouvetoya)",
         [
          -84.3984,
          -144.933
         ],
         "2020-02-12T23:24:01.000+0000"
        ],
        [
         9270,
         "Bouvet Island (Bouvetoya)",
         [
          -84.3984,
          -144.933
         ],
         "2022-05-23T03:24:24.000+0000"
        ],
        [
         2465,
         "Bouvet Island (Bouvetoya)",
         [
          -57.1033,
          -29.6301
         ],
         "2022-07-23T11:15:09.000+0000"
        ],
        [
         3185,
         "Bouvet Island (Bouvetoya)",
         [
          -88.4607,
          -154.638
         ],
         "2022-06-14T09:39:11.000+0000"
        ],
        [
         8251,
         "Bouvet Island (Bouvetoya)",
         [
          -0.165781,
          -62.325
         ],
         "2022-02-03T11:05:11.000+0000"
        ],
        [
         10513,
         "Slovakia (Slovak Republic)",
         [
          25.2981,
          143.877
         ],
         "2021-05-30T01:56:22.000+0000"
        ],
        [
         2226,
         "Falkland Islands (Malvinas)",
         [
          3.38121,
          89.7473
         ],
         "2018-10-14T11:54:15.000+0000"
        ],
        [
         4348,
         "Bouvet Island (Bouvetoya)",
         [
          -81.2924,
          -145.407
         ],
         "2019-04-06T17:59:09.000+0000"
        ],
        [
         4574,
         "Bouvet Island (Bouvetoya)",
         [
          -81.2924,
          -145.407
         ],
         "2019-02-22T15:04:43.000+0000"
        ],
        [
         7258,
         "Saint Pierre and Miquelon",
         [
          -39.2432,
          -46.5562
         ],
         "2022-08-06T15:17:24.000+0000"
        ],
        [
         10794,
         "Cocos (Keeling) Islands",
         [
          -89.5236,
          -154.567
         ],
         "2022-01-01T02:26:50.000+0000"
        ],
        [
         10052,
         "Central African Republic",
         [
          14.7195,
          -130.921
         ],
         "2020-01-03T01:10:57.000+0000"
        ],
        [
         6660,
         "Bouvet Island (Bouvetoya)",
         [
          -54.5264,
          73.4883
         ],
         "2019-02-01T11:00:19.000+0000"
        ],
        [
         7370,
         "Saint Pierre and Miquelon",
         [
          -24.2107,
          138.463
         ],
         "2018-04-05T08:02:42.000+0000"
        ],
        [
         10020,
         "Cocos (Keeling) Islands",
         [
          -88.6883,
          -86.0607
         ],
         "2021-08-22T19:54:37.000+0000"
        ],
        [
         9935,
         "Bouvet Island (Bouvetoya)",
         [
          -88.516,
          -178.811
         ],
         "2022-02-04T05:27:15.000+0000"
        ]
       ],
       "datasetInfos": [],
       "dbfsResultPath": null,
       "isJsonSchema": true,
       "metadata": {},
       "overflow": false,
       "plotOptions": {
        "customPlotOptions": {},
        "displayType": "table",
        "pivotAggregation": null,
        "pivotColumns": null,
        "xColumns": null,
        "yColumns": null
       },
       "removedWidgets": [],
       "schema": [
        {
         "metadata": "{}",
         "name": "ind",
         "type": "\"long\""
        },
        {
         "metadata": "{}",
         "name": "country",
         "type": "\"string\""
        },
        {
         "metadata": "{}",
         "name": "coordinates",
         "type": "{\"type\":\"array\",\"elementType\":\"double\",\"containsNull\":true}"
        },
        {
         "metadata": "{}",
         "name": "timestamp",
         "type": "\"timestamp\""
        }
       ],
       "type": "table"
      }
     },
     "output_type": "display_data"
    },
    {
     "data": {
      "text/html": [
       "<style scoped>\n",
       "  .ansiout {\n",
       "    display: block;\n",
       "    unicode-bidi: embed;\n",
       "    white-space: pre-wrap;\n",
       "    word-wrap: break-word;\n",
       "    word-break: break-all;\n",
       "    font-family: \"Source Code Pro\", \"Menlo\", monospace;;\n",
       "    font-size: 13px;\n",
       "    color: #555;\n",
       "    margin-left: 4px;\n",
       "    line-height: 19px;\n",
       "  }\n",
       "</style>\n",
       "<div class=\"ansiout\">root\n",
       "-- ind: long (nullable = true)\n",
       "-- country: string (nullable = true)\n",
       "-- coordinates: array (nullable = true)\n",
       "    |-- element: double (containsNull = true)\n",
       "-- timestamp: timestamp (nullable = true)\n",
       "\n",
       "</div>"
      ]
     },
     "metadata": {
      "application/vnd.databricks.v1+output": {
       "addedWidgets": {},
       "arguments": {},
       "data": "<div class=\"ansiout\">root\n |-- ind: long (nullable = true)\n |-- country: string (nullable = true)\n |-- coordinates: array (nullable = true)\n |    |-- element: double (containsNull = true)\n |-- timestamp: timestamp (nullable = true)\n\n</div>",
       "datasetInfos": [],
       "metadata": {},
       "removedWidgets": [],
       "type": "html"
      }
     },
     "output_type": "display_data"
    }
   ],
   "source": [
    "# display changes\n",
    "df_geo.limit(50).display()\n",
    "df_geo.printSchema()"
   ]
  },
  {
   "cell_type": "markdown",
   "metadata": {},
   "source": [
    "## Clean df_pin dataframe"
   ]
  },
  {
   "cell_type": "code",
   "execution_count": null,
   "metadata": {
    "application/vnd.databricks.v1+cell": {
     "cellMetadata": {
      "byteLimit": 2048000,
      "rowLimit": 10000
     },
     "inputWidgets": {},
     "nuid": "0a1ae46a-bf9d-4836-b530-dd1ba5d98048",
     "showTitle": false,
     "title": ""
    }
   },
   "outputs": [
    {
     "data": {
      "text/html": [
       "<style scoped>\n",
       "  .ansiout {\n",
       "    display: block;\n",
       "    unicode-bidi: embed;\n",
       "    white-space: pre-wrap;\n",
       "    word-wrap: break-word;\n",
       "    word-break: break-all;\n",
       "    font-family: \"Source Code Pro\", \"Menlo\", monospace;;\n",
       "    font-size: 13px;\n",
       "    color: #555;\n",
       "    margin-left: 4px;\n",
       "    line-height: 19px;\n",
       "  }\n",
       "</style>\n",
       "<div class=\"ansiout\"></div>"
      ]
     },
     "metadata": {
      "application/vnd.databricks.v1+output": {
       "addedWidgets": {},
       "arguments": {},
       "data": "<div class=\"ansiout\"></div>",
       "datasetInfos": [],
       "metadata": {},
       "removedWidgets": [],
       "type": "html"
      }
     },
     "output_type": "display_data"
    }
   ],
   "source": [
    "# create new column for full name\n",
    "df_user = df_user.withColumn(\"user_name\", concat_ws(\" \", \"first_name\", \"last_name\"))\n",
    "# drop the first_name and last_name columns\n",
    "cols_to_drop = (\"first_name\", \"last_name\")\n",
    "df_user = df_user.drop(*cols_to_drop)\n",
    "# convert date_joined column from type string to type timestamp\n",
    "df_user = df_user.withColumn(\"date_joined\", to_timestamp(\"date_joined\"))\n",
    "# change column order\n",
    "new_user_column_order = [\n",
    "    \"ind\",\n",
    "    \"user_name\",\n",
    "    \"age\",\n",
    "    \"date_joined\",\n",
    "]\n",
    "df_user = df_user.select(new_user_column_order)"
   ]
  },
  {
   "cell_type": "code",
   "execution_count": null,
   "metadata": {
    "application/vnd.databricks.v1+cell": {
     "cellMetadata": {
      "byteLimit": 2048000,
      "rowLimit": 10000
     },
     "inputWidgets": {},
     "nuid": "e9629ab2-0c24-4bd4-88f4-9b166ec14ca2",
     "showTitle": false,
     "title": ""
    }
   },
   "outputs": [
    {
     "data": {
      "text/html": [
       "<style scoped>\n",
       "  .table-result-container {\n",
       "    max-height: 300px;\n",
       "    overflow: auto;\n",
       "  }\n",
       "  table, th, td {\n",
       "    border: 1px solid black;\n",
       "    border-collapse: collapse;\n",
       "  }\n",
       "  th, td {\n",
       "    padding: 5px;\n",
       "  }\n",
       "  th {\n",
       "    text-align: left;\n",
       "  }\n",
       "</style><div class='table-result-container'><table class='table-result'><thead style='background-color: white'><tr><th>ind</th><th>user_name</th><th>age</th><th>date_joined</th></tr></thead><tbody><tr><td>2015</td><td>Christopher Bradshaw</td><td>27</td><td>2016-03-08T13:38:37.000+0000</td></tr><tr><td>10673</td><td>Alexander Cervantes</td><td>59</td><td>2017-05-12T21:22:17.000+0000</td></tr><tr><td>1857</td><td>Christopher Hamilton</td><td>48</td><td>2016-02-27T16:57:44.000+0000</td></tr><tr><td>10020</td><td>Christopher Hawkins</td><td>45</td><td>2016-09-15T06:02:53.000+0000</td></tr><tr><td>2041</td><td>Christopher Campbell</td><td>35</td><td>2015-10-22T22:42:23.000+0000</td></tr><tr><td>7031</td><td>Christopher Anderson</td><td>48</td><td>2016-06-13T17:09:14.000+0000</td></tr><tr><td>6398</td><td>Christina Davenport</td><td>39</td><td>2016-06-29T20:43:59.000+0000</td></tr><tr><td>3599</td><td>Alexandria Alvarado</td><td>20</td><td>2015-10-23T04:13:23.000+0000</td></tr><tr><td>4256</td><td>Alexandria Alvarado</td><td>20</td><td>2015-10-23T04:13:23.000+0000</td></tr><tr><td>1901</td><td>Michelle Richardson</td><td>44</td><td>2016-12-18T16:05:39.000+0000</td></tr><tr><td>3831</td><td>Alexandria Alvarado</td><td>20</td><td>2015-10-23T04:13:23.000+0000</td></tr><tr><td>6602</td><td>Alexandria Anderson</td><td>23</td><td>2015-10-31T19:20:09.000+0000</td></tr><tr><td>4249</td><td>Alexandria Alvarado</td><td>20</td><td>2015-10-23T04:13:23.000+0000</td></tr><tr><td>4245</td><td>Alexandria Alvarado</td><td>20</td><td>2015-10-23T04:13:23.000+0000</td></tr><tr><td>10677</td><td>Catherine Mitchell</td><td>26</td><td>2016-06-16T14:07:36.000+0000</td></tr><tr><td>3896</td><td>Alexandria Alvarado</td><td>20</td><td>2015-10-23T04:13:23.000+0000</td></tr><tr><td>2161</td><td>Alexander Rodriguez</td><td>55</td><td>2017-08-12T13:26:38.000+0000</td></tr><tr><td>813</td><td>Christopher Gonzalez</td><td>30</td><td>2016-03-02T23:44:12.000+0000</td></tr><tr><td>2595</td><td>Christopher Barnett</td><td>22</td><td>2016-03-24T09:38:54.000+0000</td></tr><tr><td>3717</td><td>Alexandria Alvarado</td><td>20</td><td>2015-10-23T04:13:23.000+0000</td></tr><tr><td>3475</td><td>Alexandria Alvarado</td><td>20</td><td>2015-10-23T04:13:23.000+0000</td></tr><tr><td>9582</td><td>Christopher Hawkins</td><td>45</td><td>2016-09-15T06:02:53.000+0000</td></tr><tr><td>5076</td><td>Christopher Butler</td><td>20</td><td>2015-12-01T15:08:31.000+0000</td></tr><tr><td>7790</td><td>Michelle Gutierrez</td><td>39</td><td>2017-07-19T07:12:04.000+0000</td></tr><tr><td>10509</td><td>Brittany Thompson</td><td>49</td><td>2016-04-22T20:36:02.000+0000</td></tr><tr><td>10248</td><td>Elizabeth English</td><td>25</td><td>2016-08-19T02:29:26.000+0000</td></tr><tr><td>1487</td><td>Jonathan Rodriguez</td><td>30</td><td>2016-09-05T12:31:44.000+0000</td></tr><tr><td>10917</td><td>Valerie Rodriguez</td><td>31</td><td>2016-07-30T01:45:47.000+0000</td></tr><tr><td>10734</td><td>Jennifer Arellano</td><td>28</td><td>2015-12-18T10:50:10.000+0000</td></tr><tr><td>10429</td><td>Brandon Henderson</td><td>24</td><td>2016-01-12T17:59:43.000+0000</td></tr><tr><td>2946</td><td>Samantha Carpenter</td><td>24</td><td>2016-06-26T00:05:17.000+0000</td></tr><tr><td>10600</td><td>Robert Mclaughlin</td><td>49</td><td>2016-02-27T04:42:03.000+0000</td></tr><tr><td>1487</td><td>Jonathan Rodriguez</td><td>30</td><td>2016-09-05T12:31:44.000+0000</td></tr><tr><td>4761</td><td>Christopher Norman</td><td>40</td><td>2017-03-07T21:33:30.000+0000</td></tr><tr><td>10721</td><td>Garrett Hernandez</td><td>53</td><td>2017-04-05T13:59:02.000+0000</td></tr><tr><td>7206</td><td>Christina Anderson</td><td>27</td><td>2016-03-03T11:25:21.000+0000</td></tr><tr><td>6806</td><td>Christopher Daniel</td><td>25</td><td>2016-04-15T17:06:49.000+0000</td></tr><tr><td>2267</td><td>Andrea Blankenship</td><td>27</td><td>2016-04-11T21:27:52.000+0000</td></tr><tr><td>2532</td><td>Danielle Hernandez</td><td>24</td><td>2016-03-24T23:39:08.000+0000</td></tr><tr><td>7790</td><td>Michelle Gutierrez</td><td>39</td><td>2017-07-19T07:12:04.000+0000</td></tr><tr><td>10675</td><td>Christopher Combs</td><td>42</td><td>2016-02-08T16:47:33.000+0000</td></tr><tr><td>1969</td><td>Christopher Haynes</td><td>25</td><td>2016-02-14T23:08:47.000+0000</td></tr><tr><td>10119</td><td>Chelsea Gonzalez</td><td>43</td><td>2016-07-21T15:25:08.000+0000</td></tr><tr><td>3716</td><td>Catherine Ferrell</td><td>21</td><td>2017-01-02T03:01:09.000+0000</td></tr><tr><td>7268</td><td>Alejandra Acevedo</td><td>20</td><td>2015-11-24T21:01:23.000+0000</td></tr><tr><td>9426</td><td>Nicholas Mcdaniel</td><td>45</td><td>2017-05-24T01:41:26.000+0000</td></tr><tr><td>7116</td><td>Michael Mcconnell</td><td>59</td><td>2017-06-01T10:55:10.000+0000</td></tr><tr><td>1335</td><td>Benjamin Campbell</td><td>20</td><td>2015-11-16T13:25:08.000+0000</td></tr><tr><td>4765</td><td>Danielle Gonzalez</td><td>36</td><td>2017-02-16T16:01:34.000+0000</td></tr><tr><td>10204</td><td>Heather Gonzalez</td><td>41</td><td>2016-06-14T11:16:18.000+0000</td></tr></tbody></table></div>"
      ]
     },
     "metadata": {
      "application/vnd.databricks.v1+output": {
       "addedWidgets": {},
       "aggData": [],
       "aggError": "",
       "aggOverflow": false,
       "aggSchema": [],
       "aggSeriesLimitReached": false,
       "aggType": "",
       "arguments": {},
       "columnCustomDisplayInfos": {},
       "data": [
        [
         2015,
         "Christopher Bradshaw",
         27,
         "2016-03-08T13:38:37.000+0000"
        ],
        [
         10673,
         "Alexander Cervantes",
         59,
         "2017-05-12T21:22:17.000+0000"
        ],
        [
         1857,
         "Christopher Hamilton",
         48,
         "2016-02-27T16:57:44.000+0000"
        ],
        [
         10020,
         "Christopher Hawkins",
         45,
         "2016-09-15T06:02:53.000+0000"
        ],
        [
         2041,
         "Christopher Campbell",
         35,
         "2015-10-22T22:42:23.000+0000"
        ],
        [
         7031,
         "Christopher Anderson",
         48,
         "2016-06-13T17:09:14.000+0000"
        ],
        [
         6398,
         "Christina Davenport",
         39,
         "2016-06-29T20:43:59.000+0000"
        ],
        [
         3599,
         "Alexandria Alvarado",
         20,
         "2015-10-23T04:13:23.000+0000"
        ],
        [
         4256,
         "Alexandria Alvarado",
         20,
         "2015-10-23T04:13:23.000+0000"
        ],
        [
         1901,
         "Michelle Richardson",
         44,
         "2016-12-18T16:05:39.000+0000"
        ],
        [
         3831,
         "Alexandria Alvarado",
         20,
         "2015-10-23T04:13:23.000+0000"
        ],
        [
         6602,
         "Alexandria Anderson",
         23,
         "2015-10-31T19:20:09.000+0000"
        ],
        [
         4249,
         "Alexandria Alvarado",
         20,
         "2015-10-23T04:13:23.000+0000"
        ],
        [
         4245,
         "Alexandria Alvarado",
         20,
         "2015-10-23T04:13:23.000+0000"
        ],
        [
         10677,
         "Catherine Mitchell",
         26,
         "2016-06-16T14:07:36.000+0000"
        ],
        [
         3896,
         "Alexandria Alvarado",
         20,
         "2015-10-23T04:13:23.000+0000"
        ],
        [
         2161,
         "Alexander Rodriguez",
         55,
         "2017-08-12T13:26:38.000+0000"
        ],
        [
         813,
         "Christopher Gonzalez",
         30,
         "2016-03-02T23:44:12.000+0000"
        ],
        [
         2595,
         "Christopher Barnett",
         22,
         "2016-03-24T09:38:54.000+0000"
        ],
        [
         3717,
         "Alexandria Alvarado",
         20,
         "2015-10-23T04:13:23.000+0000"
        ],
        [
         3475,
         "Alexandria Alvarado",
         20,
         "2015-10-23T04:13:23.000+0000"
        ],
        [
         9582,
         "Christopher Hawkins",
         45,
         "2016-09-15T06:02:53.000+0000"
        ],
        [
         5076,
         "Christopher Butler",
         20,
         "2015-12-01T15:08:31.000+0000"
        ],
        [
         7790,
         "Michelle Gutierrez",
         39,
         "2017-07-19T07:12:04.000+0000"
        ],
        [
         10509,
         "Brittany Thompson",
         49,
         "2016-04-22T20:36:02.000+0000"
        ],
        [
         10248,
         "Elizabeth English",
         25,
         "2016-08-19T02:29:26.000+0000"
        ],
        [
         1487,
         "Jonathan Rodriguez",
         30,
         "2016-09-05T12:31:44.000+0000"
        ],
        [
         10917,
         "Valerie Rodriguez",
         31,
         "2016-07-30T01:45:47.000+0000"
        ],
        [
         10734,
         "Jennifer Arellano",
         28,
         "2015-12-18T10:50:10.000+0000"
        ],
        [
         10429,
         "Brandon Henderson",
         24,
         "2016-01-12T17:59:43.000+0000"
        ],
        [
         2946,
         "Samantha Carpenter",
         24,
         "2016-06-26T00:05:17.000+0000"
        ],
        [
         10600,
         "Robert Mclaughlin",
         49,
         "2016-02-27T04:42:03.000+0000"
        ],
        [
         1487,
         "Jonathan Rodriguez",
         30,
         "2016-09-05T12:31:44.000+0000"
        ],
        [
         4761,
         "Christopher Norman",
         40,
         "2017-03-07T21:33:30.000+0000"
        ],
        [
         10721,
         "Garrett Hernandez",
         53,
         "2017-04-05T13:59:02.000+0000"
        ],
        [
         7206,
         "Christina Anderson",
         27,
         "2016-03-03T11:25:21.000+0000"
        ],
        [
         6806,
         "Christopher Daniel",
         25,
         "2016-04-15T17:06:49.000+0000"
        ],
        [
         2267,
         "Andrea Blankenship",
         27,
         "2016-04-11T21:27:52.000+0000"
        ],
        [
         2532,
         "Danielle Hernandez",
         24,
         "2016-03-24T23:39:08.000+0000"
        ],
        [
         7790,
         "Michelle Gutierrez",
         39,
         "2017-07-19T07:12:04.000+0000"
        ],
        [
         10675,
         "Christopher Combs",
         42,
         "2016-02-08T16:47:33.000+0000"
        ],
        [
         1969,
         "Christopher Haynes",
         25,
         "2016-02-14T23:08:47.000+0000"
        ],
        [
         10119,
         "Chelsea Gonzalez",
         43,
         "2016-07-21T15:25:08.000+0000"
        ],
        [
         3716,
         "Catherine Ferrell",
         21,
         "2017-01-02T03:01:09.000+0000"
        ],
        [
         7268,
         "Alejandra Acevedo",
         20,
         "2015-11-24T21:01:23.000+0000"
        ],
        [
         9426,
         "Nicholas Mcdaniel",
         45,
         "2017-05-24T01:41:26.000+0000"
        ],
        [
         7116,
         "Michael Mcconnell",
         59,
         "2017-06-01T10:55:10.000+0000"
        ],
        [
         1335,
         "Benjamin Campbell",
         20,
         "2015-11-16T13:25:08.000+0000"
        ],
        [
         4765,
         "Danielle Gonzalez",
         36,
         "2017-02-16T16:01:34.000+0000"
        ],
        [
         10204,
         "Heather Gonzalez",
         41,
         "2016-06-14T11:16:18.000+0000"
        ]
       ],
       "datasetInfos": [],
       "dbfsResultPath": null,
       "isJsonSchema": true,
       "metadata": {},
       "overflow": false,
       "plotOptions": {
        "customPlotOptions": {},
        "displayType": "table",
        "pivotAggregation": null,
        "pivotColumns": null,
        "xColumns": null,
        "yColumns": null
       },
       "removedWidgets": [],
       "schema": [
        {
         "metadata": "{}",
         "name": "ind",
         "type": "\"long\""
        },
        {
         "metadata": "{}",
         "name": "user_name",
         "type": "\"string\""
        },
        {
         "metadata": "{}",
         "name": "age",
         "type": "\"long\""
        },
        {
         "metadata": "{}",
         "name": "date_joined",
         "type": "\"timestamp\""
        }
       ],
       "type": "table"
      }
     },
     "output_type": "display_data"
    },
    {
     "data": {
      "text/html": [
       "<style scoped>\n",
       "  .ansiout {\n",
       "    display: block;\n",
       "    unicode-bidi: embed;\n",
       "    white-space: pre-wrap;\n",
       "    word-wrap: break-word;\n",
       "    word-break: break-all;\n",
       "    font-family: \"Source Code Pro\", \"Menlo\", monospace;;\n",
       "    font-size: 13px;\n",
       "    color: #555;\n",
       "    margin-left: 4px;\n",
       "    line-height: 19px;\n",
       "  }\n",
       "</style>\n",
       "<div class=\"ansiout\">root\n",
       "-- ind: long (nullable = true)\n",
       "-- user_name: string (nullable = false)\n",
       "-- age: long (nullable = true)\n",
       "-- date_joined: timestamp (nullable = true)\n",
       "\n",
       "</div>"
      ]
     },
     "metadata": {
      "application/vnd.databricks.v1+output": {
       "addedWidgets": {},
       "arguments": {},
       "data": "<div class=\"ansiout\">root\n |-- ind: long (nullable = true)\n |-- user_name: string (nullable = false)\n |-- age: long (nullable = true)\n |-- date_joined: timestamp (nullable = true)\n\n</div>",
       "datasetInfos": [],
       "metadata": {},
       "removedWidgets": [],
       "type": "html"
      }
     },
     "output_type": "display_data"
    }
   ],
   "source": [
    "# display changes\n",
    "df_user.limit(50).display()\n",
    "df_user.printSchema()"
   ]
  }
 ],
 "metadata": {
  "application/vnd.databricks.v1+notebook": {
   "dashboards": [],
   "language": "python",
   "notebookMetadata": {
    "pythonIndentUnit": 4
   },
   "notebookName": "Mount S3",
   "widgets": {}
  },
  "language_info": {
   "name": "python"
  }
 },
 "nbformat": 4,
 "nbformat_minor": 0
}
